{
 "cells": [
  {
   "cell_type": "markdown",
   "id": "21927790",
   "metadata": {},
   "source": [
    "## Boxplotting weather"
   ]
  },
  {
   "cell_type": "code",
   "execution_count": null,
   "id": "dc94831d",
   "metadata": {},
   "outputs": [],
   "source": [
    "import pandas as pd\n",
    "import numpy as np"
   ]
  },
  {
   "cell_type": "code",
   "execution_count": null,
   "id": "e6759fe8",
   "metadata": {},
   "outputs": [],
   "source": [
    "df = pd.read_csv('../data/chicago,il.csv',\n",
    "                 usecols=[0, 1,2],\n",
    "                 header=0,\n",
    "                 names=['date_time', 'maxtemp', 'mintemp'],\n",
    "                 parse_dates=['date_time'],\n",
    "                 index_col=['date_time'])"
   ]
  },
  {
   "cell_type": "code",
   "execution_count": null,
   "id": "3800a993",
   "metadata": {},
   "outputs": [],
   "source": [
    "df.head()"
   ]
  },
  {
   "cell_type": "code",
   "execution_count": null,
   "id": "ee03cad4",
   "metadata": {},
   "outputs": [],
   "source": [
    "df['maxtemp'].plot.box()"
   ]
  },
  {
   "cell_type": "code",
   "execution_count": null,
   "id": "d71d91b2",
   "metadata": {},
   "outputs": [],
   "source": [
    "df['mintemp'].plot.box()"
   ]
  },
  {
   "cell_type": "code",
   "execution_count": null,
   "id": "39a0f33b",
   "metadata": {},
   "outputs": [],
   "source": [
    "iqr = df['mintemp'].quantile(0.75) - df['mintemp'].quantile(0.25)\n",
    "\n",
    "(\n",
    "    df.loc[\n",
    "        df['mintemp'] < df['mintemp'].mean() - (iqr * 1.5),\n",
    "        'mintemp'\n",
    "        ]\n",
    ")"
   ]
  },
  {
   "cell_type": "code",
   "execution_count": null,
   "id": "59f4870c",
   "metadata": {},
   "outputs": [],
   "source": [
    "p = (\n",
    "    df\n",
    "    .loc['01-Feb-2019':'28-Feb-2019', \n",
    "    'mintemp']\n",
    "    .plot.box()\n",
    ")"
   ]
  },
  {
   "cell_type": "code",
   "execution_count": null,
   "id": "086b8f99",
   "metadata": {},
   "outputs": [],
   "source": [
    "p = (\n",
    "    df\n",
    "    .loc['01-Feb-2019':'30-Mar-2019', \n",
    "        ['mintemp','maxtemp']]\n",
    "    .plot.box()\n",
    ")"
   ]
  },
  {
   "cell_type": "code",
   "execution_count": null,
   "id": "ad7e7b59",
   "metadata": {},
   "outputs": [],
   "source": [
    "wdf = pd.read_csv('../cpt 7 Advanced grouping, joining, and sorting/weather.csv',\n",
    "                  low_memory= False,\n",
    "                  usecols= [0,1,2,25,26,49,50,73,74,97,98,121,122,145,146,169,170],\n",
    "                  parse_dates=[0],\n",
    "                  index_col=[0]\n",
    "                  )\n",
    "wdf.head()"
   ]
  },
  {
   "cell_type": "code",
   "execution_count": null,
   "id": "8d794fa4",
   "metadata": {},
   "outputs": [],
   "source": [
    "df.plot.line(figsize=(19,10))"
   ]
  },
  {
   "cell_type": "code",
   "execution_count": null,
   "id": "269a5a4f",
   "metadata": {},
   "outputs": [],
   "source": [
    "wdf.columns "
   ]
  },
  {
   "cell_type": "code",
   "execution_count": null,
   "id": "5686c847",
   "metadata": {},
   "outputs": [],
   "source": [
    "df.info()"
   ]
  },
  {
   "cell_type": "code",
   "execution_count": null,
   "id": "811315ae",
   "metadata": {},
   "outputs": [],
   "source": [
    "df = df.reset_index()"
   ]
  },
  {
   "cell_type": "code",
   "execution_count": null,
   "id": "a7db0866",
   "metadata": {},
   "outputs": [],
   "source": [
    "df['year'] = df['date_time'].dt.date\n",
    "df['time'] = df['date_time'].dt.time\n",
    "\n",
    "df = df.set_index('year')\n",
    "df.head(5)"
   ]
  },
  {
   "cell_type": "code",
   "execution_count": null,
   "id": "ac285e06",
   "metadata": {},
   "outputs": [],
   "source": [
    "df.info()"
   ]
  },
  {
   "cell_type": "code",
   "execution_count": null,
   "id": "fa57c7d8",
   "metadata": {},
   "outputs": [],
   "source": [
    "df = df.drop(columns= 'date_time')\n"
   ]
  },
  {
   "cell_type": "code",
   "execution_count": null,
   "id": "af4eadde",
   "metadata": {},
   "outputs": [],
   "source": [
    "df.groupby('year')[['maxtemp','mintemp']].mean().plot.line(subplots=True)"
   ]
  },
  {
   "cell_type": "code",
   "execution_count": null,
   "id": "f96fb3e8",
   "metadata": {},
   "outputs": [],
   "source": [
    "wdf.plot.line(figsize = (10,120), subplots= True)"
   ]
  },
  {
   "cell_type": "code",
   "execution_count": null,
   "id": "d7f5c7cb",
   "metadata": {},
   "outputs": [],
   "source": [
    "wdf = wdf.reset_index()"
   ]
  },
  {
   "cell_type": "code",
   "execution_count": null,
   "id": "25c12561",
   "metadata": {},
   "outputs": [],
   "source": [
    "wdf['year'] = wdf['date_time'].dt.date\n",
    "wdf = wdf.set_index('year')\n",
    "w = wdf.groupby('year')[['san_francisco_ca_maxtempC',\n",
    "       'san_francisco_ca_mintempC', 'new_york_ny_maxtempC',\n",
    "       'new_york_ny_mintempC', 'springfield_ma_maxtempC',\n",
    "       'springfield_ma_mintempC', 'boston_ma_maxtempC', 'boston_ma_mintempC',\n",
    "       'springfield_il_maxtempC', 'springfield_il_mintempC',\n",
    "       'albany_ny_maxtempC', 'albany_ny_mintempC', 'los_angeles_ca_maxtempC',\n",
    "       'los_angeles_ca_mintempC', 'chicago_il_maxtempC',\n",
    "       'chicago_il_mintempC']].mean()\n",
    "\n"
   ]
  },
  {
   "cell_type": "code",
   "execution_count": null,
   "id": "c10ff0f5",
   "metadata": {},
   "outputs": [],
   "source": [
    "w.plot.line(figsize = (14,60),subplots=True)"
   ]
  },
  {
   "cell_type": "code",
   "execution_count": null,
   "id": "15bdd099",
   "metadata": {},
   "outputs": [],
   "source": [
    "w.plot.area(figsize = (14,60),subplots=True)"
   ]
  },
  {
   "cell_type": "code",
   "execution_count": null,
   "id": "efb72efa",
   "metadata": {},
   "outputs": [],
   "source": [
    "w.plot.bar(figsize = (19,60),subplots=True)"
   ]
  },
  {
   "cell_type": "code",
   "execution_count": null,
   "id": "e28f12f5",
   "metadata": {},
   "outputs": [],
   "source": [
    "w.plot.line(figsize = (14,60),subplots=True)"
   ]
  },
  {
   "cell_type": "code",
   "execution_count": null,
   "id": "ed337cae",
   "metadata": {},
   "outputs": [],
   "source": [
    "w.plot.hist(figsize = (16, 10),subplots=True)"
   ]
  },
  {
   "cell_type": "code",
   "execution_count": null,
   "id": "6cc80c42",
   "metadata": {},
   "outputs": [],
   "source": [
    "pd.read_csv('../data/weather.csv', index_col=[0], parse_dates=[0]).plot.line(figsize = (20,420), subplots= True)"
   ]
  },
  {
   "cell_type": "markdown",
   "id": "f71d4e48",
   "metadata": {},
   "source": [
    "## did many things. "
   ]
  }
 ],
 "metadata": {
  "kernelspec": {
   "display_name": "Python 3",
   "language": "python",
   "name": "python3"
  },
  "language_info": {
   "codemirror_mode": {
    "name": "ipython",
    "version": 3
   },
   "file_extension": ".py",
   "mimetype": "text/x-python",
   "name": "python",
   "nbconvert_exporter": "python",
   "pygments_lexer": "ipython3",
   "version": "3.13.5"
  }
 },
 "nbformat": 4,
 "nbformat_minor": 5
}
