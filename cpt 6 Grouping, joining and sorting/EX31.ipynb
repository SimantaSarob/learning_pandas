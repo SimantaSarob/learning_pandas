{
 "cells": [
  {
   "cell_type": "code",
   "execution_count": 21,
   "id": "92c10e6f",
   "metadata": {},
   "outputs": [],
   "source": [
    "import pandas as pd\n"
   ]
  },
  {
   "cell_type": "code",
   "execution_count": 22,
   "id": "f371ca96",
   "metadata": {},
   "outputs": [
    {
     "data": {
      "text/html": [
       "<div>\n",
       "<style scoped>\n",
       "    .dataframe tbody tr th:only-of-type {\n",
       "        vertical-align: middle;\n",
       "    }\n",
       "\n",
       "    .dataframe tbody tr th {\n",
       "        vertical-align: top;\n",
       "    }\n",
       "\n",
       "    .dataframe thead th {\n",
       "        text-align: right;\n",
       "    }\n",
       "</style>\n",
       "<table border=\"1\" class=\"dataframe\">\n",
       "  <thead>\n",
       "    <tr style=\"text-align: right;\">\n",
       "      <th></th>\n",
       "      <th>LOCATION</th>\n",
       "      <th>SUBJECT</th>\n",
       "      <th>TIME</th>\n",
       "      <th>Value</th>\n",
       "    </tr>\n",
       "  </thead>\n",
       "  <tbody>\n",
       "    <tr>\n",
       "      <th>0</th>\n",
       "      <td>AUS</td>\n",
       "      <td>INT_REC</td>\n",
       "      <td>2008</td>\n",
       "      <td>31159.800</td>\n",
       "    </tr>\n",
       "    <tr>\n",
       "      <th>1</th>\n",
       "      <td>AUS</td>\n",
       "      <td>INT_REC</td>\n",
       "      <td>2009</td>\n",
       "      <td>29980.700</td>\n",
       "    </tr>\n",
       "    <tr>\n",
       "      <th>2</th>\n",
       "      <td>AUS</td>\n",
       "      <td>INT_REC</td>\n",
       "      <td>2010</td>\n",
       "      <td>35165.500</td>\n",
       "    </tr>\n",
       "    <tr>\n",
       "      <th>3</th>\n",
       "      <td>AUS</td>\n",
       "      <td>INT_REC</td>\n",
       "      <td>2011</td>\n",
       "      <td>38710.100</td>\n",
       "    </tr>\n",
       "    <tr>\n",
       "      <th>4</th>\n",
       "      <td>AUS</td>\n",
       "      <td>INT_REC</td>\n",
       "      <td>2012</td>\n",
       "      <td>38003.700</td>\n",
       "    </tr>\n",
       "    <tr>\n",
       "      <th>...</th>\n",
       "      <td>...</td>\n",
       "      <td>...</td>\n",
       "      <td>...</td>\n",
       "      <td>...</td>\n",
       "    </tr>\n",
       "    <tr>\n",
       "      <th>1229</th>\n",
       "      <td>SRB</td>\n",
       "      <td>INT-EXP</td>\n",
       "      <td>2015</td>\n",
       "      <td>1253.644</td>\n",
       "    </tr>\n",
       "    <tr>\n",
       "      <th>1230</th>\n",
       "      <td>SRB</td>\n",
       "      <td>INT-EXP</td>\n",
       "      <td>2016</td>\n",
       "      <td>1351.098</td>\n",
       "    </tr>\n",
       "    <tr>\n",
       "      <th>1231</th>\n",
       "      <td>SRB</td>\n",
       "      <td>INT-EXP</td>\n",
       "      <td>2017</td>\n",
       "      <td>1549.183</td>\n",
       "    </tr>\n",
       "    <tr>\n",
       "      <th>1232</th>\n",
       "      <td>SRB</td>\n",
       "      <td>INT-EXP</td>\n",
       "      <td>2018</td>\n",
       "      <td>1837.317</td>\n",
       "    </tr>\n",
       "    <tr>\n",
       "      <th>1233</th>\n",
       "      <td>SRB</td>\n",
       "      <td>INT-EXP</td>\n",
       "      <td>2019</td>\n",
       "      <td>1999.313</td>\n",
       "    </tr>\n",
       "  </tbody>\n",
       "</table>\n",
       "<p>1234 rows × 4 columns</p>\n",
       "</div>"
      ],
      "text/plain": [
       "     LOCATION  SUBJECT  TIME      Value\n",
       "0         AUS  INT_REC  2008  31159.800\n",
       "1         AUS  INT_REC  2009  29980.700\n",
       "2         AUS  INT_REC  2010  35165.500\n",
       "3         AUS  INT_REC  2011  38710.100\n",
       "4         AUS  INT_REC  2012  38003.700\n",
       "...       ...      ...   ...        ...\n",
       "1229      SRB  INT-EXP  2015   1253.644\n",
       "1230      SRB  INT-EXP  2016   1351.098\n",
       "1231      SRB  INT-EXP  2017   1549.183\n",
       "1232      SRB  INT-EXP  2018   1837.317\n",
       "1233      SRB  INT-EXP  2019   1999.313\n",
       "\n",
       "[1234 rows x 4 columns]"
      ]
     },
     "execution_count": 22,
     "metadata": {},
     "output_type": "execute_result"
    }
   ],
   "source": [
    "tourism_df = pd.read_csv(\"../data/oecd_tourism.csv\",\n",
    "                 usecols= ['LOCATION',\n",
    "                           'SUBJECT',\n",
    "                           'TIME',\n",
    "                           'Value'])\n",
    "tourism_df"
   ]
  },
  {
   "cell_type": "code",
   "execution_count": 23,
   "id": "f8f284dd",
   "metadata": {},
   "outputs": [
    {
     "data": {
      "text/plain": [
       "np.float64(18876.11070502431)"
      ]
     },
     "execution_count": 23,
     "metadata": {},
     "output_type": "execute_result"
    }
   ],
   "source": [
    "(\n",
    "    tourism_df\n",
    "    .loc[tourism_df['SUBJECT'] == 'INT_REC']\n",
    "    ['Value']\n",
    "    .mean()\n",
    ")"
   ]
  },
  {
   "cell_type": "code",
   "execution_count": 24,
   "id": "a05b0500",
   "metadata": {},
   "outputs": [
    {
     "data": {
      "text/plain": [
       "LOCATION\n",
       "AUS     38540.900000\n",
       "AUT     21413.209091\n",
       "BEL     12190.591636\n",
       "BGR      4343.541417\n",
       "BRA      6321.476083\n",
       "CAN     24202.591667\n",
       "CHE     16481.041667\n",
       "CHL      3163.441667\n",
       "CHN     43554.309417\n",
       "COL      4778.975000\n",
       "CRI      3174.100000\n",
       "CZE      7909.922273\n",
       "DEU     53408.570636\n",
       "DNK      9398.957636\n",
       "EGY      9850.430833\n",
       "ESP     69655.817364\n",
       "EST      1848.067364\n",
       "FIN      4700.236273\n",
       "FRA     65063.335727\n",
       "GBR     51752.090909\n",
       "GRC     16908.736000\n",
       "HRV      9286.770000\n",
       "HUN      7299.353000\n",
       "IDN     11484.960000\n",
       "IND     20606.844083\n",
       "IRL     10535.157364\n",
       "ISL      2397.367455\n",
       "ISR      6542.383250\n",
       "ITA     44930.211545\n",
       "JPN     25015.858333\n",
       "KAZ      1979.881333\n",
       "KOR     17780.754545\n",
       "LTU      1426.155556\n",
       "LUX      5122.330727\n",
       "LVA      1215.036364\n",
       "MAR      8684.227500\n",
       "MEX     16564.354545\n",
       "MLT      1607.669250\n",
       "NLD     20042.627273\n",
       "NOR      5188.772727\n",
       "NZL      9593.466667\n",
       "PER      3596.176667\n",
       "PHL      5910.688833\n",
       "POL     12231.065182\n",
       "PRT     16470.353909\n",
       "ROU      2340.742833\n",
       "RUS     16131.481818\n",
       "SRB      1356.921333\n",
       "SVK      2683.343727\n",
       "SVN      2913.229364\n",
       "SWE     13373.514000\n",
       "TUR     31582.090909\n",
       "USA    201613.500000\n",
       "ZAF      9794.813167\n",
       "Name: Value, dtype: float64"
      ]
     },
     "execution_count": 24,
     "metadata": {},
     "output_type": "execute_result"
    }
   ],
   "source": [
    "(\n",
    "    tourism_df\n",
    "    .loc[tourism_df['SUBJECT'] == 'INT_REC']\n",
    "    .groupby('LOCATION')['Value']\n",
    "    .mean()\n",
    ")"
   ]
  },
  {
   "cell_type": "code",
   "execution_count": 25,
   "id": "69d73f21",
   "metadata": {},
   "outputs": [
    {
     "data": {
      "text/plain": [
       "LOCATION\n",
       "USA    201613.500000\n",
       "ESP     69655.817364\n",
       "FRA     65063.335727\n",
       "DEU     53408.570636\n",
       "GBR     51752.090909\n",
       "Name: Value, dtype: float64"
      ]
     },
     "execution_count": 25,
     "metadata": {},
     "output_type": "execute_result"
    }
   ],
   "source": [
    "(\n",
    "    tourism_df\n",
    "    .loc[tourism_df['SUBJECT'] == 'INT_REC']\n",
    "    .groupby('LOCATION')['Value']\n",
    "    .mean()\n",
    "    .sort_values(ascending=False)\n",
    "    .head()\n",
    ")"
   ]
  },
  {
   "cell_type": "code",
   "execution_count": 26,
   "id": "170de233",
   "metadata": {},
   "outputs": [
    {
     "data": {
      "text/plain": [
       "LOCATION\n",
       "MLT     387.801667\n",
       "CRI     867.075000\n",
       "LVA     919.545455\n",
       "ISL    1072.819636\n",
       "HRV    1115.628083\n",
       "Name: Value, dtype: float64"
      ]
     },
     "execution_count": 26,
     "metadata": {},
     "output_type": "execute_result"
    }
   ],
   "source": [
    "(\n",
    "    tourism_df\n",
    "    .loc[tourism_df['SUBJECT'] == 'INT-EXP']\n",
    "    .groupby('LOCATION')['Value']\n",
    "    .mean()\n",
    "    .sort_values()\n",
    "    .head()\n",
    ")"
   ]
  },
  {
   "cell_type": "code",
   "execution_count": 27,
   "id": "f6c60747",
   "metadata": {},
   "outputs": [
    {
     "data": {
      "text/html": [
       "<div>\n",
       "<style scoped>\n",
       "    .dataframe tbody tr th:only-of-type {\n",
       "        vertical-align: middle;\n",
       "    }\n",
       "\n",
       "    .dataframe tbody tr th {\n",
       "        vertical-align: top;\n",
       "    }\n",
       "\n",
       "    .dataframe thead th {\n",
       "        text-align: right;\n",
       "    }\n",
       "</style>\n",
       "<table border=\"1\" class=\"dataframe\">\n",
       "  <thead>\n",
       "    <tr style=\"text-align: right;\">\n",
       "      <th></th>\n",
       "      <th>NAME</th>\n",
       "    </tr>\n",
       "    <tr>\n",
       "      <th>LOCATION</th>\n",
       "      <th></th>\n",
       "    </tr>\n",
       "  </thead>\n",
       "  <tbody>\n",
       "    <tr>\n",
       "      <th>AUS</th>\n",
       "      <td>Australia</td>\n",
       "    </tr>\n",
       "    <tr>\n",
       "      <th>AUT</th>\n",
       "      <td>Austria</td>\n",
       "    </tr>\n",
       "    <tr>\n",
       "      <th>BEL</th>\n",
       "      <td>Belgium</td>\n",
       "    </tr>\n",
       "    <tr>\n",
       "      <th>CAN</th>\n",
       "      <td>Canada</td>\n",
       "    </tr>\n",
       "    <tr>\n",
       "      <th>DNK</th>\n",
       "      <td>Denmark</td>\n",
       "    </tr>\n",
       "  </tbody>\n",
       "</table>\n",
       "</div>"
      ],
      "text/plain": [
       "               NAME\n",
       "LOCATION           \n",
       "AUS       Australia\n",
       "AUT         Austria\n",
       "BEL         Belgium\n",
       "CAN          Canada\n",
       "DNK         Denmark"
      ]
     },
     "execution_count": 27,
     "metadata": {},
     "output_type": "execute_result"
    }
   ],
   "source": [
    "locations_df = pd.read_csv('../data/oecd_locations.csv',\n",
    "                           header=None,\n",
    "                           names=['LOCATION', 'NAME'],\n",
    "                           index_col='LOCATION')\n",
    "\n",
    "locations_df.head()"
   ]
  },
  {
   "cell_type": "code",
   "execution_count": 28,
   "id": "f6ff9ebd",
   "metadata": {},
   "outputs": [
    {
     "data": {
      "text/html": [
       "<div>\n",
       "<style scoped>\n",
       "    .dataframe tbody tr th:only-of-type {\n",
       "        vertical-align: middle;\n",
       "    }\n",
       "\n",
       "    .dataframe tbody tr th {\n",
       "        vertical-align: top;\n",
       "    }\n",
       "\n",
       "    .dataframe thead th {\n",
       "        text-align: right;\n",
       "    }\n",
       "</style>\n",
       "<table border=\"1\" class=\"dataframe\">\n",
       "  <thead>\n",
       "    <tr style=\"text-align: right;\">\n",
       "      <th></th>\n",
       "      <th>NAME</th>\n",
       "      <th>SUBJECT</th>\n",
       "      <th>TIME</th>\n",
       "      <th>Value</th>\n",
       "    </tr>\n",
       "    <tr>\n",
       "      <th>LOCATION</th>\n",
       "      <th></th>\n",
       "      <th></th>\n",
       "      <th></th>\n",
       "      <th></th>\n",
       "    </tr>\n",
       "  </thead>\n",
       "  <tbody>\n",
       "    <tr>\n",
       "      <th>AUS</th>\n",
       "      <td>Australia</td>\n",
       "      <td>INT_REC</td>\n",
       "      <td>2008</td>\n",
       "      <td>31159.8</td>\n",
       "    </tr>\n",
       "    <tr>\n",
       "      <th>AUS</th>\n",
       "      <td>Australia</td>\n",
       "      <td>INT_REC</td>\n",
       "      <td>2009</td>\n",
       "      <td>29980.7</td>\n",
       "    </tr>\n",
       "    <tr>\n",
       "      <th>AUS</th>\n",
       "      <td>Australia</td>\n",
       "      <td>INT_REC</td>\n",
       "      <td>2010</td>\n",
       "      <td>35165.5</td>\n",
       "    </tr>\n",
       "    <tr>\n",
       "      <th>AUS</th>\n",
       "      <td>Australia</td>\n",
       "      <td>INT_REC</td>\n",
       "      <td>2011</td>\n",
       "      <td>38710.1</td>\n",
       "    </tr>\n",
       "    <tr>\n",
       "      <th>AUS</th>\n",
       "      <td>Australia</td>\n",
       "      <td>INT_REC</td>\n",
       "      <td>2012</td>\n",
       "      <td>38003.7</td>\n",
       "    </tr>\n",
       "  </tbody>\n",
       "</table>\n",
       "</div>"
      ],
      "text/plain": [
       "               NAME  SUBJECT  TIME    Value\n",
       "LOCATION                                   \n",
       "AUS       Australia  INT_REC  2008  31159.8\n",
       "AUS       Australia  INT_REC  2009  29980.7\n",
       "AUS       Australia  INT_REC  2010  35165.5\n",
       "AUS       Australia  INT_REC  2011  38710.1\n",
       "AUS       Australia  INT_REC  2012  38003.7"
      ]
     },
     "execution_count": 28,
     "metadata": {},
     "output_type": "execute_result"
    }
   ],
   "source": [
    "fullname_df = locations_df.join(tourism_df.set_index('LOCATION'))\n",
    "fullname_df.head()"
   ]
  },
  {
   "cell_type": "code",
   "execution_count": 29,
   "id": "e3dc4bee",
   "metadata": {},
   "outputs": [
    {
     "data": {
      "text/plain": [
       "NAME\n",
       "United States     201613.500000\n",
       "France             65063.335727\n",
       "Germany            53408.570636\n",
       "United Kingdom     51752.090909\n",
       "Italy              44930.211545\n",
       "Australia          38540.900000\n",
       "Japan              25015.858333\n",
       "Canada             24202.591667\n",
       "Austria            21413.209091\n",
       "Korea              17780.754545\n",
       "Belgium            12190.591636\n",
       "Denmark             9398.957636\n",
       "Hungary             7299.353000\n",
       "Israel              6542.383250\n",
       "Brazil              6321.476083\n",
       "Finland             4700.236273\n",
       "Name: Value, dtype: float64"
      ]
     },
     "execution_count": 29,
     "metadata": {},
     "output_type": "execute_result"
    }
   ],
   "source": [
    "(\n",
    "    fullname_df\n",
    "    .loc[fullname_df['SUBJECT'] == 'INT_REC']\n",
    "    .groupby('NAME')['Value']\n",
    "    .mean()\n",
    "    .sort_values(ascending=False)\n",
    ")"
   ]
  }
 ],
 "metadata": {
  "kernelspec": {
   "display_name": "Python 3",
   "language": "python",
   "name": "python3"
  },
  "language_info": {
   "codemirror_mode": {
    "name": "ipython",
    "version": 3
   },
   "file_extension": ".py",
   "mimetype": "text/x-python",
   "name": "python",
   "nbconvert_exporter": "python",
   "pygments_lexer": "ipython3",
   "version": "3.13.5"
  }
 },
 "nbformat": 4,
 "nbformat_minor": 5
}
