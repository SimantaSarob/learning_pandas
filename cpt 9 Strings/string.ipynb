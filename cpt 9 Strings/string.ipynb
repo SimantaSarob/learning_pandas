{
 "cells": [
  {
   "cell_type": "code",
   "execution_count": 4,
   "id": "698a8ac2",
   "metadata": {},
   "outputs": [],
   "source": [
    "import pandas as pd"
   ]
  },
  {
   "cell_type": "code",
   "execution_count": 7,
   "id": "a430d153",
   "metadata": {},
   "outputs": [
    {
     "data": {
      "text/plain": [
       "0    4\n",
       "1    2\n",
       "2    1\n",
       "3    4\n",
       "4    3\n",
       "5    3\n",
       "6    3\n",
       "7    5\n",
       "8    2\n",
       "dtype: int64"
      ]
     },
     "execution_count": 7,
     "metadata": {},
     "output_type": "execute_result"
    }
   ],
   "source": [
    "s = pd.Series('this is a test 123 456 and going on'.split())\n",
    "s.str.len()"
   ]
  },
  {
   "cell_type": "code",
   "execution_count": 8,
   "id": "377529fa",
   "metadata": {},
   "outputs": [
    {
     "data": {
      "text/plain": [
       "0    False\n",
       "1    False\n",
       "2    False\n",
       "3    False\n",
       "4     True\n",
       "5     True\n",
       "6    False\n",
       "7    False\n",
       "8    False\n",
       "dtype: bool"
      ]
     },
     "execution_count": 8,
     "metadata": {},
     "output_type": "execute_result"
    }
   ],
   "source": [
    "s.str.isdigit()"
   ]
  },
  {
   "cell_type": "code",
   "execution_count": 9,
   "id": "0ef0f9b8",
   "metadata": {},
   "outputs": [
    {
     "data": {
      "text/plain": [
       "4    123\n",
       "5    456\n",
       "dtype: object"
      ]
     },
     "execution_count": 9,
     "metadata": {},
     "output_type": "execute_result"
    }
   ],
   "source": [
    "s.loc[s.str.isdigit()]"
   ]
  },
  {
   "cell_type": "code",
   "execution_count": 11,
   "id": "39ba5b5f",
   "metadata": {},
   "outputs": [
    {
     "data": {
      "text/plain": [
       "0    False\n",
       "1    False\n",
       "2     True\n",
       "3     True\n",
       "4    False\n",
       "5    False\n",
       "6     True\n",
       "7    False\n",
       "8    False\n",
       "dtype: bool"
      ]
     },
     "execution_count": 11,
     "metadata": {},
     "output_type": "execute_result"
    }
   ],
   "source": [
    "s.str.contains('[ae]') # searching set of charecters. "
   ]
  },
  {
   "cell_type": "code",
   "execution_count": 12,
   "id": "3dd16eeb",
   "metadata": {},
   "outputs": [
    {
     "data": {
      "text/plain": [
       "2       a\n",
       "3    test\n",
       "6     and\n",
       "dtype: object"
      ]
     },
     "execution_count": 12,
     "metadata": {},
     "output_type": "execute_result"
    }
   ],
   "source": [
    "s.loc[s.str.contains('[ae]')]"
   ]
  },
  {
   "cell_type": "code",
   "execution_count": 13,
   "id": "2d8f30c7",
   "metadata": {},
   "outputs": [
    {
     "data": {
      "text/plain": [
       "2       a\n",
       "3    test\n",
       "6     and\n",
       "dtype: object"
      ]
     },
     "execution_count": 13,
     "metadata": {},
     "output_type": "execute_result"
    }
   ],
   "source": [
    "s[s.str.contains('[ae]', regex=True)]"
   ]
  }
 ],
 "metadata": {
  "kernelspec": {
   "display_name": "Python 3",
   "language": "python",
   "name": "python3"
  },
  "language_info": {
   "codemirror_mode": {
    "name": "ipython",
    "version": 3
   },
   "file_extension": ".py",
   "mimetype": "text/x-python",
   "name": "python",
   "nbconvert_exporter": "python",
   "pygments_lexer": "ipython3",
   "version": "3.13.5"
  }
 },
 "nbformat": 4,
 "nbformat_minor": 5
}
