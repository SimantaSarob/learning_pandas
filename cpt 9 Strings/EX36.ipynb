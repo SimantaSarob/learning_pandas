{
 "cells": [
  {
   "cell_type": "markdown",
   "id": "27f224d4",
   "metadata": {},
   "source": [
    "# Analyzing Alice"
   ]
  },
  {
   "cell_type": "code",
   "execution_count": 28,
   "id": "b81ba223",
   "metadata": {},
   "outputs": [],
   "source": [
    "import pandas as pd\n",
    "import string\n",
    "import numpy as np"
   ]
  },
  {
   "cell_type": "code",
   "execution_count": 17,
   "id": "c7666a2b",
   "metadata": {},
   "outputs": [],
   "source": [
    "s = pd.Series(open('../data/alice-in-wonderland.txt').read().split())"
   ]
  },
  {
   "cell_type": "code",
   "execution_count": 9,
   "id": "3f00237d",
   "metadata": {},
   "outputs": [
    {
     "data": {
      "text/plain": [
       "the    732\n",
       "and    362\n",
       "a      321\n",
       "to     311\n",
       "of     300\n",
       "Name: count, dtype: int64"
      ]
     },
     "execution_count": 9,
     "metadata": {},
     "output_type": "execute_result"
    }
   ],
   "source": [
    "s.value_counts().sort_values(ascending= False).head()"
   ]
  },
  {
   "cell_type": "code",
   "execution_count": 10,
   "id": "b93a4c19",
   "metadata": {},
   "outputs": [
    {
     "data": {
      "text/plain": [
       "the    792\n",
       "and    379\n",
       "a      325\n",
       "to     318\n",
       "of     313\n",
       "Name: count, dtype: int64"
      ]
     },
     "execution_count": 10,
     "metadata": {},
     "output_type": "execute_result"
    }
   ],
   "source": [
    "s.str.lower().value_counts().sort_values(ascending= False).head()"
   ]
  },
  {
   "cell_type": "code",
   "execution_count": 22,
   "id": "d0793883",
   "metadata": {},
   "outputs": [
    {
     "data": {
      "text/plain": [
       "the    735\n",
       "and    384\n",
       "a      322\n",
       "to     320\n",
       "of     303\n",
       "Name: count, dtype: int64"
      ]
     },
     "execution_count": 22,
     "metadata": {},
     "output_type": "execute_result"
    }
   ],
   "source": [
    "s.str.strip(string.punctuation).value_counts().sort_values(ascending= False).head()"
   ]
  },
  {
   "cell_type": "code",
   "execution_count": 18,
   "id": "e7ddc628",
   "metadata": {},
   "outputs": [
    {
     "data": {
      "text/plain": [
       "0        False\n",
       "1         True\n",
       "2         True\n",
       "3         True\n",
       "4        False\n",
       "         ...  \n",
       "12758    False\n",
       "12759    False\n",
       "12760    False\n",
       "12761    False\n",
       "12762    False\n",
       "Length: 12763, dtype: bool"
      ]
     },
     "execution_count": 18,
     "metadata": {},
     "output_type": "execute_result"
    }
   ],
   "source": [
    "s.str.contains('^[A-Z]\\w*$', regex=True)"
   ]
  },
  {
   "cell_type": "code",
   "execution_count": 23,
   "id": "69d376c1",
   "metadata": {},
   "outputs": [
    {
     "data": {
      "text/plain": [
       "np.int64(1100)"
      ]
     },
     "execution_count": 23,
     "metadata": {},
     "output_type": "execute_result"
    }
   ],
   "source": [
    "s.loc[s.str.contains('^[A-Z]\\w*$',regex=True)].count()"
   ]
  },
  {
   "cell_type": "code",
   "execution_count": 24,
   "id": "cb355198",
   "metadata": {},
   "outputs": [
    {
     "data": {
      "text/plain": [
       "np.int64(1686)"
      ]
     },
     "execution_count": 24,
     "metadata": {},
     "output_type": "execute_result"
    }
   ],
   "source": [
    "s.loc[s.str.strip(string.punctuation).str.contains('^[A-Z]\\w*$',regex=True)].count()"
   ]
  },
  {
   "cell_type": "code",
   "execution_count": 25,
   "id": "1a4bbc25",
   "metadata": {},
   "outputs": [],
   "source": [
    "def count_vowels(one_word):\n",
    "    total = 0\n",
    "    for one_letter in one_word:\n",
    "        if one_letter in 'aeiou':\n",
    "            total = total + 1\n",
    "    \n",
    "    return total"
   ]
  },
  {
   "cell_type": "code",
   "execution_count": 27,
   "id": "77d32f65",
   "metadata": {},
   "outputs": [
    {
     "data": {
      "text/plain": [
       "np.float64(1.578939120896341)"
      ]
     },
     "execution_count": 27,
     "metadata": {},
     "output_type": "execute_result"
    }
   ],
   "source": [
    "s.apply(count_vowels).mean()"
   ]
  },
  {
   "cell_type": "code",
   "execution_count": 30,
   "id": "4ef5d11a",
   "metadata": {},
   "outputs": [
    {
     "data": {
      "text/plain": [
       "np.float64(8030.851851851852)"
      ]
     },
     "execution_count": 30,
     "metadata": {},
     "output_type": "execute_result"
    }
   ],
   "source": [
    "# what is the mean of all integers in Alice. \n",
    "\n",
    "s.str.strip(string.punctuation).loc[lambda S : S.str.isdigit()].astype(np.int64).mean()"
   ]
  },
  {
   "cell_type": "code",
   "execution_count": 52,
   "id": "29ed6d4f",
   "metadata": {},
   "outputs": [],
   "source": [
    "# What words in Alice dont appear in the dictionary? which are the five\n",
    "# most common such worda?\n",
    "\n",
    "words_s = pd.Series(open('../data/words.txt').read().lower().split('\\n'))\n",
    "s_ = s.str.strip(string.punctuation)\n",
    "\n",
    "## unsolved. "
   ]
  },
  {
   "cell_type": "code",
   "execution_count": 53,
   "id": "86857cab",
   "metadata": {},
   "outputs": [
    {
     "data": {
      "text/plain": [
       "count    393.000000\n",
       "mean      32.475827\n",
       "std       32.428415\n",
       "min        0.000000\n",
       "25%        7.000000\n",
       "50%       22.000000\n",
       "75%       48.000000\n",
       "max      169.000000\n",
       "dtype: float64"
      ]
     },
     "execution_count": 53,
     "metadata": {},
     "output_type": "execute_result"
    }
   ],
   "source": [
    "# what is the mean number of words per paragraph. \n",
    "\n",
    "s = pd.Series(open('../data/alice-in-wonderland.txt').read().split('\\n\\n'))\n",
    "\n",
    "s.str.split().str.len().describe()"
   ]
  }
 ],
 "metadata": {
  "kernelspec": {
   "display_name": "Python 3",
   "language": "python",
   "name": "python3"
  },
  "language_info": {
   "codemirror_mode": {
    "name": "ipython",
    "version": 3
   },
   "file_extension": ".py",
   "mimetype": "text/x-python",
   "name": "python",
   "nbconvert_exporter": "python",
   "pygments_lexer": "ipython3",
   "version": "3.13.5"
  }
 },
 "nbformat": 4,
 "nbformat_minor": 5
}
