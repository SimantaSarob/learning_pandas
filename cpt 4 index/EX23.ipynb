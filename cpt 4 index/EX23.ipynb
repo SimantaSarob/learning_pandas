{
 "cells": [
  {
   "cell_type": "code",
   "execution_count": 1,
   "id": "d7385bf4",
   "metadata": {},
   "outputs": [],
   "source": [
    "import pandas as pd\n"
   ]
  },
  {
   "cell_type": "code",
   "execution_count": 2,
   "id": "ffe19fc9",
   "metadata": {},
   "outputs": [
    {
     "data": {
      "text/html": [
       "<div>\n",
       "<style scoped>\n",
       "    .dataframe tbody tr th:only-of-type {\n",
       "        vertical-align: middle;\n",
       "    }\n",
       "\n",
       "    .dataframe tbody tr th {\n",
       "        vertical-align: top;\n",
       "    }\n",
       "\n",
       "    .dataframe thead th {\n",
       "        text-align: right;\n",
       "    }\n",
       "</style>\n",
       "<table border=\"1\" class=\"dataframe\">\n",
       "  <thead>\n",
       "    <tr style=\"text-align: right;\">\n",
       "      <th></th>\n",
       "      <th></th>\n",
       "      <th></th>\n",
       "      <th></th>\n",
       "      <th>Age</th>\n",
       "      <th>Height</th>\n",
       "      <th>Team</th>\n",
       "      <th>City</th>\n",
       "      <th>Medal</th>\n",
       "    </tr>\n",
       "    <tr>\n",
       "      <th>Year</th>\n",
       "      <th>Season</th>\n",
       "      <th>Sport</th>\n",
       "      <th>Event</th>\n",
       "      <th></th>\n",
       "      <th></th>\n",
       "      <th></th>\n",
       "      <th></th>\n",
       "      <th></th>\n",
       "    </tr>\n",
       "  </thead>\n",
       "  <tbody>\n",
       "    <tr>\n",
       "      <th rowspan=\"5\" valign=\"top\">1896</th>\n",
       "      <th rowspan=\"5\" valign=\"top\">Summer</th>\n",
       "      <th rowspan=\"5\" valign=\"top\">Athletics</th>\n",
       "      <th>Athletics Men's 1,500 metres</th>\n",
       "      <td>24.0</td>\n",
       "      <td>NaN</td>\n",
       "      <td>United States</td>\n",
       "      <td>Athina</td>\n",
       "      <td>Silver</td>\n",
       "    </tr>\n",
       "    <tr>\n",
       "      <th>Athletics Men's 1,500 metres</th>\n",
       "      <td>NaN</td>\n",
       "      <td>NaN</td>\n",
       "      <td>Greece</td>\n",
       "      <td>Athina</td>\n",
       "      <td>NaN</td>\n",
       "    </tr>\n",
       "    <tr>\n",
       "      <th>Athletics Men's 1,500 metres</th>\n",
       "      <td>22.0</td>\n",
       "      <td>NaN</td>\n",
       "      <td>Australia</td>\n",
       "      <td>Athina</td>\n",
       "      <td>Gold</td>\n",
       "    </tr>\n",
       "    <tr>\n",
       "      <th>Athletics Men's 1,500 metres</th>\n",
       "      <td>23.0</td>\n",
       "      <td>154.0</td>\n",
       "      <td>Germany</td>\n",
       "      <td>Athina</td>\n",
       "      <td>NaN</td>\n",
       "    </tr>\n",
       "    <tr>\n",
       "      <th>Athletics Men's 1,500 metres</th>\n",
       "      <td>21.0</td>\n",
       "      <td>NaN</td>\n",
       "      <td>Greece</td>\n",
       "      <td>Athina</td>\n",
       "      <td>NaN</td>\n",
       "    </tr>\n",
       "  </tbody>\n",
       "</table>\n",
       "</div>"
      ],
      "text/plain": [
       "                                                     Age  Height  \\\n",
       "Year Season Sport     Event                                        \n",
       "1896 Summer Athletics Athletics Men's 1,500 metres  24.0     NaN   \n",
       "                      Athletics Men's 1,500 metres   NaN     NaN   \n",
       "                      Athletics Men's 1,500 metres  22.0     NaN   \n",
       "                      Athletics Men's 1,500 metres  23.0   154.0   \n",
       "                      Athletics Men's 1,500 metres  21.0     NaN   \n",
       "\n",
       "                                                             Team    City  \\\n",
       "Year Season Sport     Event                                                 \n",
       "1896 Summer Athletics Athletics Men's 1,500 metres  United States  Athina   \n",
       "                      Athletics Men's 1,500 metres         Greece  Athina   \n",
       "                      Athletics Men's 1,500 metres      Australia  Athina   \n",
       "                      Athletics Men's 1,500 metres        Germany  Athina   \n",
       "                      Athletics Men's 1,500 metres         Greece  Athina   \n",
       "\n",
       "                                                     Medal  \n",
       "Year Season Sport     Event                                 \n",
       "1896 Summer Athletics Athletics Men's 1,500 metres  Silver  \n",
       "                      Athletics Men's 1,500 metres     NaN  \n",
       "                      Athletics Men's 1,500 metres    Gold  \n",
       "                      Athletics Men's 1,500 metres     NaN  \n",
       "                      Athletics Men's 1,500 metres     NaN  "
      ]
     },
     "execution_count": 2,
     "metadata": {},
     "output_type": "execute_result"
    }
   ],
   "source": [
    "df = pd.read_csv('../data/olympic_athlete_events.csv',\n",
    "                 index_col=['Year', 'Season', 'Sport', 'Event'],\n",
    "                 usecols=['Age', 'Height', 'Team', 'Year', 'Season', 'City', 'Sport', 'Event', 'Medal']\n",
    "                 )\n",
    "\n",
    "df = df.sort_index()\n",
    "df.head()"
   ]
  },
  {
   "cell_type": "code",
   "execution_count": 3,
   "id": "76281ca1",
   "metadata": {},
   "outputs": [
    {
     "data": {
      "text/plain": [
       "np.float64(25.026883940421765)"
      ]
     },
     "execution_count": 3,
     "metadata": {},
     "output_type": "execute_result"
    }
   ],
   "source": [
    "df.loc[(slice(1936,2000), 'Summer'), 'Age'].mean()"
   ]
  },
  {
   "cell_type": "code",
   "execution_count": 4,
   "id": "22025abe",
   "metadata": {},
   "outputs": [
    {
     "data": {
      "text/plain": [
       "Team\n",
       "South Korea           69\n",
       "Belgium               52\n",
       "France                48\n",
       "United States         41\n",
       "China                 19\n",
       "Italy                 15\n",
       "Great Britain         13\n",
       "Chinese Taipei         9\n",
       "Netherlands            9\n",
       "Ukraine                8\n",
       "Cincinnati Archers     8\n",
       "Japan                  7\n",
       "Germany                7\n",
       "Soviet Union           7\n",
       "Finland                6\n",
       "Australia              5\n",
       "Boston Archers         4\n",
       "Unified Team           4\n",
       "Potomac Archers        4\n",
       "Russia                 4\n",
       "Poland                 4\n",
       "Spain                  3\n",
       "Indonesia              3\n",
       "Sweden                 2\n",
       "Mexico                 2\n",
       "Name: count, dtype: int64"
      ]
     },
     "execution_count": 4,
     "metadata": {},
     "output_type": "execute_result"
    }
   ],
   "source": [
    "(\n",
    "    df\n",
    "    .dropna(subset='Medal')\n",
    "    .loc[(slice(None), 'Summer', 'Archery'), 'Team']\n",
    "    .value_counts()\n",
    ")"
   ]
  },
  {
   "cell_type": "code",
   "execution_count": 5,
   "id": "646caac4",
   "metadata": {},
   "outputs": [
    {
     "data": {
      "text/plain": [
       "Team\n",
       "South Korea           69\n",
       "Belgium               52\n",
       "France                48\n",
       "United States         41\n",
       "China                 19\n",
       "Italy                 15\n",
       "Great Britain         13\n",
       "Chinese Taipei         9\n",
       "Netherlands            9\n",
       "Ukraine                8\n",
       "Cincinnati Archers     8\n",
       "Japan                  7\n",
       "Germany                7\n",
       "Soviet Union           7\n",
       "Finland                6\n",
       "Australia              5\n",
       "Boston Archers         4\n",
       "Unified Team           4\n",
       "Potomac Archers        4\n",
       "Russia                 4\n",
       "Poland                 4\n",
       "Spain                  3\n",
       "Indonesia              3\n",
       "Sweden                 2\n",
       "Mexico                 2\n",
       "Name: count, dtype: int64"
      ]
     },
     "execution_count": 5,
     "metadata": {},
     "output_type": "execute_result"
    }
   ],
   "source": [
    "df_ = df.dropna(subset='Medal')\n",
    "df_.loc[(slice(None), 'Summer', 'Archery'), 'Team'].value_counts()"
   ]
  },
  {
   "cell_type": "code",
   "execution_count": 6,
   "id": "a0afc5fd",
   "metadata": {},
   "outputs": [
    {
     "data": {
      "text/plain": [
       "np.float64(165.04827586206898)"
      ]
     },
     "execution_count": 6,
     "metadata": {},
     "output_type": "execute_result"
    }
   ],
   "source": [
    "df.loc[(slice(1980, None), 'Summer', slice(None), \"Table Tennis Women's Team\"), 'Height'].mean()"
   ]
  },
  {
   "cell_type": "code",
   "execution_count": 7,
   "id": "5fd132f2",
   "metadata": {},
   "outputs": [
    {
     "data": {
      "text/plain": [
       "np.float64(171.26643598615917)"
      ]
     },
     "execution_count": 7,
     "metadata": {},
     "output_type": "execute_result"
    }
   ],
   "source": [
    "df.loc[(slice(1980, None), 'Summer', slice(None), [\"Table Tennis Men's Team\", \"Table Tennis Women's Team\"]), 'Height'].mean()"
   ]
  },
  {
   "cell_type": "code",
   "execution_count": 8,
   "id": "bbcd7389",
   "metadata": {},
   "outputs": [
    {
     "data": {
      "text/plain": [
       "np.float64(208.0)"
      ]
     },
     "execution_count": 8,
     "metadata": {},
     "output_type": "execute_result"
    }
   ],
   "source": [
    "df.loc[(slice(1980,2016), 'Summer', 'Tennis'), 'Height'].max()"
   ]
  },
  {
   "cell_type": "code",
   "execution_count": 9,
   "id": "2f2f7f9c",
   "metadata": {},
   "outputs": [
    {
     "data": {
      "text/plain": [
       "np.float64(208.0)"
      ]
     },
     "execution_count": 9,
     "metadata": {},
     "output_type": "execute_result"
    }
   ],
   "source": [
    "df = df.reset_index('Season')\n",
    "df.loc[(slice(1980,2020), 'Tennis'), 'Height'].max()"
   ]
  }
 ],
 "metadata": {
  "kernelspec": {
   "display_name": "Python 3",
   "language": "python",
   "name": "python3"
  },
  "language_info": {
   "codemirror_mode": {
    "name": "ipython",
    "version": 3
   },
   "file_extension": ".py",
   "mimetype": "text/x-python",
   "name": "python",
   "nbconvert_exporter": "python",
   "pygments_lexer": "ipython3",
   "version": "3.13.5"
  }
 },
 "nbformat": 4,
 "nbformat_minor": 5
}
