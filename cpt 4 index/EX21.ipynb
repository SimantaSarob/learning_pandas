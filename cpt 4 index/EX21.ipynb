{
 "cells": [
  {
   "cell_type": "markdown",
   "id": "9b6f9f88",
   "metadata": {},
   "source": [
    "## Parking ticket"
   ]
  },
  {
   "cell_type": "code",
   "execution_count": 1,
   "id": "18fd7a95",
   "metadata": {},
   "outputs": [],
   "source": [
    "import pandas as pd"
   ]
  },
  {
   "cell_type": "code",
   "execution_count": 2,
   "id": "0794e603",
   "metadata": {},
   "outputs": [],
   "source": [
    "df = pd.read_csv('../data/nyc-parking-violations-2020.csv',\n",
    "    usecols=[\n",
    "    'Date First Observed',\n",
    "    'Registration State', \n",
    "    'Plate ID',\n",
    "    'Issue Date', \n",
    "    'Vehicle Make',\n",
    "    'Street Name', \n",
    "    'Vehicle Color'])"
   ]
  },
  {
   "cell_type": "code",
   "execution_count": 3,
   "id": "50c3a03d",
   "metadata": {},
   "outputs": [
    {
     "data": {
      "text/html": [
       "<div>\n",
       "<style scoped>\n",
       "    .dataframe tbody tr th:only-of-type {\n",
       "        vertical-align: middle;\n",
       "    }\n",
       "\n",
       "    .dataframe tbody tr th {\n",
       "        vertical-align: top;\n",
       "    }\n",
       "\n",
       "    .dataframe thead th {\n",
       "        text-align: right;\n",
       "    }\n",
       "</style>\n",
       "<table border=\"1\" class=\"dataframe\">\n",
       "  <thead>\n",
       "    <tr style=\"text-align: right;\">\n",
       "      <th></th>\n",
       "      <th>Plate ID</th>\n",
       "      <th>Registration State</th>\n",
       "      <th>Issue Date</th>\n",
       "      <th>Vehicle Make</th>\n",
       "      <th>Street Name</th>\n",
       "      <th>Date First Observed</th>\n",
       "      <th>Vehicle Color</th>\n",
       "    </tr>\n",
       "  </thead>\n",
       "  <tbody>\n",
       "    <tr>\n",
       "      <th>0</th>\n",
       "      <td>J58JKX</td>\n",
       "      <td>NJ</td>\n",
       "      <td>05/08/1972 12:00:00 AM</td>\n",
       "      <td>HONDA</td>\n",
       "      <td>43 ST</td>\n",
       "      <td>0</td>\n",
       "      <td>BK</td>\n",
       "    </tr>\n",
       "    <tr>\n",
       "      <th>1</th>\n",
       "      <td>KRE6058</td>\n",
       "      <td>PA</td>\n",
       "      <td>08/29/1977 12:00:00 AM</td>\n",
       "      <td>ME/BE</td>\n",
       "      <td>UNION ST</td>\n",
       "      <td>0</td>\n",
       "      <td>BLK</td>\n",
       "    </tr>\n",
       "    <tr>\n",
       "      <th>2</th>\n",
       "      <td>444326R</td>\n",
       "      <td>NJ</td>\n",
       "      <td>10/03/1988 12:00:00 AM</td>\n",
       "      <td>LEXUS</td>\n",
       "      <td>CLERMONT AVENUE</td>\n",
       "      <td>0</td>\n",
       "      <td>BLACK</td>\n",
       "    </tr>\n",
       "    <tr>\n",
       "      <th>3</th>\n",
       "      <td>F728330</td>\n",
       "      <td>OH</td>\n",
       "      <td>01/03/1990 12:00:00 AM</td>\n",
       "      <td>CHEVR</td>\n",
       "      <td>DIVISION AVE</td>\n",
       "      <td>0</td>\n",
       "      <td>NaN</td>\n",
       "    </tr>\n",
       "    <tr>\n",
       "      <th>4</th>\n",
       "      <td>FMY9090</td>\n",
       "      <td>NY</td>\n",
       "      <td>02/14/1990 12:00:00 AM</td>\n",
       "      <td>JEEP</td>\n",
       "      <td>GRAND ST</td>\n",
       "      <td>0</td>\n",
       "      <td>GREY</td>\n",
       "    </tr>\n",
       "  </tbody>\n",
       "</table>\n",
       "</div>"
      ],
      "text/plain": [
       "  Plate ID Registration State              Issue Date Vehicle Make  \\\n",
       "0   J58JKX                 NJ  05/08/1972 12:00:00 AM        HONDA   \n",
       "1  KRE6058                 PA  08/29/1977 12:00:00 AM        ME/BE   \n",
       "2  444326R                 NJ  10/03/1988 12:00:00 AM        LEXUS   \n",
       "3  F728330                 OH  01/03/1990 12:00:00 AM        CHEVR   \n",
       "4  FMY9090                 NY  02/14/1990 12:00:00 AM         JEEP   \n",
       "\n",
       "       Street Name  Date First Observed Vehicle Color  \n",
       "0            43 ST                    0            BK  \n",
       "1         UNION ST                    0           BLK  \n",
       "2  CLERMONT AVENUE                    0         BLACK  \n",
       "3     DIVISION AVE                    0           NaN  \n",
       "4         GRAND ST                    0          GREY  "
      ]
     },
     "execution_count": 3,
     "metadata": {},
     "output_type": "execute_result"
    }
   ],
   "source": [
    "df.head(5)"
   ]
  },
  {
   "cell_type": "code",
   "execution_count": 4,
   "id": "020ab9bc",
   "metadata": {},
   "outputs": [],
   "source": [
    "df = df.set_index('Issue Date')"
   ]
  },
  {
   "cell_type": "code",
   "execution_count": 5,
   "id": "9c2a65d7",
   "metadata": {},
   "outputs": [
    {
     "data": {
      "text/html": [
       "<div>\n",
       "<style scoped>\n",
       "    .dataframe tbody tr th:only-of-type {\n",
       "        vertical-align: middle;\n",
       "    }\n",
       "\n",
       "    .dataframe tbody tr th {\n",
       "        vertical-align: top;\n",
       "    }\n",
       "\n",
       "    .dataframe thead th {\n",
       "        text-align: right;\n",
       "    }\n",
       "</style>\n",
       "<table border=\"1\" class=\"dataframe\">\n",
       "  <thead>\n",
       "    <tr style=\"text-align: right;\">\n",
       "      <th></th>\n",
       "      <th>Plate ID</th>\n",
       "      <th>Registration State</th>\n",
       "      <th>Vehicle Make</th>\n",
       "      <th>Street Name</th>\n",
       "      <th>Date First Observed</th>\n",
       "      <th>Vehicle Color</th>\n",
       "    </tr>\n",
       "    <tr>\n",
       "      <th>Issue Date</th>\n",
       "      <th></th>\n",
       "      <th></th>\n",
       "      <th></th>\n",
       "      <th></th>\n",
       "      <th></th>\n",
       "      <th></th>\n",
       "    </tr>\n",
       "  </thead>\n",
       "  <tbody>\n",
       "    <tr>\n",
       "      <th>05/08/1972 12:00:00 AM</th>\n",
       "      <td>J58JKX</td>\n",
       "      <td>NJ</td>\n",
       "      <td>HONDA</td>\n",
       "      <td>43 ST</td>\n",
       "      <td>0</td>\n",
       "      <td>BK</td>\n",
       "    </tr>\n",
       "    <tr>\n",
       "      <th>08/29/1977 12:00:00 AM</th>\n",
       "      <td>KRE6058</td>\n",
       "      <td>PA</td>\n",
       "      <td>ME/BE</td>\n",
       "      <td>UNION ST</td>\n",
       "      <td>0</td>\n",
       "      <td>BLK</td>\n",
       "    </tr>\n",
       "    <tr>\n",
       "      <th>10/03/1988 12:00:00 AM</th>\n",
       "      <td>444326R</td>\n",
       "      <td>NJ</td>\n",
       "      <td>LEXUS</td>\n",
       "      <td>CLERMONT AVENUE</td>\n",
       "      <td>0</td>\n",
       "      <td>BLACK</td>\n",
       "    </tr>\n",
       "    <tr>\n",
       "      <th>01/03/1990 12:00:00 AM</th>\n",
       "      <td>F728330</td>\n",
       "      <td>OH</td>\n",
       "      <td>CHEVR</td>\n",
       "      <td>DIVISION AVE</td>\n",
       "      <td>0</td>\n",
       "      <td>NaN</td>\n",
       "    </tr>\n",
       "    <tr>\n",
       "      <th>02/14/1990 12:00:00 AM</th>\n",
       "      <td>FMY9090</td>\n",
       "      <td>NY</td>\n",
       "      <td>JEEP</td>\n",
       "      <td>GRAND ST</td>\n",
       "      <td>0</td>\n",
       "      <td>GREY</td>\n",
       "    </tr>\n",
       "  </tbody>\n",
       "</table>\n",
       "</div>"
      ],
      "text/plain": [
       "                       Plate ID Registration State Vehicle Make  \\\n",
       "Issue Date                                                        \n",
       "05/08/1972 12:00:00 AM   J58JKX                 NJ        HONDA   \n",
       "08/29/1977 12:00:00 AM  KRE6058                 PA        ME/BE   \n",
       "10/03/1988 12:00:00 AM  444326R                 NJ        LEXUS   \n",
       "01/03/1990 12:00:00 AM  F728330                 OH        CHEVR   \n",
       "02/14/1990 12:00:00 AM  FMY9090                 NY         JEEP   \n",
       "\n",
       "                            Street Name  Date First Observed Vehicle Color  \n",
       "Issue Date                                                                  \n",
       "05/08/1972 12:00:00 AM            43 ST                    0            BK  \n",
       "08/29/1977 12:00:00 AM         UNION ST                    0           BLK  \n",
       "10/03/1988 12:00:00 AM  CLERMONT AVENUE                    0         BLACK  \n",
       "01/03/1990 12:00:00 AM     DIVISION AVE                    0           NaN  \n",
       "02/14/1990 12:00:00 AM         GRAND ST                    0          GREY  "
      ]
     },
     "execution_count": 5,
     "metadata": {},
     "output_type": "execute_result"
    }
   ],
   "source": [
    "df.head(5)"
   ]
  },
  {
   "cell_type": "code",
   "execution_count": 6,
   "id": "ea023f6e",
   "metadata": {},
   "outputs": [
    {
     "data": {
      "text/plain": [
       "'AUDI'"
      ]
     },
     "execution_count": 6,
     "metadata": {},
     "output_type": "execute_result"
    }
   ],
   "source": [
    "df.loc['11/02/2020 12:00:00 AM', 'Vehicle Make']"
   ]
  },
  {
   "cell_type": "code",
   "execution_count": 7,
   "id": "dd86a953",
   "metadata": {},
   "outputs": [
    {
     "data": {
      "text/plain": [
       "Street Name\n",
       "WB CONDUIT BLVD @ LI    1068\n",
       "SB WEST ST @ LEROY S     335\n",
       "EB HORACE HARDING EX     273\n",
       "EB QUEENS BLVD @ 82N     245\n",
       "WB ATLANTIC AVE @ CL     229\n",
       "Name: count, dtype: int64"
      ]
     },
     "execution_count": 7,
     "metadata": {},
     "output_type": "execute_result"
    }
   ],
   "source": [
    "df.loc['06/01/2020 12:00:00 AM','Street Name'].value_counts().head(5)"
   ]
  }
 ],
 "metadata": {
  "kernelspec": {
   "display_name": "Python 3",
   "language": "python",
   "name": "python3"
  },
  "language_info": {
   "codemirror_mode": {
    "name": "ipython",
    "version": 3
   },
   "file_extension": ".py",
   "mimetype": "text/x-python",
   "name": "python",
   "nbconvert_exporter": "python",
   "pygments_lexer": "ipython3",
   "version": "3.13.5"
  }
 },
 "nbformat": 4,
 "nbformat_minor": 5
}
