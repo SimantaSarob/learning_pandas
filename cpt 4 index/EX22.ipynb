{
 "cells": [
  {
   "cell_type": "code",
   "execution_count": 1,
   "id": "b590e705",
   "metadata": {},
   "outputs": [],
   "source": [
    "import pandas as pd"
   ]
  },
  {
   "cell_type": "code",
   "execution_count": 2,
   "id": "dbe42447",
   "metadata": {},
   "outputs": [
    {
     "data": {
      "text/html": [
       "<div>\n",
       "<style scoped>\n",
       "    .dataframe tbody tr th:only-of-type {\n",
       "        vertical-align: middle;\n",
       "    }\n",
       "\n",
       "    .dataframe tbody tr th {\n",
       "        vertical-align: top;\n",
       "    }\n",
       "\n",
       "    .dataframe thead th {\n",
       "        text-align: right;\n",
       "    }\n",
       "</style>\n",
       "<table border=\"1\" class=\"dataframe\">\n",
       "  <thead>\n",
       "    <tr style=\"text-align: right;\">\n",
       "      <th></th>\n",
       "      <th></th>\n",
       "      <th>Total.Math</th>\n",
       "      <th>Total.Test-takers</th>\n",
       "      <th>Total.Verbal</th>\n",
       "    </tr>\n",
       "    <tr>\n",
       "      <th>Year</th>\n",
       "      <th>State.Code</th>\n",
       "      <th></th>\n",
       "      <th></th>\n",
       "      <th></th>\n",
       "    </tr>\n",
       "  </thead>\n",
       "  <tbody>\n",
       "    <tr>\n",
       "      <th rowspan=\"5\" valign=\"top\">2005</th>\n",
       "      <th>AL</th>\n",
       "      <td>559</td>\n",
       "      <td>3985</td>\n",
       "      <td>567</td>\n",
       "    </tr>\n",
       "    <tr>\n",
       "      <th>AK</th>\n",
       "      <td>519</td>\n",
       "      <td>3996</td>\n",
       "      <td>523</td>\n",
       "    </tr>\n",
       "    <tr>\n",
       "      <th>AZ</th>\n",
       "      <td>530</td>\n",
       "      <td>18184</td>\n",
       "      <td>526</td>\n",
       "    </tr>\n",
       "    <tr>\n",
       "      <th>AR</th>\n",
       "      <td>552</td>\n",
       "      <td>1600</td>\n",
       "      <td>563</td>\n",
       "    </tr>\n",
       "    <tr>\n",
       "      <th>CA</th>\n",
       "      <td>522</td>\n",
       "      <td>186552</td>\n",
       "      <td>504</td>\n",
       "    </tr>\n",
       "    <tr>\n",
       "      <th>...</th>\n",
       "      <th>...</th>\n",
       "      <td>...</td>\n",
       "      <td>...</td>\n",
       "      <td>...</td>\n",
       "    </tr>\n",
       "    <tr>\n",
       "      <th rowspan=\"5\" valign=\"top\">2015</th>\n",
       "      <th>VA</th>\n",
       "      <td>517</td>\n",
       "      <td>59621</td>\n",
       "      <td>518</td>\n",
       "    </tr>\n",
       "    <tr>\n",
       "      <th>WA</th>\n",
       "      <td>511</td>\n",
       "      <td>44423</td>\n",
       "      <td>502</td>\n",
       "    </tr>\n",
       "    <tr>\n",
       "      <th>WV</th>\n",
       "      <td>500</td>\n",
       "      <td>2501</td>\n",
       "      <td>509</td>\n",
       "    </tr>\n",
       "    <tr>\n",
       "      <th>WI</th>\n",
       "      <td>606</td>\n",
       "      <td>2277</td>\n",
       "      <td>591</td>\n",
       "    </tr>\n",
       "    <tr>\n",
       "      <th>WY</th>\n",
       "      <td>587</td>\n",
       "      <td>181</td>\n",
       "      <td>588</td>\n",
       "    </tr>\n",
       "  </tbody>\n",
       "</table>\n",
       "<p>577 rows × 3 columns</p>\n",
       "</div>"
      ],
      "text/plain": [
       "                 Total.Math  Total.Test-takers  Total.Verbal\n",
       "Year State.Code                                             \n",
       "2005 AL                 559               3985           567\n",
       "     AK                 519               3996           523\n",
       "     AZ                 530              18184           526\n",
       "     AR                 552               1600           563\n",
       "     CA                 522             186552           504\n",
       "...                     ...                ...           ...\n",
       "2015 VA                 517              59621           518\n",
       "     WA                 511              44423           502\n",
       "     WV                 500               2501           509\n",
       "     WI                 606               2277           591\n",
       "     WY                 587                181           588\n",
       "\n",
       "[577 rows x 3 columns]"
      ]
     },
     "execution_count": 2,
     "metadata": {},
     "output_type": "execute_result"
    }
   ],
   "source": [
    "df = pd.read_csv('../data/sat-scores.csv',\n",
    "    usecols=['Year', \n",
    "         'State.Code',\n",
    "        'Total.Math', \n",
    "        'Total.Test-takers',\n",
    "        'Total.Verbal'],\n",
    "    index_col=['Year', 'State.Code'])\n",
    "#df = df.set_index(['Year', 'State.Code'])\n",
    "df"
   ]
  },
  {
   "cell_type": "code",
   "execution_count": 3,
   "id": "d9d9a820",
   "metadata": {},
   "outputs": [
    {
     "data": {
      "text/plain": [
       "np.float64(535.25)"
      ]
     },
     "execution_count": 3,
     "metadata": {},
     "output_type": "execute_result"
    }
   ],
   "source": [
    "df.loc[(2010, ['NY', 'NJ', 'MA', 'IL']), 'Total.Math'].mean()"
   ]
  },
  {
   "cell_type": "code",
   "execution_count": 4,
   "id": "fa30ee21",
   "metadata": {},
   "outputs": [
    {
     "data": {
      "text/plain": [
       "np.int64(1344824)"
      ]
     },
     "execution_count": 4,
     "metadata": {},
     "output_type": "execute_result"
    }
   ],
   "source": [
    "df.loc[2005, 'Total.Test-takers'].sum()"
   ]
  },
  {
   "cell_type": "code",
   "execution_count": 5,
   "id": "bff21006",
   "metadata": {},
   "outputs": [
    {
     "data": {
      "text/plain": [
       "np.float64(535.25)"
      ]
     },
     "execution_count": 5,
     "metadata": {},
     "output_type": "execute_result"
    }
   ],
   "source": [
    "df.loc[(2010, ['NY', 'NJ', 'MA', 'IL']), 'Total.Math'].mean()"
   ]
  },
  {
   "cell_type": "code",
   "execution_count": 6,
   "id": "e8907871",
   "metadata": {},
   "outputs": [
    {
     "data": {
      "text/plain": [
       "np.float64(511.5833333333333)"
      ]
     },
     "execution_count": 6,
     "metadata": {},
     "output_type": "execute_result"
    }
   ],
   "source": [
    "df.loc[([2012,2013,2014,2015], ['AZ', 'CA', 'TX']), 'Total.Math'].mean()"
   ]
  },
  {
   "cell_type": "code",
   "execution_count": 7,
   "id": "5d8ea348",
   "metadata": {},
   "outputs": [
    {
     "data": {
      "text/plain": [
       "Total.Math      507.090909\n",
       "Total.Verbal    504.606061\n",
       "dtype: float64"
      ]
     },
     "execution_count": 7,
     "metadata": {},
     "output_type": "execute_result"
    }
   ],
   "source": [
    "df.loc[(slice(None), ['FL', 'IN', 'ID']), ['Total.Math', 'Total.Verbal']].mean()"
   ]
  },
  {
   "cell_type": "code",
   "execution_count": 8,
   "id": "474f1a83",
   "metadata": {},
   "outputs": [
    {
     "data": {
      "text/html": [
       "<div>\n",
       "<style scoped>\n",
       "    .dataframe tbody tr th:only-of-type {\n",
       "        vertical-align: middle;\n",
       "    }\n",
       "\n",
       "    .dataframe tbody tr th {\n",
       "        vertical-align: top;\n",
       "    }\n",
       "\n",
       "    .dataframe thead th {\n",
       "        text-align: right;\n",
       "    }\n",
       "</style>\n",
       "<table border=\"1\" class=\"dataframe\">\n",
       "  <thead>\n",
       "    <tr style=\"text-align: right;\">\n",
       "      <th></th>\n",
       "      <th></th>\n",
       "      <th>Total.Math</th>\n",
       "      <th>Total.Test-takers</th>\n",
       "      <th>Total.Verbal</th>\n",
       "    </tr>\n",
       "    <tr>\n",
       "      <th>Year</th>\n",
       "      <th>State.Code</th>\n",
       "      <th></th>\n",
       "      <th></th>\n",
       "      <th></th>\n",
       "    </tr>\n",
       "  </thead>\n",
       "  <tbody>\n",
       "    <tr>\n",
       "      <th>2013</th>\n",
       "      <th>ND</th>\n",
       "      <td>613</td>\n",
       "      <td>174</td>\n",
       "      <td>612</td>\n",
       "    </tr>\n",
       "  </tbody>\n",
       "</table>\n",
       "</div>"
      ],
      "text/plain": [
       "                 Total.Math  Total.Test-takers  Total.Verbal\n",
       "Year State.Code                                             \n",
       "2013 ND                 613                174           612"
      ]
     },
     "execution_count": 8,
     "metadata": {},
     "output_type": "execute_result"
    }
   ],
   "source": [
    "df.loc[df['Total.Verbal'] == df['Total.Verbal'].max()]"
   ]
  },
  {
   "cell_type": "code",
   "execution_count": 9,
   "id": "917d00b1",
   "metadata": {},
   "outputs": [
    {
     "data": {
      "text/plain": [
       "(np.int64(2013), 'ND')"
      ]
     },
     "execution_count": 9,
     "metadata": {},
     "output_type": "execute_result"
    }
   ],
   "source": [
    "df['Total.Verbal'].idxmax()"
   ]
  },
  {
   "cell_type": "code",
   "execution_count": 10,
   "id": "72309da0",
   "metadata": {},
   "outputs": [
    {
     "data": {
      "text/plain": [
       "np.float64(2.559506531204647)"
      ]
     },
     "execution_count": 10,
     "metadata": {},
     "output_type": "execute_result"
    }
   ],
   "source": [
    "df.loc[2005, 'Total.Math'].mean() - df.loc[2015, 'Total.Math'].mean()"
   ]
  }
 ],
 "metadata": {
  "kernelspec": {
   "display_name": "Python 3",
   "language": "python",
   "name": "python3"
  },
  "language_info": {
   "codemirror_mode": {
    "name": "ipython",
    "version": 3
   },
   "file_extension": ".py",
   "mimetype": "text/x-python",
   "name": "python",
   "nbconvert_exporter": "python",
   "pygments_lexer": "ipython3",
   "version": "3.13.5"
  }
 },
 "nbformat": 4,
 "nbformat_minor": 5
}
