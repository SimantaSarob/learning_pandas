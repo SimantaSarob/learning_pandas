{
 "cells": [
  {
   "cell_type": "code",
   "execution_count": 1,
   "id": "cf4a8b63",
   "metadata": {},
   "outputs": [],
   "source": [
    "import pandas as pd"
   ]
  },
  {
   "cell_type": "code",
   "execution_count": null,
   "id": "1909442e",
   "metadata": {},
   "outputs": [],
   "source": [
    "cols=['Plate ID',\n",
    "         'Registration State',\n",
    "         'Vehicle Make',\n",
    "         'Vehicle Color',\n",
    "         'Vehicle Body Type',\n",
    "         'Violation Time',\n",
    "         'Street Name',\n",
    "         'Violation Legal Code']\n",
    "\n",
    "df = pd.read_csv('../data/nyc-parking-violations-2020.csv',\n",
    "                 usecols= cols)"
   ]
  },
  {
   "cell_type": "code",
   "execution_count": null,
   "id": "21cffcdb",
   "metadata": {},
   "outputs": [],
   "source": [
    "cols=['Plate ID',\n",
    "         'Registration State',\n",
    "         'Vehicle Make',\n",
    "         'Vehicle Color',\n",
    "         'Vehicle Body Type',\n",
    "         'Violation Time',\n",
    "         'Street Name',\n",
    "         'Violation Legal Code']\n",
    "\n",
    "df_ = pd.read_csv('../data/nyc-parking-violations-2020.csv',\n",
    "                 usecols= cols,\n",
    "                 engine= 'pyarrow')"
   ]
  },
  {
   "cell_type": "markdown",
   "id": "79cd8974",
   "metadata": {},
   "source": [
    "## not a significant improvment. "
   ]
  }
 ],
 "metadata": {
  "kernelspec": {
   "display_name": "Python 3",
   "language": "python",
   "name": "python3"
  },
  "language_info": {
   "codemirror_mode": {
    "name": "ipython",
    "version": 3
   },
   "file_extension": ".py",
   "mimetype": "text/x-python",
   "name": "python",
   "nbconvert_exporter": "python",
   "pygments_lexer": "ipython3",
   "version": "3.13.5"
  }
 },
 "nbformat": 4,
 "nbformat_minor": 5
}
