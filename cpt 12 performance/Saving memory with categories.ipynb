{
 "cells": [
  {
   "cell_type": "code",
   "execution_count": 9,
   "id": "bbe1a5f7",
   "metadata": {},
   "outputs": [],
   "source": [
    "import pandas as pd\n",
    "import numpy as np"
   ]
  },
  {
   "cell_type": "code",
   "execution_count": 10,
   "id": "3157156f",
   "metadata": {},
   "outputs": [
    {
     "data": {
      "text/plain": [
       "np.int64(32534052)"
      ]
     },
     "execution_count": 10,
     "metadata": {},
     "output_type": "execute_result"
    }
   ],
   "source": [
    "df = pd.read_csv('../data/olympic_athlete_events.csv')\n",
    "df.memory_usage().sum()"
   ]
  },
  {
   "cell_type": "code",
   "execution_count": 11,
   "id": "2cc73e61",
   "metadata": {},
   "outputs": [
    {
     "data": {
      "text/plain": [
       "np.int64(166569400)"
      ]
     },
     "execution_count": 11,
     "metadata": {},
     "output_type": "execute_result"
    }
   ],
   "source": [
    "df.memory_usage(deep= True).sum()"
   ]
  },
  {
   "cell_type": "code",
   "execution_count": 12,
   "id": "b8f46291",
   "metadata": {},
   "outputs": [
    {
     "data": {
      "text/plain": [
       "Index          132\n",
       "ID         2168928\n",
       "Height     2168928\n",
       "Age        2168928\n",
       "Weight     2168928\n",
       "Year       2168928\n",
       "Medal      9563977\n",
       "Sex       13555800\n",
       "NOC       14098032\n",
       "Season    14911380\n",
       "City      15394181\n",
       "Team      15566033\n",
       "Sport     15862091\n",
       "Games     16266960\n",
       "Name      18528607\n",
       "Event     21977567\n",
       "dtype: int64"
      ]
     },
     "execution_count": 12,
     "metadata": {},
     "output_type": "execute_result"
    }
   ],
   "source": [
    "df.memory_usage(deep= True).sort_values()"
   ]
  },
  {
   "cell_type": "code",
   "execution_count": 13,
   "id": "5c446366",
   "metadata": {},
   "outputs": [
    {
     "data": {
      "text/plain": [
       "Games\n",
       "2000 Summer    13821\n",
       "1996 Summer    13780\n",
       "2016 Summer    13688\n",
       "2008 Summer    13602\n",
       "2004 Summer    13443\n",
       "1992 Summer    12977\n",
       "2012 Summer    12920\n",
       "1988 Summer    12037\n",
       "1972 Summer    10304\n",
       "1984 Summer     9454\n",
       "Name: count, dtype: int64"
      ]
     },
     "execution_count": 13,
     "metadata": {},
     "output_type": "execute_result"
    }
   ],
   "source": [
    "df['Games'].value_counts().head(10)"
   ]
  },
  {
   "cell_type": "code",
   "execution_count": 14,
   "id": "b858d537",
   "metadata": {},
   "outputs": [],
   "source": [
    "df['Games'] = df['Games'].astype('category')"
   ]
  },
  {
   "cell_type": "code",
   "execution_count": 15,
   "id": "00a36f62",
   "metadata": {},
   "outputs": [
    {
     "data": {
      "text/plain": [
       "np.int64(150578720)"
      ]
     },
     "execution_count": 15,
     "metadata": {},
     "output_type": "execute_result"
    }
   ],
   "source": [
    "df.memory_usage(deep=True).sum()"
   ]
  },
  {
   "cell_type": "code",
   "execution_count": 17,
   "id": "a142bc06",
   "metadata": {},
   "outputs": [
    {
     "data": {
      "text/plain": [
       "Sex       135558.000000\n",
       "Season    135558.000000\n",
       "Medal      13261.000000\n",
       "Year        7746.171429\n",
       "City        6455.142857\n",
       "Games       5316.000000\n",
       "Sport       4107.818182\n",
       "Age         3535.702703\n",
       "Height      2220.473684\n",
       "NOC         1178.765217\n",
       "Weight       946.550000\n",
       "Event        354.400000\n",
       "Team         228.983108\n",
       "Name           2.012261\n",
       "ID             1.999808\n",
       "dtype: float64"
      ]
     },
     "execution_count": 17,
     "metadata": {},
     "output_type": "execute_result"
    }
   ],
   "source": [
    "(df.count() / df.nunique()).sort_values(ascending=False)"
   ]
  },
  {
   "cell_type": "code",
   "execution_count": 18,
   "id": "364f34be",
   "metadata": {},
   "outputs": [
    {
     "name": "stdout",
     "output_type": "stream",
     "text": [
      "Sex\n",
      "Season\n",
      "Medal\n",
      "City\n",
      "Games\n",
      "Sport\n",
      "NOC\n",
      "Event\n",
      "Team\n"
     ]
    }
   ],
   "source": [
    "col = ['Sex', 'Season', 'Medal', 'City',\n",
    "        'Games','Sport', 'NOC', 'Event', 'Team']\n",
    "\n",
    "for column_name in col:\n",
    "    print(column_name)\n",
    "    df[column_name] = df[column_name].astype('category')"
   ]
  },
  {
   "cell_type": "code",
   "execution_count": 19,
   "id": "d2389f83",
   "metadata": {},
   "outputs": [
    {
     "data": {
      "text/plain": [
       "np.int64(32847162)"
      ]
     },
     "execution_count": 19,
     "metadata": {},
     "output_type": "execute_result"
    }
   ],
   "source": [
    "df.memory_usage(deep= True).sum()"
   ]
  },
  {
   "cell_type": "markdown",
   "id": "d3b5c635",
   "metadata": {},
   "source": [
    "`abcd_category = pd.CategoricalDtype(['a', 'b', 'c', 'd'])\n",
    "s = Series(['a', 'b', 'c', 'a', 'b', 'c', 'c', 'c']).astype(abcd_category)\n",
    "s.loc[7] = 'd'`"
   ]
  }
 ],
 "metadata": {
  "kernelspec": {
   "display_name": "Python 3",
   "language": "python",
   "name": "python3"
  },
  "language_info": {
   "codemirror_mode": {
    "name": "ipython",
    "version": 3
   },
   "file_extension": ".py",
   "mimetype": "text/x-python",
   "name": "python",
   "nbconvert_exporter": "python",
   "pygments_lexer": "ipython3",
   "version": "3.13.5"
  }
 },
 "nbformat": 4,
 "nbformat_minor": 5
}
