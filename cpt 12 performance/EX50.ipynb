{
 "cells": [
  {
   "cell_type": "markdown",
   "id": "6c3bed7b",
   "metadata": {},
   "source": [
    "## query and eval"
   ]
  },
  {
   "cell_type": "code",
   "execution_count": 1,
   "id": "0f4d4b1c",
   "metadata": {},
   "outputs": [],
   "source": [
    "import pandas as pd\n",
    "import numpy as np\n"
   ]
  },
  {
   "cell_type": "code",
   "execution_count": 2,
   "id": "e544527a",
   "metadata": {},
   "outputs": [
    {
     "name": "stderr",
     "output_type": "stream",
     "text": [
      "/tmp/ipykernel_267035/3447202135.py:1: DtypeWarning: Columns (37) have mixed types. Specify dtype option on import or set low_memory=False.\n",
      "  df = pd.read_csv('../data/nyc-parking-violations-2020.csv',\n"
     ]
    },
    {
     "data": {
      "text/html": [
       "<div>\n",
       "<style scoped>\n",
       "    .dataframe tbody tr th:only-of-type {\n",
       "        vertical-align: middle;\n",
       "    }\n",
       "\n",
       "    .dataframe tbody tr th {\n",
       "        vertical-align: top;\n",
       "    }\n",
       "\n",
       "    .dataframe thead th {\n",
       "        text-align: right;\n",
       "    }\n",
       "</style>\n",
       "<table border=\"1\" class=\"dataframe\">\n",
       "  <thead>\n",
       "    <tr style=\"text-align: right;\">\n",
       "      <th></th>\n",
       "      <th>pid</th>\n",
       "      <th>state</th>\n",
       "      <th>ptype</th>\n",
       "      <th>make</th>\n",
       "      <th>color</th>\n",
       "      <th>feet</th>\n",
       "    </tr>\n",
       "  </thead>\n",
       "  <tbody>\n",
       "    <tr>\n",
       "      <th>0</th>\n",
       "      <td>Plate ID</td>\n",
       "      <td>Registration State</td>\n",
       "      <td>Plate Type</td>\n",
       "      <td>Vehicle Make</td>\n",
       "      <td>Vehicle Color</td>\n",
       "      <td>Feet From Curb</td>\n",
       "    </tr>\n",
       "    <tr>\n",
       "      <th>1</th>\n",
       "      <td>J58JKX</td>\n",
       "      <td>NJ</td>\n",
       "      <td>PAS</td>\n",
       "      <td>HONDA</td>\n",
       "      <td>BK</td>\n",
       "      <td>0</td>\n",
       "    </tr>\n",
       "    <tr>\n",
       "      <th>2</th>\n",
       "      <td>KRE6058</td>\n",
       "      <td>PA</td>\n",
       "      <td>PAS</td>\n",
       "      <td>ME/BE</td>\n",
       "      <td>BLK</td>\n",
       "      <td>0</td>\n",
       "    </tr>\n",
       "    <tr>\n",
       "      <th>3</th>\n",
       "      <td>444326R</td>\n",
       "      <td>NJ</td>\n",
       "      <td>PAS</td>\n",
       "      <td>LEXUS</td>\n",
       "      <td>BLACK</td>\n",
       "      <td>0</td>\n",
       "    </tr>\n",
       "    <tr>\n",
       "      <th>4</th>\n",
       "      <td>F728330</td>\n",
       "      <td>OH</td>\n",
       "      <td>PAS</td>\n",
       "      <td>CHEVR</td>\n",
       "      <td>NaN</td>\n",
       "      <td>0</td>\n",
       "    </tr>\n",
       "  </tbody>\n",
       "</table>\n",
       "</div>"
      ],
      "text/plain": [
       "        pid               state       ptype          make          color  \\\n",
       "0  Plate ID  Registration State  Plate Type  Vehicle Make  Vehicle Color   \n",
       "1    J58JKX                  NJ         PAS         HONDA             BK   \n",
       "2   KRE6058                  PA         PAS         ME/BE            BLK   \n",
       "3   444326R                  NJ         PAS         LEXUS          BLACK   \n",
       "4   F728330                  OH         PAS         CHEVR            NaN   \n",
       "\n",
       "             feet  \n",
       "0  Feet From Curb  \n",
       "1               0  \n",
       "2               0  \n",
       "3               0  \n",
       "4               0  "
      ]
     },
     "execution_count": 2,
     "metadata": {},
     "output_type": "execute_result"
    }
   ],
   "source": [
    "df = pd.read_csv('../data/nyc-parking-violations-2020.csv',\n",
    "                 usecols = [1, 2, 3, 7, 33, 37],\n",
    "                 names = ['pid', 'state', 'ptype', 'make', 'color', 'feet'])\n",
    "\n",
    "\n",
    "df.head()"
   ]
  },
  {
   "cell_type": "code",
   "execution_count": 3,
   "id": "003a1119",
   "metadata": {},
   "outputs": [
    {
     "name": "stdout",
     "output_type": "stream",
     "text": [
      "<class 'pandas.core.frame.DataFrame'>\n",
      "RangeIndex: 12495735 entries, 0 to 12495734\n",
      "Data columns (total 6 columns):\n",
      " #   Column  Dtype \n",
      "---  ------  ----- \n",
      " 0   pid     object\n",
      " 1   state   object\n",
      " 2   ptype   object\n",
      " 3   make    object\n",
      " 4   color   object\n",
      " 5   feet    object\n",
      "dtypes: object(6)\n",
      "memory usage: 3.5 GB\n"
     ]
    }
   ],
   "source": [
    "df.info(memory_usage='deep')"
   ]
  },
  {
   "cell_type": "code",
   "execution_count": 4,
   "id": "daf90332",
   "metadata": {},
   "outputs": [],
   "source": [
    "df[['pid', 'state', 'ptype', 'make', 'color', 'feet']] = df[['pid', 'state', 'ptype', 'make', 'color', 'feet']].astype('category')"
   ]
  },
  {
   "cell_type": "code",
   "execution_count": 5,
   "id": "7c8c15a5",
   "metadata": {},
   "outputs": [
    {
     "name": "stdout",
     "output_type": "stream",
     "text": [
      "<class 'pandas.core.frame.DataFrame'>\n",
      "RangeIndex: 12495735 entries, 0 to 12495734\n",
      "Data columns (total 6 columns):\n",
      " #   Column  Dtype   \n",
      "---  ------  -----   \n",
      " 0   pid     category\n",
      " 1   state   category\n",
      " 2   ptype   category\n",
      " 3   make    category\n",
      " 4   color   category\n",
      " 5   feet    category\n",
      "dtypes: category(6)\n",
      "memory usage: 433.4 MB\n"
     ]
    }
   ],
   "source": [
    "df.info(memory_usage='deep')"
   ]
  },
  {
   "cell_type": "code",
   "execution_count": 21,
   "id": "c142c47f",
   "metadata": {},
   "outputs": [
    {
     "name": "stdout",
     "output_type": "stream",
     "text": [
      "222 ms ± 12.3 ms per loop (mean ± std. dev. of 7 runs, 1 loop each)\n"
     ]
    }
   ],
   "source": [
    "%%timeit\n",
    "df.loc[(df['state'] == 'NY') |\n",
    "(df['state'] == 'NJ') |\n",
    "(df['state'] == 'CT')]"
   ]
  },
  {
   "cell_type": "code",
   "execution_count": 26,
   "id": "2e47f99d",
   "metadata": {},
   "outputs": [
    {
     "name": "stdout",
     "output_type": "stream",
     "text": [
      "209 ms ± 7.98 ms per loop (mean ± std. dev. of 7 runs, 1 loop each)\n"
     ]
    }
   ],
   "source": [
    "%timeit df.loc[(df['state'] == 'NY')]\n"
   ]
  },
  {
   "cell_type": "code",
   "execution_count": 27,
   "id": "8a923432",
   "metadata": {},
   "outputs": [
    {
     "name": "stdout",
     "output_type": "stream",
     "text": [
      "450 ms ± 20 ms per loop (mean ± std. dev. of 7 runs, 1 loop each)\n"
     ]
    }
   ],
   "source": [
    "%timeit df.query('state == \"NY\"')\n"
   ]
  },
  {
   "cell_type": "code",
   "execution_count": 25,
   "id": "14c63da4",
   "metadata": {},
   "outputs": [
    {
     "name": "stdout",
     "output_type": "stream",
     "text": [
      "431 ms ± 16.1 ms per loop (mean ± std. dev. of 7 runs, 1 loop each)\n"
     ]
    }
   ],
   "source": [
    "%timeit df[df.eval('state == \"NY\"')]\n"
   ]
  },
  {
   "cell_type": "code",
   "execution_count": 28,
   "id": "ec84137d",
   "metadata": {},
   "outputs": [
    {
     "name": "stdout",
     "output_type": "stream",
     "text": [
      "132 ms ± 2.34 ms per loop (mean ± std. dev. of 7 runs, 10 loops each)\n",
      "518 ms ± 3.81 ms per loop (mean ± std. dev. of 7 runs, 1 loop each)\n",
      "510 ms ± 10.1 ms per loop (mean ± std. dev. of 7 runs, 1 loop each)\n"
     ]
    }
   ],
   "source": [
    "%timeit df.loc[((df['state'] == 'NY') & (df['ptype'] == 'PAS'))]\n",
    "%timeit df.query('state == \"NY\" & ptype == \"PAS\"')\n",
    "%timeit df.loc[df.eval('state == \"NY\" & ptype == \"PAS\"')]"
   ]
  },
  {
   "cell_type": "code",
   "execution_count": 30,
   "id": "a00ff932",
   "metadata": {},
   "outputs": [
    {
     "name": "stdout",
     "output_type": "stream",
     "text": [
      "26.6 ms ± 1.71 ms per loop (mean ± std. dev. of 7 runs, 10 loops each)\n"
     ]
    }
   ],
   "source": [
    "%%timeit\n",
    "df.loc[((df['state'] == 'NY') &\n",
    "(df['ptype'] == 'PAS') &\n",
    "(df['color'] == 'WHITE'))]\n"
   ]
  },
  {
   "cell_type": "code",
   "execution_count": 31,
   "id": "eec6e8e7",
   "metadata": {},
   "outputs": [
    {
     "name": "stdout",
     "output_type": "stream",
     "text": [
      "474 ms ± 13.7 ms per loop (mean ± std. dev. of 7 runs, 1 loop each)\n"
     ]
    }
   ],
   "source": [
    "%%timeit\n",
    "df.query(\n",
    "'state == \"NY\" & ptype == \"PAS\" & color == \"WHITE\"')\n"
   ]
  },
  {
   "cell_type": "code",
   "execution_count": 32,
   "id": "9cb0342d",
   "metadata": {},
   "outputs": [
    {
     "name": "stdout",
     "output_type": "stream",
     "text": [
      "460 ms ± 6.04 ms per loop (mean ± std. dev. of 7 runs, 1 loop each)\n"
     ]
    }
   ],
   "source": [
    "%%timeit\n",
    "df.loc[df.eval(\n",
    "'state == \"NY\" & ptype == \"PAS\" & color == \"WHITE\"')]"
   ]
  }
 ],
 "metadata": {
  "kernelspec": {
   "display_name": "Python 3",
   "language": "python",
   "name": "python3"
  },
  "language_info": {
   "codemirror_mode": {
    "name": "ipython",
    "version": 3
   },
   "file_extension": ".py",
   "mimetype": "text/x-python",
   "name": "python",
   "nbconvert_exporter": "python",
   "pygments_lexer": "ipython3",
   "version": "3.13.5"
  }
 },
 "nbformat": 4,
 "nbformat_minor": 5
}
