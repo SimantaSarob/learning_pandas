{
 "cells": [
  {
   "cell_type": "markdown",
   "id": "50b65f4e",
   "metadata": {},
   "source": [
    "## Categories"
   ]
  },
  {
   "cell_type": "code",
   "execution_count": 14,
   "id": "fd1e63fc",
   "metadata": {},
   "outputs": [],
   "source": [
    "import pandas as pd\n",
    "import numpy as np"
   ]
  },
  {
   "cell_type": "code",
   "execution_count": 15,
   "id": "7149ad61",
   "metadata": {},
   "outputs": [
    {
     "name": "stderr",
     "output_type": "stream",
     "text": [
      "/tmp/ipykernel_163821/3419599277.py:10: DtypeWarning: Columns (29) have mixed types. Specify dtype option on import or set low_memory=False.\n",
      "  df = pd.read_csv('../data/nyc-parking-violations-2020.csv',\n"
     ]
    }
   ],
   "source": [
    "cols=['Plate ID',\n",
    "         'Registration State',\n",
    "         'Vehicle Make',\n",
    "         'Vehicle Color',\n",
    "         'Vehicle Body Type',\n",
    "         'Violation Time',\n",
    "         'Street Name',\n",
    "         'Violation Legal Code']\n",
    "\n",
    "df = pd.read_csv('../data/nyc-parking-violations-2020.csv',\n",
    "                 usecols= cols)\n"
   ]
  },
  {
   "cell_type": "code",
   "execution_count": 16,
   "id": "5f334cde",
   "metadata": {},
   "outputs": [
    {
     "data": {
      "text/plain": [
       "np.float64(4.875992774032056)"
      ]
     },
     "execution_count": 16,
     "metadata": {},
     "output_type": "execute_result"
    }
   ],
   "source": [
    "df.memory_usage(deep=True).sum() / (1024*1024*1024)"
   ]
  },
  {
   "cell_type": "code",
   "execution_count": 17,
   "id": "07aa8ecb",
   "metadata": {},
   "outputs": [],
   "source": [
    "orig_mem = df.memory_usage(deep=True).sum()"
   ]
  },
  {
   "cell_type": "code",
   "execution_count": 18,
   "id": "e816b7c6",
   "metadata": {},
   "outputs": [
    {
     "name": "stdout",
     "output_type": "stream",
     "text": [
      "Categorizing Plate ID...\n",
      "\tDone.\n",
      "Categorizing Registration State...\n",
      "\tDone.\n",
      "Categorizing Vehicle Make...\n",
      "\tDone.\n",
      "Categorizing Vehicle Color...\n",
      "\tDone.\n",
      "Categorizing Vehicle Body Type...\n",
      "\tDone.\n",
      "Categorizing Violation Time...\n",
      "\tDone.\n",
      "Categorizing Street Name...\n",
      "\tDone.\n",
      "Categorizing Violation Legal Code...\n",
      "\tDone.\n"
     ]
    }
   ],
   "source": [
    "for one_colname in cols:\n",
    "    print(f'Categorizing {one_colname}...')\n",
    "    df[one_colname] = df[one_colname].astype('category')\n",
    "    print('\\tDone.')"
   ]
  },
  {
   "cell_type": "code",
   "execution_count": 19,
   "id": "8bef3cfd",
   "metadata": {},
   "outputs": [],
   "source": [
    "new_mem = df.memory_usage(deep=True).sum()"
   ]
  },
  {
   "cell_type": "code",
   "execution_count": 20,
   "id": "b644a34c",
   "metadata": {},
   "outputs": [
    {
     "data": {
      "text/plain": [
       "np.float64(9.55489952412833)"
      ]
     },
     "execution_count": 20,
     "metadata": {},
     "output_type": "execute_result"
    }
   ],
   "source": [
    "orig_mem / new_mem"
   ]
  },
  {
   "cell_type": "code",
   "execution_count": 21,
   "id": "c9d5faf0",
   "metadata": {},
   "outputs": [
    {
     "name": "stdout",
     "output_type": "stream",
     "text": [
      "<class 'pandas.core.frame.DataFrame'>\n",
      "RangeIndex: 12495734 entries, 0 to 12495733\n",
      "Data columns (total 8 columns):\n",
      " #   Column                Dtype   \n",
      "---  ------                -----   \n",
      " 0   Plate ID              category\n",
      " 1   Registration State    category\n",
      " 2   Vehicle Body Type     category\n",
      " 3   Vehicle Make          category\n",
      " 4   Violation Time        category\n",
      " 5   Street Name           category\n",
      " 6   Violation Legal Code  category\n",
      " 7   Vehicle Color         category\n",
      "dtypes: category(8)\n",
      "memory usage: 522.6 MB\n"
     ]
    }
   ],
   "source": [
    "df.info(memory_usage='deep')"
   ]
  }
 ],
 "metadata": {
  "kernelspec": {
   "display_name": "Python 3",
   "language": "python",
   "name": "python3"
  },
  "language_info": {
   "codemirror_mode": {
    "name": "ipython",
    "version": 3
   },
   "file_extension": ".py",
   "mimetype": "text/x-python",
   "name": "python",
   "nbconvert_exporter": "python",
   "pygments_lexer": "ipython3",
   "version": "3.13.5"
  }
 },
 "nbformat": 4,
 "nbformat_minor": 5
}
