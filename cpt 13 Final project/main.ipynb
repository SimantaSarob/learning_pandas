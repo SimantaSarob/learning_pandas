{
 "cells": [
  {
   "cell_type": "code",
   "execution_count": 1,
   "id": "5e498895",
   "metadata": {},
   "outputs": [],
   "source": [
    "import pandas as pd\n",
    "import numpy as np\n",
    "import seaborn as sns\n"
   ]
  },
  {
   "cell_type": "code",
   "execution_count": 2,
   "id": "681fc373",
   "metadata": {},
   "outputs": [
    {
     "data": {
      "text/html": [
       "<div>\n",
       "<style scoped>\n",
       "    .dataframe tbody tr th:only-of-type {\n",
       "        vertical-align: middle;\n",
       "    }\n",
       "\n",
       "    .dataframe tbody tr th {\n",
       "        vertical-align: top;\n",
       "    }\n",
       "\n",
       "    .dataframe thead th {\n",
       "        text-align: right;\n",
       "    }\n",
       "</style>\n",
       "<table border=\"1\" class=\"dataframe\">\n",
       "  <thead>\n",
       "    <tr style=\"text-align: right;\">\n",
       "      <th></th>\n",
       "      <th>OPEID6</th>\n",
       "      <th>INSTNM</th>\n",
       "      <th>CITY</th>\n",
       "      <th>STABBR</th>\n",
       "      <th>ADM_RATE</th>\n",
       "      <th>NPT4_PUB</th>\n",
       "      <th>NPT4_PRIV</th>\n",
       "      <th>NPT41_PUB</th>\n",
       "      <th>NPT45_PUB</th>\n",
       "      <th>NPT41_PRIV</th>\n",
       "      <th>NPT45_PRIV</th>\n",
       "      <th>TUITIONFEE_IN</th>\n",
       "      <th>TUITIONFEE_OUT</th>\n",
       "      <th>MD_EARN_WNE_P10</th>\n",
       "      <th>C100_4</th>\n",
       "      <th>FTFTPCTPELL</th>\n",
       "    </tr>\n",
       "  </thead>\n",
       "  <tbody>\n",
       "    <tr>\n",
       "      <th>0</th>\n",
       "      <td>1002</td>\n",
       "      <td>Alabama A &amp; M University</td>\n",
       "      <td>Normal</td>\n",
       "      <td>AL</td>\n",
       "      <td>0.8965</td>\n",
       "      <td>15529.0</td>\n",
       "      <td>NaN</td>\n",
       "      <td>14694.0</td>\n",
       "      <td>20483.0</td>\n",
       "      <td>NaN</td>\n",
       "      <td>NaN</td>\n",
       "      <td>10024.0</td>\n",
       "      <td>18634.0</td>\n",
       "      <td>36339.0</td>\n",
       "      <td>0.1052</td>\n",
       "      <td>0.6925</td>\n",
       "    </tr>\n",
       "    <tr>\n",
       "      <th>1</th>\n",
       "      <td>1052</td>\n",
       "      <td>University of Alabama at Birmingham</td>\n",
       "      <td>Birmingham</td>\n",
       "      <td>AL</td>\n",
       "      <td>0.8060</td>\n",
       "      <td>16530.0</td>\n",
       "      <td>NaN</td>\n",
       "      <td>13443.0</td>\n",
       "      <td>19717.0</td>\n",
       "      <td>NaN</td>\n",
       "      <td>NaN</td>\n",
       "      <td>8568.0</td>\n",
       "      <td>20400.0</td>\n",
       "      <td>46990.0</td>\n",
       "      <td>0.3816</td>\n",
       "      <td>0.3563</td>\n",
       "    </tr>\n",
       "    <tr>\n",
       "      <th>2</th>\n",
       "      <td>25034</td>\n",
       "      <td>Amridge University</td>\n",
       "      <td>Montgomery</td>\n",
       "      <td>AL</td>\n",
       "      <td>NaN</td>\n",
       "      <td>NaN</td>\n",
       "      <td>17618.0</td>\n",
       "      <td>NaN</td>\n",
       "      <td>NaN</td>\n",
       "      <td>17385.0</td>\n",
       "      <td>NaN</td>\n",
       "      <td>6950.0</td>\n",
       "      <td>6950.0</td>\n",
       "      <td>37895.0</td>\n",
       "      <td>0.2500</td>\n",
       "      <td>0.6667</td>\n",
       "    </tr>\n",
       "    <tr>\n",
       "      <th>3</th>\n",
       "      <td>1055</td>\n",
       "      <td>University of Alabama in Huntsville</td>\n",
       "      <td>Huntsville</td>\n",
       "      <td>AL</td>\n",
       "      <td>0.7711</td>\n",
       "      <td>17208.0</td>\n",
       "      <td>NaN</td>\n",
       "      <td>13631.0</td>\n",
       "      <td>19862.0</td>\n",
       "      <td>NaN</td>\n",
       "      <td>NaN</td>\n",
       "      <td>11338.0</td>\n",
       "      <td>23734.0</td>\n",
       "      <td>54361.0</td>\n",
       "      <td>0.3109</td>\n",
       "      <td>0.2304</td>\n",
       "    </tr>\n",
       "    <tr>\n",
       "      <th>4</th>\n",
       "      <td>1005</td>\n",
       "      <td>Alabama State University</td>\n",
       "      <td>Montgomery</td>\n",
       "      <td>AL</td>\n",
       "      <td>0.9888</td>\n",
       "      <td>19534.0</td>\n",
       "      <td>NaN</td>\n",
       "      <td>19581.0</td>\n",
       "      <td>17559.0</td>\n",
       "      <td>NaN</td>\n",
       "      <td>NaN</td>\n",
       "      <td>11068.0</td>\n",
       "      <td>19396.0</td>\n",
       "      <td>32084.0</td>\n",
       "      <td>0.1462</td>\n",
       "      <td>0.7590</td>\n",
       "    </tr>\n",
       "  </tbody>\n",
       "</table>\n",
       "</div>"
      ],
      "text/plain": [
       "   OPEID6                               INSTNM        CITY STABBR  ADM_RATE  \\\n",
       "0    1002             Alabama A & M University      Normal     AL    0.8965   \n",
       "1    1052  University of Alabama at Birmingham  Birmingham     AL    0.8060   \n",
       "2   25034                   Amridge University  Montgomery     AL       NaN   \n",
       "3    1055  University of Alabama in Huntsville  Huntsville     AL    0.7711   \n",
       "4    1005             Alabama State University  Montgomery     AL    0.9888   \n",
       "\n",
       "   NPT4_PUB  NPT4_PRIV  NPT41_PUB  NPT45_PUB  NPT41_PRIV  NPT45_PRIV  \\\n",
       "0   15529.0        NaN    14694.0    20483.0         NaN         NaN   \n",
       "1   16530.0        NaN    13443.0    19717.0         NaN         NaN   \n",
       "2       NaN    17618.0        NaN        NaN     17385.0         NaN   \n",
       "3   17208.0        NaN    13631.0    19862.0         NaN         NaN   \n",
       "4   19534.0        NaN    19581.0    17559.0         NaN         NaN   \n",
       "\n",
       "   TUITIONFEE_IN  TUITIONFEE_OUT  MD_EARN_WNE_P10  C100_4  FTFTPCTPELL  \n",
       "0        10024.0         18634.0          36339.0  0.1052       0.6925  \n",
       "1         8568.0         20400.0          46990.0  0.3816       0.3563  \n",
       "2         6950.0          6950.0          37895.0  0.2500       0.6667  \n",
       "3        11338.0         23734.0          54361.0  0.3109       0.2304  \n",
       "4        11068.0         19396.0          32084.0  0.1462       0.7590  "
      ]
     },
     "execution_count": 2,
     "metadata": {},
     "output_type": "execute_result"
    }
   ],
   "source": [
    "inst_df = pd.read_csv('../data/Most-Recent-Cohorts-Institution.csv',\n",
    "                      usecols=['OPEID6', 'INSTNM', \n",
    "                               'CITY', 'STABBR', \n",
    "                               'FTFTPCTPELL','TUITIONFEE_IN', \n",
    "                               'TUITIONFEE_OUT', 'ADM_RATE', \n",
    "                               'NPT4_PUB', 'NPT4_PRIV', \n",
    "                               'NPT41_PUB', 'NPT41_PRIV', \n",
    "                               'NPT45_PUB', 'NPT45_PRIV', \n",
    "                               'MD_EARN_WNE_P10', 'C100_4'],\n",
    "                               low_memory= False)\n",
    "inst_df.head()"
   ]
  },
  {
   "cell_type": "code",
   "execution_count": null,
   "id": "c4e07c78",
   "metadata": {},
   "outputs": [],
   "source": []
  },
  {
   "cell_type": "code",
   "execution_count": 3,
   "id": "8aa19fe6",
   "metadata": {},
   "outputs": [
    {
     "name": "stdout",
     "output_type": "stream",
     "text": [
      "<class 'pandas.core.frame.DataFrame'>\n",
      "RangeIndex: 6662 entries, 0 to 6661\n",
      "Data columns (total 16 columns):\n",
      " #   Column           Non-Null Count  Dtype  \n",
      "---  ------           --------------  -----  \n",
      " 0   OPEID6           6662 non-null   int64  \n",
      " 1   INSTNM           6662 non-null   object \n",
      " 2   CITY             6662 non-null   object \n",
      " 3   STABBR           6662 non-null   object \n",
      " 4   ADM_RATE         1960 non-null   float64\n",
      " 5   NPT4_PUB         1828 non-null   float64\n",
      " 6   NPT4_PRIV        3565 non-null   float64\n",
      " 7   NPT41_PUB        1823 non-null   float64\n",
      " 8   NPT45_PUB        1304 non-null   float64\n",
      " 9   NPT41_PRIV       3506 non-null   float64\n",
      " 10  NPT45_PRIV       1809 non-null   float64\n",
      " 11  TUITIONFEE_IN    3830 non-null   float64\n",
      " 12  TUITIONFEE_OUT   3830 non-null   float64\n",
      " 13  MD_EARN_WNE_P10  5025 non-null   float64\n",
      " 14  C100_4           2007 non-null   float64\n",
      " 15  FTFTPCTPELL      5539 non-null   float64\n",
      "dtypes: float64(12), int64(1), object(3)\n",
      "memory usage: 1.9 MB\n"
     ]
    }
   ],
   "source": [
    "inst_df.info(memory_usage='deep')"
   ]
  },
  {
   "cell_type": "code",
   "execution_count": 4,
   "id": "676f4878",
   "metadata": {},
   "outputs": [
    {
     "data": {
      "text/html": [
       "<div>\n",
       "<style scoped>\n",
       "    .dataframe tbody tr th:only-of-type {\n",
       "        vertical-align: middle;\n",
       "    }\n",
       "\n",
       "    .dataframe tbody tr th {\n",
       "        vertical-align: top;\n",
       "    }\n",
       "\n",
       "    .dataframe thead th {\n",
       "        text-align: right;\n",
       "    }\n",
       "</style>\n",
       "<table border=\"1\" class=\"dataframe\">\n",
       "  <thead>\n",
       "    <tr style=\"text-align: right;\">\n",
       "      <th></th>\n",
       "      <th>OPEID6</th>\n",
       "      <th>INSTNM</th>\n",
       "      <th>CONTROL</th>\n",
       "      <th>CIPDESC</th>\n",
       "      <th>CREDDESC</th>\n",
       "    </tr>\n",
       "  </thead>\n",
       "  <tbody>\n",
       "    <tr>\n",
       "      <th>0</th>\n",
       "      <td>1002</td>\n",
       "      <td>Alabama A &amp; M University</td>\n",
       "      <td>Public</td>\n",
       "      <td>Agriculture, General.</td>\n",
       "      <td>Bachelors Degree</td>\n",
       "    </tr>\n",
       "    <tr>\n",
       "      <th>1</th>\n",
       "      <td>1002</td>\n",
       "      <td>Alabama A &amp; M University</td>\n",
       "      <td>Public</td>\n",
       "      <td>Animal Sciences.</td>\n",
       "      <td>Bachelors Degree</td>\n",
       "    </tr>\n",
       "    <tr>\n",
       "      <th>2</th>\n",
       "      <td>1002</td>\n",
       "      <td>Alabama A &amp; M University</td>\n",
       "      <td>Public</td>\n",
       "      <td>Food Science and Technology.</td>\n",
       "      <td>Bachelors Degree</td>\n",
       "    </tr>\n",
       "    <tr>\n",
       "      <th>3</th>\n",
       "      <td>1002</td>\n",
       "      <td>Alabama A &amp; M University</td>\n",
       "      <td>Public</td>\n",
       "      <td>Food Science and Technology.</td>\n",
       "      <td>Master's Degree</td>\n",
       "    </tr>\n",
       "    <tr>\n",
       "      <th>4</th>\n",
       "      <td>1002</td>\n",
       "      <td>Alabama A &amp; M University</td>\n",
       "      <td>Public</td>\n",
       "      <td>Food Science and Technology.</td>\n",
       "      <td>Doctoral Degree</td>\n",
       "    </tr>\n",
       "  </tbody>\n",
       "</table>\n",
       "</div>"
      ],
      "text/plain": [
       "   OPEID6                    INSTNM CONTROL                       CIPDESC  \\\n",
       "0    1002  Alabama A & M University  Public         Agriculture, General.   \n",
       "1    1002  Alabama A & M University  Public              Animal Sciences.   \n",
       "2    1002  Alabama A & M University  Public  Food Science and Technology.   \n",
       "3    1002  Alabama A & M University  Public  Food Science and Technology.   \n",
       "4    1002  Alabama A & M University  Public  Food Science and Technology.   \n",
       "\n",
       "           CREDDESC  \n",
       "0  Bachelors Degree  \n",
       "1  Bachelors Degree  \n",
       "2  Bachelors Degree  \n",
       "3   Master's Degree  \n",
       "4   Doctoral Degree  "
      ]
     },
     "execution_count": 4,
     "metadata": {},
     "output_type": "execute_result"
    }
   ],
   "source": [
    "fieldOfStudy_df = pd.read_csv('../data/FieldOfStudyData1718_1819_PP.csv',\n",
    "                              low_memory= False,\n",
    "                              usecols=['OPEID6', 'INSTNM', \n",
    "                                       'CREDDESC', 'CIPDESC', \n",
    "                                       'CONTROL'])\n",
    "\n",
    "fieldOfStudy_df.head()"
   ]
  },
  {
   "cell_type": "code",
   "execution_count": 5,
   "id": "68d1b5af",
   "metadata": {},
   "outputs": [
    {
     "name": "stdout",
     "output_type": "stream",
     "text": [
      "<class 'pandas.core.frame.DataFrame'>\n",
      "RangeIndex: 224849 entries, 0 to 224848\n",
      "Data columns (total 5 columns):\n",
      " #   Column    Non-Null Count   Dtype \n",
      "---  ------    --------------   ----- \n",
      " 0   OPEID6    224849 non-null  int64 \n",
      " 1   INSTNM    224849 non-null  object\n",
      " 2   CONTROL   224849 non-null  object\n",
      " 3   CIPDESC   224849 non-null  object\n",
      " 4   CREDDESC  224849 non-null  object\n",
      "dtypes: int64(1), object(4)\n",
      "memory usage: 64.7 MB\n"
     ]
    }
   ],
   "source": [
    "fieldOfStudy_df.info(memory_usage='deep')"
   ]
  },
  {
   "cell_type": "markdown",
   "id": "7abcb150",
   "metadata": {},
   "source": [
    "## (3A) What state has the greatest number of universities in this database?"
   ]
  },
  {
   "cell_type": "code",
   "execution_count": 6,
   "id": "9a847df3",
   "metadata": {},
   "outputs": [
    {
     "data": {
      "text/plain": [
       "STABBR\n",
       "CA    705\n",
       "NY    450\n",
       "TX    429\n",
       "FL    394\n",
       "PA    345\n",
       "OH    288\n",
       "IL    253\n",
       "MI    187\n",
       "NC    178\n",
       "GA    174\n",
       "Name: OPEID6, dtype: int64"
      ]
     },
     "execution_count": 6,
     "metadata": {},
     "output_type": "execute_result"
    }
   ],
   "source": [
    "inst_df.groupby('STABBR')['OPEID6'].count().sort_values(ascending=False).head(10)"
   ]
  },
  {
   "cell_type": "markdown",
   "id": "3fa5829c",
   "metadata": {},
   "source": [
    "## (3B) What city, in which state, has the greatest number of universities in this database?"
   ]
  },
  {
   "cell_type": "code",
   "execution_count": 7,
   "id": "35293589",
   "metadata": {},
   "outputs": [
    {
     "data": {
      "text/plain": [
       "STABBR  CITY        \n",
       "NY      New York        81\n",
       "IL      Chicago         70\n",
       "TX      Houston         66\n",
       "CA      Los Angeles     52\n",
       "NY      Brooklyn        51\n",
       "TX      San Antonio     46\n",
       "FL      Miami           44\n",
       "PA      Philadelphia    37\n",
       "GA      Atlanta         37\n",
       "CA      San Diego       36\n",
       "Name: OPEID6, dtype: int64"
      ]
     },
     "execution_count": 7,
     "metadata": {},
     "output_type": "execute_result"
    }
   ],
   "source": [
    "inst_df.groupby(['STABBR','CITY'])['OPEID6'].count().sort_values(ascending=False).head(10)"
   ]
  },
  {
   "cell_type": "markdown",
   "id": "3b05d59d",
   "metadata": {},
   "source": [
    "## (3C) How much memory can you save if you set the CITY and STABBR columns in institutions_df to be categories?"
   ]
  },
  {
   "cell_type": "code",
   "execution_count": 8,
   "id": "0e038931",
   "metadata": {},
   "outputs": [
    {
     "name": "stdout",
     "output_type": "stream",
     "text": [
      "492659\n"
     ]
    }
   ],
   "source": [
    "x = inst_df.memory_usage(deep=True).sum()\n",
    "inst_df[['CITY','STABBR']] = inst_df[['CITY','STABBR']].astype('category')\n",
    "y = inst_df.memory_usage(deep=True).sum()\n",
    "print(x-y)"
   ]
  },
  {
   "cell_type": "markdown",
   "id": "8404972b",
   "metadata": {},
   "source": [
    "## (3D)  Create a histogram showing how many bachelor programs universities offer."
   ]
  },
  {
   "cell_type": "code",
   "execution_count": 9,
   "id": "b6ecd9c2",
   "metadata": {},
   "outputs": [
    {
     "data": {
      "text/plain": [
       "<Axes: ylabel='Frequency'>"
      ]
     },
     "execution_count": 9,
     "metadata": {},
     "output_type": "execute_result"
    },
    {
     "data": {
      "image/png": "[encoded data removed]",
      "text/plain": [
       "<Figure size 640x480 with 1 Axes>"
      ]
     },
     "metadata": {},
     "output_type": "display_data"
    }
   ],
   "source": [
    "fieldOfStudy_df.loc[fieldOfStudy_df['CREDDESC'] == 'Bachelors Degree'].groupby('INSTNM')['CREDDESC'].count().sort_values(ascending=False).plot.hist()"
   ]
  },
  {
   "cell_type": "markdown",
   "id": "567bc23e",
   "metadata": {},
   "source": [
    "x-axis = how many programs are offered and y-axis = in how many universities. "
   ]
  },
  {
   "cell_type": "markdown",
   "id": "dba20812",
   "metadata": {},
   "source": [
    "## (3E) Determine which university offers the greatest number of bachelor programs."
   ]
  },
  {
   "cell_type": "code",
   "execution_count": 10,
   "id": "011e70f1",
   "metadata": {},
   "outputs": [
    {
     "data": {
      "text/plain": [
       "INSTNM\n",
       "Westminster College    165\n",
       "Name: CREDDESC, dtype: int64"
      ]
     },
     "execution_count": 10,
     "metadata": {},
     "output_type": "execute_result"
    }
   ],
   "source": [
    "fieldOfStudy_df.loc[fieldOfStudy_df['CREDDESC'] == 'Bachelors Degree'].groupby('INSTNM')['CREDDESC'].count().sort_values(ascending=False).head(1)"
   ]
  },
  {
   "cell_type": "markdown",
   "id": "58f25bb7",
   "metadata": {},
   "source": [
    "## (3F) Create a histogram showing how many graduate (master’s and doctoral) programs universities offer."
   ]
  },
  {
   "cell_type": "code",
   "execution_count": 11,
   "id": "ede8fcd9",
   "metadata": {},
   "outputs": [
    {
     "data": {
      "text/plain": [
       "<Axes: ylabel='Frequency'>"
      ]
     },
     "execution_count": 11,
     "metadata": {},
     "output_type": "execute_result"
    },
    {
     "data": {
      "image/png": "[encoded data removed]",
      "text/plain": [
       "<Figure size 640x480 with 1 Axes>"
      ]
     },
     "metadata": {},
     "output_type": "display_data"
    }
   ],
   "source": [
    "fieldOfStudy_df.loc[(fieldOfStudy_df['CREDDESC'] == \"Doctoral Degree\") | (fieldOfStudy_df['CREDDESC'] == \"Master's Degree \")].groupby('INSTNM')['CREDDESC'].count().sort_values(ascending=False).plot.hist()"
   ]
  },
  {
   "cell_type": "markdown",
   "id": "36b55bf0",
   "metadata": {},
   "source": [
    "## (3G)  Determine which university offers the greatest number of different graduate (master + doctoral) programs."
   ]
  },
  {
   "cell_type": "code",
   "execution_count": 12,
   "id": "415675f7",
   "metadata": {},
   "outputs": [
    {
     "data": {
      "text/plain": [
       "INSTNM\n",
       "University of Washington-Seattle Campus      237\n",
       "Pennsylvania State University-Main Campus    230\n",
       "New York University                          226\n",
       "University of Minnesota-Twin Cities          205\n",
       "Ohio State University-Main Campus            200\n",
       "Arizona State University Campus Immersion    199\n",
       "University of Southern California            199\n",
       "University of Arizona                        195\n",
       "University of Florida                        194\n",
       "University of Wisconsin-Madison              190\n",
       "Name: CIPDESC, dtype: int64"
      ]
     },
     "execution_count": 12,
     "metadata": {},
     "output_type": "execute_result"
    }
   ],
   "source": [
    "fieldOfStudy_df.loc[fieldOfStudy_df['CREDDESC'].isin([\"Master's Degree\", \"Doctoral Degree\"])].groupby('INSTNM')['CIPDESC'].count().sort_values(ascending=False).head(10)"
   ]
  },
  {
   "cell_type": "markdown",
   "id": "2d1dc5c8",
   "metadata": {},
   "source": [
    "## (4A) How many universities offer bachelor’s degrees but not master’s or doctorates?"
   ]
  },
  {
   "cell_type": "code",
   "execution_count": 13,
   "id": "7c1fba77",
   "metadata": {},
   "outputs": [
    {
     "data": {
      "text/plain": [
       "np.int64(923)"
      ]
     },
     "execution_count": 13,
     "metadata": {},
     "output_type": "execute_result"
    }
   ],
   "source": [
    "ug = fieldOfStudy_df.loc[(fieldOfStudy_df['CREDDESC'] == 'Bachelors Degree' , 'INSTNM')]\n",
    "pg = fieldOfStudy_df.loc[(fieldOfStudy_df['CREDDESC'] == \"Doctoral Degree\") | (fieldOfStudy_df['CREDDESC'] == \"Master's Degree\"), 'INSTNM']\n",
    "\n",
    "ug.loc[~ug.isin(pg)].drop_duplicates().count()"
   ]
  },
  {
   "cell_type": "markdown",
   "id": "10264b1f",
   "metadata": {},
   "source": [
    "## (4B) How many universities offer master’s and doctoral degrees but not bachelor’s?"
   ]
  },
  {
   "cell_type": "code",
   "execution_count": 14,
   "id": "348146ed",
   "metadata": {},
   "outputs": [
    {
     "data": {
      "text/plain": [
       "np.int64(404)"
      ]
     },
     "execution_count": 14,
     "metadata": {},
     "output_type": "execute_result"
    }
   ],
   "source": [
    "pg.loc[~pg.isin(ug)].drop_duplicates().count()"
   ]
  },
  {
   "cell_type": "markdown",
   "id": "1ba7c6c6",
   "metadata": {},
   "source": [
    "## (4C) How many institutions offer bachelor’s degrees whose name contains the term “Computer Science”?"
   ]
  },
  {
   "cell_type": "code",
   "execution_count": 15,
   "id": "9b6b064f",
   "metadata": {},
   "outputs": [
    {
     "data": {
      "text/plain": [
       "np.int64(762)"
      ]
     },
     "execution_count": 15,
     "metadata": {},
     "output_type": "execute_result"
    }
   ],
   "source": [
    "fieldOfStudy_df.loc[(fieldOfStudy_df['CIPDESC'].str.contains('Computer Science')) & (fieldOfStudy_df['CREDDESC'] == 'Bachelors Degree'), 'INSTNM'].drop_duplicates().count()"
   ]
  },
  {
   "cell_type": "markdown",
   "id": "731fc961",
   "metadata": {},
   "source": [
    "## (4D) The CONTROL field describes the types of institutions in the database. How many of each type offer a computer science program?"
   ]
  },
  {
   "cell_type": "code",
   "execution_count": 16,
   "id": "d92e53de",
   "metadata": {},
   "outputs": [
    {
     "data": {
      "text/html": [
       "<div>\n",
       "<style scoped>\n",
       "    .dataframe tbody tr th:only-of-type {\n",
       "        vertical-align: middle;\n",
       "    }\n",
       "\n",
       "    .dataframe tbody tr th {\n",
       "        vertical-align: top;\n",
       "    }\n",
       "\n",
       "    .dataframe thead th {\n",
       "        text-align: right;\n",
       "    }\n",
       "</style>\n",
       "<table border=\"1\" class=\"dataframe\">\n",
       "  <thead>\n",
       "    <tr style=\"text-align: right;\">\n",
       "      <th></th>\n",
       "      <th>INSTNM</th>\n",
       "    </tr>\n",
       "    <tr>\n",
       "      <th>CONTROL</th>\n",
       "      <th></th>\n",
       "    </tr>\n",
       "  </thead>\n",
       "  <tbody>\n",
       "    <tr>\n",
       "      <th>Foreign</th>\n",
       "      <td>32</td>\n",
       "    </tr>\n",
       "    <tr>\n",
       "      <th>Private, for-profit</th>\n",
       "      <td>18</td>\n",
       "    </tr>\n",
       "    <tr>\n",
       "      <th>Private, nonprofit</th>\n",
       "      <td>501</td>\n",
       "    </tr>\n",
       "    <tr>\n",
       "      <th>Public</th>\n",
       "      <td>273</td>\n",
       "    </tr>\n",
       "  </tbody>\n",
       "</table>\n",
       "</div>"
      ],
      "text/plain": [
       "                     INSTNM\n",
       "CONTROL                    \n",
       "Foreign                  32\n",
       "Private, for-profit      18\n",
       "Private, nonprofit      501\n",
       "Public                  273"
      ]
     },
     "execution_count": 16,
     "metadata": {},
     "output_type": "execute_result"
    }
   ],
   "source": [
    "fieldOfStudy_df.loc[(fieldOfStudy_df['CIPDESC'].str.contains('Computer Science')) &\n",
    "                     (fieldOfStudy_df['CREDDESC'] == 'Bachelors Degree'), ['CONTROL','INSTNM']].groupby('CONTROL').count()"
   ]
  },
  {
   "cell_type": "markdown",
   "id": "5dc2710b",
   "metadata": {},
   "source": [
    "## 5. Create a pie chart showing the different types of institutions that offer CS (short for “computer science”) degrees."
   ]
  },
  {
   "cell_type": "code",
   "execution_count": 17,
   "id": "75bd02d2",
   "metadata": {},
   "outputs": [
    {
     "data": {
      "text/plain": [
       "array([<Axes: ylabel='INSTNM'>], dtype=object)"
      ]
     },
     "execution_count": 17,
     "metadata": {},
     "output_type": "execute_result"
    },
    {
     "data": {
      "image/png": "[encoded data removed]",
      "text/plain": [
       "<Figure size 640x480 with 1 Axes>"
      ]
     },
     "metadata": {},
     "output_type": "display_data"
    }
   ],
   "source": [
    "fieldOfStudy_df.loc[(fieldOfStudy_df['CIPDESC'].str.contains('Computer Science')) &\n",
    "                     (fieldOfStudy_df['CREDDESC'] == 'Bachelors Degree'), ['CONTROL','INSTNM']].groupby('CONTROL').count().plot.pie(subplots=True)"
   ]
  },
  {
   "cell_type": "markdown",
   "id": "7a7a94c7",
   "metadata": {},
   "source": [
    "## 6. Determine the minimum, median, mean, and maximum tuitions for an undergrad CS degree. (We define this as a bachelor’s program with the phrase “Computer Science” in the name.) When comparing tuition, use TUITIONFEE_OUT for all schools."
   ]
  },
  {
   "cell_type": "code",
   "execution_count": 18,
   "id": "61b902fe",
   "metadata": {},
   "outputs": [
    {
     "data": {
      "text/html": [
       "<div>\n",
       "<style scoped>\n",
       "    .dataframe tbody tr th:only-of-type {\n",
       "        vertical-align: middle;\n",
       "    }\n",
       "\n",
       "    .dataframe tbody tr th {\n",
       "        vertical-align: top;\n",
       "    }\n",
       "\n",
       "    .dataframe thead th {\n",
       "        text-align: right;\n",
       "    }\n",
       "</style>\n",
       "<table border=\"1\" class=\"dataframe\">\n",
       "  <thead>\n",
       "    <tr style=\"text-align: right;\">\n",
       "      <th></th>\n",
       "      <th>OPEID6</th>\n",
       "      <th>INSTNM</th>\n",
       "    </tr>\n",
       "  </thead>\n",
       "  <tbody>\n",
       "    <tr>\n",
       "      <th>360</th>\n",
       "      <td>1005</td>\n",
       "      <td>Alabama State University</td>\n",
       "    </tr>\n",
       "    <tr>\n",
       "      <th>671</th>\n",
       "      <td>8310</td>\n",
       "      <td>Auburn University at Montgomery</td>\n",
       "    </tr>\n",
       "    <tr>\n",
       "      <th>1110</th>\n",
       "      <td>1003</td>\n",
       "      <td>Faulkner University</td>\n",
       "    </tr>\n",
       "    <tr>\n",
       "      <th>1936</th>\n",
       "      <td>1033</td>\n",
       "      <td>Oakwood University</td>\n",
       "    </tr>\n",
       "    <tr>\n",
       "      <th>2040</th>\n",
       "      <td>1036</td>\n",
       "      <td>Samford University</td>\n",
       "    </tr>\n",
       "    <tr>\n",
       "      <th>...</th>\n",
       "      <td>...</td>\n",
       "      <td>...</td>\n",
       "    </tr>\n",
       "    <tr>\n",
       "      <th>223531</th>\n",
       "      <td>30914</td>\n",
       "      <td>University of Wollongong</td>\n",
       "    </tr>\n",
       "    <tr>\n",
       "      <th>223619</th>\n",
       "      <td>30961</td>\n",
       "      <td>La Trobe University</td>\n",
       "    </tr>\n",
       "    <tr>\n",
       "      <th>223971</th>\n",
       "      <td>34353</td>\n",
       "      <td>Anglia  Ruskin University</td>\n",
       "    </tr>\n",
       "    <tr>\n",
       "      <th>224154</th>\n",
       "      <td>35173</td>\n",
       "      <td>University of Brighton</td>\n",
       "    </tr>\n",
       "    <tr>\n",
       "      <th>224709</th>\n",
       "      <td>41839</td>\n",
       "      <td>CETYS Universidad</td>\n",
       "    </tr>\n",
       "  </tbody>\n",
       "</table>\n",
       "<p>824 rows × 2 columns</p>\n",
       "</div>"
      ],
      "text/plain": [
       "        OPEID6                           INSTNM\n",
       "360       1005         Alabama State University\n",
       "671       8310  Auburn University at Montgomery\n",
       "1110      1003              Faulkner University\n",
       "1936      1033               Oakwood University\n",
       "2040      1036               Samford University\n",
       "...        ...                              ...\n",
       "223531   30914         University of Wollongong\n",
       "223619   30961              La Trobe University\n",
       "223971   34353        Anglia  Ruskin University\n",
       "224154   35173           University of Brighton\n",
       "224709   41839                CETYS Universidad\n",
       "\n",
       "[824 rows x 2 columns]"
      ]
     },
     "execution_count": 18,
     "metadata": {},
     "output_type": "execute_result"
    }
   ],
   "source": [
    "ug_cs = fieldOfStudy_df[['OPEID6','INSTNM']][(fieldOfStudy_df['CREDDESC'] == 'Bachelors Degree') & \n",
    "                                             (fieldOfStudy_df['CIPDESC'].str.contains('Computer Science'))]\n",
    "ug_cs\n",
    "\n"
   ]
  },
  {
   "cell_type": "code",
   "execution_count": 19,
   "id": "196c3820",
   "metadata": {},
   "outputs": [
    {
     "data": {
      "text/plain": [
       "count      716.000000\n",
       "mean     31583.314246\n",
       "std      14505.858502\n",
       "min       3154.000000\n",
       "25%      19447.000000\n",
       "50%      30862.000000\n",
       "75%      42241.500000\n",
       "max      61671.000000\n",
       "Name: TUITIONFEE_OUT, dtype: float64"
      ]
     },
     "execution_count": 19,
     "metadata": {},
     "output_type": "execute_result"
    }
   ],
   "source": [
    "inst_df['TUITIONFEE_OUT'][inst_df['OPEID6'].isin(ug_cs['OPEID6']) & inst_df['INSTNM'].isin(ug_cs['INSTNM'])].describe()"
   ]
  },
  {
   "cell_type": "markdown",
   "id": "9c300a4c",
   "metadata": {},
   "source": [
    "## 7. Describe the tuition again, but grouped by the different types of universities (CONTROL)."
   ]
  },
  {
   "cell_type": "code",
   "execution_count": 20,
   "id": "aae7493c",
   "metadata": {},
   "outputs": [
    {
     "data": {
      "text/html": [
       "<div>\n",
       "<style scoped>\n",
       "    .dataframe tbody tr th:only-of-type {\n",
       "        vertical-align: middle;\n",
       "    }\n",
       "\n",
       "    .dataframe tbody tr th {\n",
       "        vertical-align: top;\n",
       "    }\n",
       "\n",
       "    .dataframe thead th {\n",
       "        text-align: right;\n",
       "    }\n",
       "</style>\n",
       "<table border=\"1\" class=\"dataframe\">\n",
       "  <thead>\n",
       "    <tr style=\"text-align: right;\">\n",
       "      <th></th>\n",
       "      <th>INSTNM</th>\n",
       "      <th>CONTROL</th>\n",
       "    </tr>\n",
       "    <tr>\n",
       "      <th>OPEID6</th>\n",
       "      <th></th>\n",
       "      <th></th>\n",
       "    </tr>\n",
       "  </thead>\n",
       "  <tbody>\n",
       "    <tr>\n",
       "      <th>1005</th>\n",
       "      <td>Alabama State University</td>\n",
       "      <td>Public</td>\n",
       "    </tr>\n",
       "    <tr>\n",
       "      <th>8310</th>\n",
       "      <td>Auburn University at Montgomery</td>\n",
       "      <td>Public</td>\n",
       "    </tr>\n",
       "    <tr>\n",
       "      <th>1003</th>\n",
       "      <td>Faulkner University</td>\n",
       "      <td>Private, nonprofit</td>\n",
       "    </tr>\n",
       "    <tr>\n",
       "      <th>1033</th>\n",
       "      <td>Oakwood University</td>\n",
       "      <td>Private, nonprofit</td>\n",
       "    </tr>\n",
       "    <tr>\n",
       "      <th>1036</th>\n",
       "      <td>Samford University</td>\n",
       "      <td>Private, nonprofit</td>\n",
       "    </tr>\n",
       "    <tr>\n",
       "      <th>...</th>\n",
       "      <td>...</td>\n",
       "      <td>...</td>\n",
       "    </tr>\n",
       "    <tr>\n",
       "      <th>30914</th>\n",
       "      <td>University of Wollongong</td>\n",
       "      <td>Foreign</td>\n",
       "    </tr>\n",
       "    <tr>\n",
       "      <th>30961</th>\n",
       "      <td>La Trobe University</td>\n",
       "      <td>Foreign</td>\n",
       "    </tr>\n",
       "    <tr>\n",
       "      <th>34353</th>\n",
       "      <td>Anglia  Ruskin University</td>\n",
       "      <td>Foreign</td>\n",
       "    </tr>\n",
       "    <tr>\n",
       "      <th>35173</th>\n",
       "      <td>University of Brighton</td>\n",
       "      <td>Foreign</td>\n",
       "    </tr>\n",
       "    <tr>\n",
       "      <th>41839</th>\n",
       "      <td>CETYS Universidad</td>\n",
       "      <td>Foreign</td>\n",
       "    </tr>\n",
       "  </tbody>\n",
       "</table>\n",
       "<p>824 rows × 2 columns</p>\n",
       "</div>"
      ],
      "text/plain": [
       "                                 INSTNM             CONTROL\n",
       "OPEID6                                                     \n",
       "1005           Alabama State University              Public\n",
       "8310    Auburn University at Montgomery              Public\n",
       "1003                Faulkner University  Private, nonprofit\n",
       "1033                 Oakwood University  Private, nonprofit\n",
       "1036                 Samford University  Private, nonprofit\n",
       "...                                 ...                 ...\n",
       "30914          University of Wollongong             Foreign\n",
       "30961               La Trobe University             Foreign\n",
       "34353         Anglia  Ruskin University             Foreign\n",
       "35173            University of Brighton             Foreign\n",
       "41839                 CETYS Universidad             Foreign\n",
       "\n",
       "[824 rows x 2 columns]"
      ]
     },
     "execution_count": 20,
     "metadata": {},
     "output_type": "execute_result"
    }
   ],
   "source": [
    "ug_cs_cnt = fieldOfStudy_df[['OPEID6','INSTNM', 'CONTROL']][(fieldOfStudy_df['CREDDESC'] == 'Bachelors Degree') & \n",
    "                                                            (fieldOfStudy_df['CIPDESC'].str.contains('Computer Science'))]\n",
    "ug_cs_cnt_ = ug_cs_cnt\n",
    "ug_cs_cnt = ug_cs_cnt.set_index('OPEID6')\n",
    "ug_cs_cnt"
   ]
  },
  {
   "cell_type": "code",
   "execution_count": 21,
   "id": "9f366798",
   "metadata": {},
   "outputs": [
    {
     "data": {
      "text/html": [
       "<div>\n",
       "<style scoped>\n",
       "    .dataframe tbody tr th:only-of-type {\n",
       "        vertical-align: middle;\n",
       "    }\n",
       "\n",
       "    .dataframe tbody tr th {\n",
       "        vertical-align: top;\n",
       "    }\n",
       "\n",
       "    .dataframe thead th {\n",
       "        text-align: right;\n",
       "    }\n",
       "</style>\n",
       "<table border=\"1\" class=\"dataframe\">\n",
       "  <thead>\n",
       "    <tr style=\"text-align: right;\">\n",
       "      <th></th>\n",
       "      <th>INSTNM</th>\n",
       "      <th>TUITIONFEE_OUT</th>\n",
       "    </tr>\n",
       "    <tr>\n",
       "      <th>OPEID6</th>\n",
       "      <th></th>\n",
       "      <th></th>\n",
       "    </tr>\n",
       "  </thead>\n",
       "  <tbody>\n",
       "    <tr>\n",
       "      <th>1005</th>\n",
       "      <td>Alabama State University</td>\n",
       "      <td>19396.0</td>\n",
       "    </tr>\n",
       "    <tr>\n",
       "      <th>8310</th>\n",
       "      <td>Auburn University at Montgomery</td>\n",
       "      <td>18820.0</td>\n",
       "    </tr>\n",
       "    <tr>\n",
       "      <th>1003</th>\n",
       "      <td>Faulkner University</td>\n",
       "      <td>22990.0</td>\n",
       "    </tr>\n",
       "    <tr>\n",
       "      <th>1033</th>\n",
       "      <td>Oakwood University</td>\n",
       "      <td>19990.0</td>\n",
       "    </tr>\n",
       "    <tr>\n",
       "      <th>1036</th>\n",
       "      <td>Samford University</td>\n",
       "      <td>34198.0</td>\n",
       "    </tr>\n",
       "    <tr>\n",
       "      <th>...</th>\n",
       "      <td>...</td>\n",
       "      <td>...</td>\n",
       "    </tr>\n",
       "    <tr>\n",
       "      <th>1577</th>\n",
       "      <td>Kennesaw State University</td>\n",
       "      <td>17690.0</td>\n",
       "    </tr>\n",
       "    <tr>\n",
       "      <th>3511</th>\n",
       "      <td>Milligan University</td>\n",
       "      <td>35600.0</td>\n",
       "    </tr>\n",
       "    <tr>\n",
       "      <th>1083</th>\n",
       "      <td>University of Arizona-Sierra Vista</td>\n",
       "      <td>NaN</td>\n",
       "    </tr>\n",
       "    <tr>\n",
       "      <th>1827</th>\n",
       "      <td>Purdue University Northwest</td>\n",
       "      <td>14734.0</td>\n",
       "    </tr>\n",
       "    <tr>\n",
       "      <th>3329</th>\n",
       "      <td>Pennsylvania State University-Penn State Erie-...</td>\n",
       "      <td>24926.0</td>\n",
       "    </tr>\n",
       "  </tbody>\n",
       "</table>\n",
       "<p>722 rows × 2 columns</p>\n",
       "</div>"
      ],
      "text/plain": [
       "                                                   INSTNM  TUITIONFEE_OUT\n",
       "OPEID6                                                                   \n",
       "1005                             Alabama State University         19396.0\n",
       "8310                      Auburn University at Montgomery         18820.0\n",
       "1003                                  Faulkner University         22990.0\n",
       "1033                                   Oakwood University         19990.0\n",
       "1036                                   Samford University         34198.0\n",
       "...                                                   ...             ...\n",
       "1577                            Kennesaw State University         17690.0\n",
       "3511                                  Milligan University         35600.0\n",
       "1083                   University of Arizona-Sierra Vista             NaN\n",
       "1827                          Purdue University Northwest         14734.0\n",
       "3329    Pennsylvania State University-Penn State Erie-...         24926.0\n",
       "\n",
       "[722 rows x 2 columns]"
      ]
     },
     "execution_count": 21,
     "metadata": {},
     "output_type": "execute_result"
    }
   ],
   "source": [
    "inst_cs_cost = inst_df[['OPEID6','INSTNM','TUITIONFEE_OUT']][inst_df['OPEID6'].isin(ug_cs_cnt_['OPEID6']) & inst_df['INSTNM'].isin(ug_cs_cnt_['INSTNM'])].set_index('OPEID6')\n",
    "inst_cs_cost"
   ]
  },
  {
   "cell_type": "code",
   "execution_count": 22,
   "id": "f39bf93a",
   "metadata": {},
   "outputs": [
    {
     "data": {
      "text/html": [
       "<div>\n",
       "<style scoped>\n",
       "    .dataframe tbody tr th:only-of-type {\n",
       "        vertical-align: middle;\n",
       "    }\n",
       "\n",
       "    .dataframe tbody tr th {\n",
       "        vertical-align: top;\n",
       "    }\n",
       "\n",
       "    .dataframe thead th {\n",
       "        text-align: right;\n",
       "    }\n",
       "</style>\n",
       "<table border=\"1\" class=\"dataframe\">\n",
       "  <thead>\n",
       "    <tr style=\"text-align: right;\">\n",
       "      <th>CONTROL</th>\n",
       "      <th>Private, for-profit</th>\n",
       "      <th>Private, nonprofit</th>\n",
       "      <th>Public</th>\n",
       "    </tr>\n",
       "  </thead>\n",
       "  <tbody>\n",
       "    <tr>\n",
       "      <th>count</th>\n",
       "      <td>15.000000</td>\n",
       "      <td>503.000000</td>\n",
       "      <td>267.000000</td>\n",
       "    </tr>\n",
       "    <tr>\n",
       "      <th>mean</th>\n",
       "      <td>14780.533333</td>\n",
       "      <td>36936.431412</td>\n",
       "      <td>22770.194757</td>\n",
       "    </tr>\n",
       "    <tr>\n",
       "      <th>std</th>\n",
       "      <td>5364.891836</td>\n",
       "      <td>14253.544298</td>\n",
       "      <td>9203.355227</td>\n",
       "    </tr>\n",
       "    <tr>\n",
       "      <th>min</th>\n",
       "      <td>8280.000000</td>\n",
       "      <td>4300.000000</td>\n",
       "      <td>3154.000000</td>\n",
       "    </tr>\n",
       "    <tr>\n",
       "      <th>25%</th>\n",
       "      <td>11828.000000</td>\n",
       "      <td>28565.000000</td>\n",
       "      <td>16224.000000</td>\n",
       "    </tr>\n",
       "    <tr>\n",
       "      <th>50%</th>\n",
       "      <td>12311.000000</td>\n",
       "      <td>36484.000000</td>\n",
       "      <td>20574.000000</td>\n",
       "    </tr>\n",
       "    <tr>\n",
       "      <th>75%</th>\n",
       "      <td>18095.000000</td>\n",
       "      <td>48302.000000</td>\n",
       "      <td>27673.000000</td>\n",
       "    </tr>\n",
       "    <tr>\n",
       "      <th>max</th>\n",
       "      <td>25820.000000</td>\n",
       "      <td>61671.000000</td>\n",
       "      <td>47220.000000</td>\n",
       "    </tr>\n",
       "  </tbody>\n",
       "</table>\n",
       "</div>"
      ],
      "text/plain": [
       "CONTROL  Private, for-profit  Private, nonprofit        Public\n",
       "count              15.000000          503.000000    267.000000\n",
       "mean            14780.533333        36936.431412  22770.194757\n",
       "std              5364.891836        14253.544298   9203.355227\n",
       "min              8280.000000         4300.000000   3154.000000\n",
       "25%             11828.000000        28565.000000  16224.000000\n",
       "50%             12311.000000        36484.000000  20574.000000\n",
       "75%             18095.000000        48302.000000  27673.000000\n",
       "max             25820.000000        61671.000000  47220.000000"
      ]
     },
     "execution_count": 22,
     "metadata": {},
     "output_type": "execute_result"
    }
   ],
   "source": [
    "inst_cs_cost.merge(ug_cs_cnt).groupby('CONTROL')['TUITIONFEE_OUT'].describe().T"
   ]
  },
  {
   "cell_type": "markdown",
   "id": "e5313229",
   "metadata": {},
   "source": [
    "## 8. Determine the correlation between admission rate and tuition cost. How would you interpret this?"
   ]
  },
  {
   "cell_type": "code",
   "execution_count": 23,
   "id": "ad596607",
   "metadata": {},
   "outputs": [
    {
     "data": {
      "text/html": [
       "<div>\n",
       "<style scoped>\n",
       "    .dataframe tbody tr th:only-of-type {\n",
       "        vertical-align: middle;\n",
       "    }\n",
       "\n",
       "    .dataframe tbody tr th {\n",
       "        vertical-align: top;\n",
       "    }\n",
       "\n",
       "    .dataframe thead th {\n",
       "        text-align: right;\n",
       "    }\n",
       "</style>\n",
       "<table border=\"1\" class=\"dataframe\">\n",
       "  <thead>\n",
       "    <tr style=\"text-align: right;\">\n",
       "      <th></th>\n",
       "      <th>TUITIONFEE_OUT</th>\n",
       "      <th>ADM_RATE</th>\n",
       "    </tr>\n",
       "  </thead>\n",
       "  <tbody>\n",
       "    <tr>\n",
       "      <th>TUITIONFEE_OUT</th>\n",
       "      <td>1.000000</td>\n",
       "      <td>-0.309658</td>\n",
       "    </tr>\n",
       "    <tr>\n",
       "      <th>ADM_RATE</th>\n",
       "      <td>-0.309658</td>\n",
       "      <td>1.000000</td>\n",
       "    </tr>\n",
       "  </tbody>\n",
       "</table>\n",
       "</div>"
      ],
      "text/plain": [
       "                TUITIONFEE_OUT  ADM_RATE\n",
       "TUITIONFEE_OUT        1.000000 -0.309658\n",
       "ADM_RATE             -0.309658  1.000000"
      ]
     },
     "execution_count": 23,
     "metadata": {},
     "output_type": "execute_result"
    }
   ],
   "source": [
    "inst_df[['TUITIONFEE_OUT','ADM_RATE']].corr()"
   ]
  },
  {
   "cell_type": "markdown",
   "id": "0fc8e1c0",
   "metadata": {},
   "source": [
    "## 9. Create a scatter plot with tuition on the x axis, admission rate on the y axis, and median earnings after 10 years are used for colorizing. Use the “Spectral” colormap. Where do the lowest-paid graduates show up on the graph?"
   ]
  },
  {
   "cell_type": "code",
   "execution_count": 24,
   "id": "9e74e45d",
   "metadata": {},
   "outputs": [
    {
     "data": {
      "text/plain": [
       "<Axes: xlabel='TUITIONFEE_OUT', ylabel='ADM_RATE'>"
      ]
     },
     "execution_count": 24,
     "metadata": {},
     "output_type": "execute_result"
    },
    {
     "data": {
      "image/png": "[encoded data removed]",
      "text/plain": [
       "<Figure size 1000x1000 with 2 Axes>"
      ]
     },
     "metadata": {},
     "output_type": "display_data"
    }
   ],
   "source": [
    "inst_df[['TUITIONFEE_OUT','ADM_RATE','MD_EARN_WNE_P10']].plot.scatter(x = \"TUITIONFEE_OUT\", \n",
    "                                                    y = 'ADM_RATE' ,\n",
    "                                                    colormap = 'Spectral',\n",
    "                                                    c = 'MD_EARN_WNE_P10',\n",
    "                                                    figsize = (10,10)\n",
    "                                                    )"
   ]
  },
  {
   "cell_type": "markdown",
   "id": "81e1de9e",
   "metadata": {},
   "source": [
    "## 10. Determine which universities are in the top 25% of tuition and also the top 25% with Pell grants (i.e., government assistance to lower-income students). Print only the institution name, city, and state, ordered by institution name."
   ]
  },
  {
   "cell_type": "code",
   "execution_count": 25,
   "id": "09db98da",
   "metadata": {},
   "outputs": [
    {
     "data": {
      "text/html": [
       "<div>\n",
       "<style scoped>\n",
       "    .dataframe tbody tr th:only-of-type {\n",
       "        vertical-align: middle;\n",
       "    }\n",
       "\n",
       "    .dataframe tbody tr th {\n",
       "        vertical-align: top;\n",
       "    }\n",
       "\n",
       "    .dataframe thead th {\n",
       "        text-align: right;\n",
       "    }\n",
       "</style>\n",
       "<table border=\"1\" class=\"dataframe\">\n",
       "  <thead>\n",
       "    <tr style=\"text-align: right;\">\n",
       "      <th></th>\n",
       "      <th>INSTNM</th>\n",
       "      <th>CITY</th>\n",
       "      <th>STABBR</th>\n",
       "    </tr>\n",
       "  </thead>\n",
       "  <tbody>\n",
       "    <tr>\n",
       "      <th>5491</th>\n",
       "      <td>Antioch College</td>\n",
       "      <td>Yellow Springs</td>\n",
       "      <td>OH</td>\n",
       "    </tr>\n",
       "    <tr>\n",
       "      <th>1206</th>\n",
       "      <td>Berea College</td>\n",
       "      <td>Berea</td>\n",
       "      <td>KY</td>\n",
       "    </tr>\n",
       "    <tr>\n",
       "      <th>1930</th>\n",
       "      <td>Berkeley College-Woodland Park</td>\n",
       "      <td>Woodland Park</td>\n",
       "      <td>NJ</td>\n",
       "    </tr>\n",
       "    <tr>\n",
       "      <th>1932</th>\n",
       "      <td>Bloomfield College</td>\n",
       "      <td>Bloomfield</td>\n",
       "      <td>NJ</td>\n",
       "    </tr>\n",
       "    <tr>\n",
       "      <th>2334</th>\n",
       "      <td>Chowan University</td>\n",
       "      <td>Murfreesboro</td>\n",
       "      <td>NC</td>\n",
       "    </tr>\n",
       "    <tr>\n",
       "      <th>1543</th>\n",
       "      <td>Dorsey College</td>\n",
       "      <td>Madison Heights</td>\n",
       "      <td>MI</td>\n",
       "    </tr>\n",
       "    <tr>\n",
       "      <th>3758</th>\n",
       "      <td>Dorsey College-Roseville</td>\n",
       "      <td>Roseville</td>\n",
       "      <td>MI</td>\n",
       "    </tr>\n",
       "    <tr>\n",
       "      <th>5138</th>\n",
       "      <td>Dorsey College-Saginaw</td>\n",
       "      <td>Saginaw</td>\n",
       "      <td>MI</td>\n",
       "    </tr>\n",
       "    <tr>\n",
       "      <th>3734</th>\n",
       "      <td>Dorsey College-Wayne</td>\n",
       "      <td>Wayne</td>\n",
       "      <td>MI</td>\n",
       "    </tr>\n",
       "    <tr>\n",
       "      <th>1542</th>\n",
       "      <td>Dorsey School of Business-Madison Heights</td>\n",
       "      <td>Madison Heights</td>\n",
       "      <td>MI</td>\n",
       "    </tr>\n",
       "    <tr>\n",
       "      <th>5718</th>\n",
       "      <td>Felbry College School of Nursing</td>\n",
       "      <td>Columbus</td>\n",
       "      <td>OH</td>\n",
       "    </tr>\n",
       "    <tr>\n",
       "      <th>4008</th>\n",
       "      <td>Fortis Institute-Scranton</td>\n",
       "      <td>Scranton</td>\n",
       "      <td>PA</td>\n",
       "    </tr>\n",
       "    <tr>\n",
       "      <th>5146</th>\n",
       "      <td>Hawaii Medical College</td>\n",
       "      <td>Honolulu</td>\n",
       "      <td>HI</td>\n",
       "    </tr>\n",
       "    <tr>\n",
       "      <th>5895</th>\n",
       "      <td>Institute of Medical Ultrasound</td>\n",
       "      <td>Atlanta</td>\n",
       "      <td>GA</td>\n",
       "    </tr>\n",
       "    <tr>\n",
       "      <th>3579</th>\n",
       "      <td>Mount Mary University</td>\n",
       "      <td>Milwaukee</td>\n",
       "      <td>WI</td>\n",
       "    </tr>\n",
       "    <tr>\n",
       "      <th>1487</th>\n",
       "      <td>Pine Manor College</td>\n",
       "      <td>Chestnut Hill</td>\n",
       "      <td>MA</td>\n",
       "    </tr>\n",
       "    <tr>\n",
       "      <th>4647</th>\n",
       "      <td>SAE Institute of Technology-Nashville</td>\n",
       "      <td>Nashville</td>\n",
       "      <td>TN</td>\n",
       "    </tr>\n",
       "    <tr>\n",
       "      <th>2945</th>\n",
       "      <td>Williamson College of the Trades</td>\n",
       "      <td>Media</td>\n",
       "      <td>PA</td>\n",
       "    </tr>\n",
       "  </tbody>\n",
       "</table>\n",
       "</div>"
      ],
      "text/plain": [
       "                                         INSTNM             CITY STABBR\n",
       "5491                            Antioch College   Yellow Springs     OH\n",
       "1206                              Berea College            Berea     KY\n",
       "1930             Berkeley College-Woodland Park    Woodland Park     NJ\n",
       "1932                         Bloomfield College       Bloomfield     NJ\n",
       "2334                          Chowan University     Murfreesboro     NC\n",
       "1543                             Dorsey College  Madison Heights     MI\n",
       "3758                   Dorsey College-Roseville        Roseville     MI\n",
       "5138                     Dorsey College-Saginaw          Saginaw     MI\n",
       "3734                       Dorsey College-Wayne            Wayne     MI\n",
       "1542  Dorsey School of Business-Madison Heights  Madison Heights     MI\n",
       "5718           Felbry College School of Nursing         Columbus     OH\n",
       "4008                  Fortis Institute-Scranton         Scranton     PA\n",
       "5146                     Hawaii Medical College         Honolulu     HI\n",
       "5895            Institute of Medical Ultrasound          Atlanta     GA\n",
       "3579                      Mount Mary University        Milwaukee     WI\n",
       "1487                         Pine Manor College    Chestnut Hill     MA\n",
       "4647      SAE Institute of Technology-Nashville        Nashville     TN\n",
       "2945           Williamson College of the Trades            Media     PA"
      ]
     },
     "execution_count": 25,
     "metadata": {},
     "output_type": "execute_result"
    }
   ],
   "source": [
    "inst_df.loc[(inst_df['TUITIONFEE_OUT'] > \n",
    "             inst_df['TUITIONFEE_OUT'].quantile(0.75)) & \n",
    "                (inst_df['FTFTPCTPELL'] > \n",
    "                 inst_df['FTFTPCTPELL'].quantile(0.75)), \n",
    "                        ['INSTNM', 'CITY', 'STABBR']].sort_values(by='INSTNM')"
   ]
  },
  {
   "cell_type": "markdown",
   "id": "ffa9e836",
   "metadata": {},
   "source": [
    "## 11. NPT4_PUB indicates the average net price for public institutions (in-state tuition) and NPT4_PRIV for private institutions. NPT41_PUB and NPT45_PUB show the average price paid by people in the lowest income bracket (1) versus the highest income bracket (5) at public institutions. NPT41_PRIV and NPT45_PRIV show the average price paid by people in the lowest income bracket (1) versus the highest income bracket (5) at private institutions. At how many institutions does the bottom quintile receive money (i.e., the value is negative)?"
   ]
  },
  {
   "cell_type": "code",
   "execution_count": 26,
   "id": "c81b960d",
   "metadata": {},
   "outputs": [
    {
     "data": {
      "text/plain": [
       "748                 Atlanta Technical College\n",
       "3446             Bellingham Technical College\n",
       "194        California Institute of Technology\n",
       "2335              Cleveland Community College\n",
       "1698                Coahoma Community College\n",
       "5597          Coastal Pines Technical College\n",
       "4849    Escuela De Troqueleria Y Herramentaje\n",
       "948          Moraine Valley Community College\n",
       "4216       Putnam Career and Technical Center\n",
       "450                           Skyline College\n",
       "5683      Southern Regional Technical College\n",
       "3019                Trident Technical College\n",
       "Name: INSTNM, dtype: object"
      ]
     },
     "execution_count": 26,
     "metadata": {},
     "output_type": "execute_result"
    }
   ],
   "source": [
    "inst_df['INSTNM'][(inst_df['NPT41_PUB'] < 0) | (inst_df['NPT41_PRIV'] < 0)].sort_values()"
   ]
  },
  {
   "cell_type": "markdown",
   "id": "cdfdf411",
   "metadata": {},
   "source": [
    "## 12. Determine the average proportion that the bottom quintile pays versus the top quintile at public universities."
   ]
  },
  {
   "cell_type": "code",
   "execution_count": 27,
   "id": "f6bb4674",
   "metadata": {},
   "outputs": [
    {
     "data": {
      "text/plain": [
       "np.float64(0.5324770719158269)"
      ]
     },
     "execution_count": 27,
     "metadata": {},
     "output_type": "execute_result"
    }
   ],
   "source": [
    "inst_df['NPT41_PUB'].mean()/inst_df['NPT45_PUB'].mean()"
   ]
  },
  {
   "cell_type": "markdown",
   "id": "63a0fe54",
   "metadata": {},
   "source": [
    "## 13. Determine the average proportion that the bottom quintile pays versus the top quintile at private universities?"
   ]
  },
  {
   "cell_type": "code",
   "execution_count": 28,
   "id": "b0daf237",
   "metadata": {},
   "outputs": [
    {
     "data": {
      "text/plain": [
       "np.float64(0.6510722129400891)"
      ]
     },
     "execution_count": 28,
     "metadata": {},
     "output_type": "execute_result"
    }
   ],
   "source": [
    "inst_df['NPT41_PRIV'].mean()/inst_df['NPT45_PRIV'].mean()"
   ]
  },
  {
   "cell_type": "markdown",
   "id": "79b20d47",
   "metadata": {},
   "source": [
    "## 14A.  For which schools in the cheapest 25% do their students have the top 25% of salaries 10 years after graduation?"
   ]
  },
  {
   "cell_type": "code",
   "execution_count": 29,
   "id": "399dcb1c",
   "metadata": {},
   "outputs": [
    {
     "data": {
      "text/plain": [
       "2093                  CUNY Bernard M Baruch College\n",
       "2096                          CUNY Brooklyn College\n",
       "2098                              CUNY City College\n",
       "2101                            CUNY Hunter College\n",
       "2102      CUNY John Jay College of Criminal Justice\n",
       "2105                            CUNY Lehman College\n",
       "2108                            CUNY Queens College\n",
       "2111                              CUNY York College\n",
       "203     California State University-Dominguez Hills\n",
       "208         California State University-Los Angeles\n",
       "228                                  Canada College\n",
       "432                            College of San Mateo\n",
       "2097                  College of Staten Island CUNY\n",
       "267                                 De Anza College\n",
       "645                Florida International University\n",
       "656       George T Baker Aviation Technical College\n",
       "363                                Moorpark College\n",
       "2013                  New Mexico Military Institute\n",
       "450                                 Skyline College\n",
       "3218           Texas A & M International University\n",
       "652                           University of Florida\n",
       "5563                   University of Florida-Online\n",
       "Name: INSTNM, dtype: object"
      ]
     },
     "execution_count": 29,
     "metadata": {},
     "output_type": "execute_result"
    }
   ],
   "source": [
    "inst_df['INSTNM'][(inst_df['MD_EARN_WNE_P10']>=\n",
    "                   inst_df['MD_EARN_WNE_P10'].quantile(0.75))&\n",
    "                        (inst_df['NPT4_PUB']<=\n",
    "                         inst_df['NPT4_PUB'].quantile(0.25))].sort_values()"
   ]
  },
  {
   "cell_type": "markdown",
   "id": "caa10d21",
   "metadata": {},
   "source": [
    "## 14B. How about private institutions?"
   ]
  },
  {
   "cell_type": "code",
   "execution_count": 30,
   "id": "8d34efe1",
   "metadata": {},
   "outputs": [
    {
     "data": {
      "text/plain": [
       "4755                                          ATA College\n",
       "4732                    American Public University System\n",
       "3055                   Baptist Health Sciences University\n",
       "3556                                       Beloit College\n",
       "3319                             Brigham Young University\n",
       "842                        Brigham Young University-Idaho\n",
       "1011                      Calumet College of Saint Joseph\n",
       "3962                    Center for Advanced Legal Studies\n",
       "3061                        Christian Brothers University\n",
       "1877                                College of Saint Mary\n",
       "4795                         Columbia Southern University\n",
       "2087    Cooper Union for the Advancement of Science an...\n",
       "1948    Fairleigh Dickinson University-Metropolitan Ca...\n",
       "2509                                  Franklin University\n",
       "895                     Graham Hospital School of Nursing\n",
       "1448                                   Harvard University\n",
       "1775                                     Logan University\n",
       "2162                              Maria College of Albany\n",
       "4208    Mercy Hospital School of Practical Nursing-Pla...\n",
       "5369              Mercyhurst University-North East Campus\n",
       "1383                        Ner Israel Rabbinical College\n",
       "2954    New England Tractor Trailer Training School of...\n",
       "2866                                       Peirce College\n",
       "1979                                 Princeton University\n",
       "1989                             Saint Peter's University\n",
       "978                               Saint Xavier University\n",
       "2231                                   St Francis College\n",
       "3695                                  Stanford University\n",
       "1297                             University of Holy Cross\n",
       "4322                         Western Governors University\n",
       "Name: INSTNM, dtype: object"
      ]
     },
     "execution_count": 30,
     "metadata": {},
     "output_type": "execute_result"
    }
   ],
   "source": [
    "inst_df['INSTNM'][(inst_df['MD_EARN_WNE_P10']>=\n",
    "                   inst_df['MD_EARN_WNE_P10'].quantile(0.75))&\n",
    "                        (inst_df['NPT4_PRIV']<=\n",
    "                         inst_df['NPT4_PRIV'].quantile(0.25))].sort_values()"
   ]
  },
  {
   "cell_type": "markdown",
   "id": "a3566b10",
   "metadata": {},
   "source": [
    "## 14C. Is there a correlation between admission rates and completion rates? That is: If a school is highly selective, are students more likely to graduate?"
   ]
  },
  {
   "cell_type": "code",
   "execution_count": 31,
   "id": "0810c0c2",
   "metadata": {},
   "outputs": [
    {
     "data": {
      "text/html": [
       "<div>\n",
       "<style scoped>\n",
       "    .dataframe tbody tr th:only-of-type {\n",
       "        vertical-align: middle;\n",
       "    }\n",
       "\n",
       "    .dataframe tbody tr th {\n",
       "        vertical-align: top;\n",
       "    }\n",
       "\n",
       "    .dataframe thead th {\n",
       "        text-align: right;\n",
       "    }\n",
       "</style>\n",
       "<table border=\"1\" class=\"dataframe\">\n",
       "  <thead>\n",
       "    <tr style=\"text-align: right;\">\n",
       "      <th></th>\n",
       "      <th>C100_4</th>\n",
       "      <th>ADM_RATE</th>\n",
       "    </tr>\n",
       "  </thead>\n",
       "  <tbody>\n",
       "    <tr>\n",
       "      <th>C100_4</th>\n",
       "      <td>1.000000</td>\n",
       "      <td>-0.336871</td>\n",
       "    </tr>\n",
       "    <tr>\n",
       "      <th>ADM_RATE</th>\n",
       "      <td>-0.336871</td>\n",
       "      <td>1.000000</td>\n",
       "    </tr>\n",
       "  </tbody>\n",
       "</table>\n",
       "</div>"
      ],
      "text/plain": [
       "            C100_4  ADM_RATE\n",
       "C100_4    1.000000 -0.336871\n",
       "ADM_RATE -0.336871  1.000000"
      ]
     },
     "execution_count": 31,
     "metadata": {},
     "output_type": "execute_result"
    }
   ],
   "source": [
    "inst_df[['C100_4', 'ADM_RATE']].corr()"
   ]
  },
  {
   "cell_type": "markdown",
   "id": "6595b27b",
   "metadata": {},
   "source": [
    "## 14D. Ten years after graduating, from what kinds of schools (private, for-profit, private nonprofit, or public) do people earn, on average, the greatest amount?"
   ]
  },
  {
   "cell_type": "code",
   "execution_count": 32,
   "id": "d0ffe08f",
   "metadata": {},
   "outputs": [
    {
     "data": {
      "text/html": [
       "<div>\n",
       "<style scoped>\n",
       "    .dataframe tbody tr th:only-of-type {\n",
       "        vertical-align: middle;\n",
       "    }\n",
       "\n",
       "    .dataframe tbody tr th {\n",
       "        vertical-align: top;\n",
       "    }\n",
       "\n",
       "    .dataframe thead th {\n",
       "        text-align: right;\n",
       "    }\n",
       "</style>\n",
       "<table border=\"1\" class=\"dataframe\">\n",
       "  <thead>\n",
       "    <tr style=\"text-align: right;\">\n",
       "      <th></th>\n",
       "      <th>CONTROL</th>\n",
       "      <th>OPEID6</th>\n",
       "    </tr>\n",
       "  </thead>\n",
       "  <tbody>\n",
       "    <tr>\n",
       "      <th>0</th>\n",
       "      <td>Public</td>\n",
       "      <td>1002</td>\n",
       "    </tr>\n",
       "    <tr>\n",
       "      <th>61</th>\n",
       "      <td>Public</td>\n",
       "      <td>1052</td>\n",
       "    </tr>\n",
       "    <tr>\n",
       "      <th>220</th>\n",
       "      <td>Private, nonprofit</td>\n",
       "      <td>25034</td>\n",
       "    </tr>\n",
       "    <tr>\n",
       "      <th>246</th>\n",
       "      <td>Public</td>\n",
       "      <td>1055</td>\n",
       "    </tr>\n",
       "    <tr>\n",
       "      <th>358</th>\n",
       "      <td>Public</td>\n",
       "      <td>1005</td>\n",
       "    </tr>\n",
       "    <tr>\n",
       "      <th>...</th>\n",
       "      <td>...</td>\n",
       "      <td>...</td>\n",
       "    </tr>\n",
       "    <tr>\n",
       "      <th>224843</th>\n",
       "      <td>Private, for-profit</td>\n",
       "      <td>42624</td>\n",
       "    </tr>\n",
       "    <tr>\n",
       "      <th>224844</th>\n",
       "      <td>Private, for-profit</td>\n",
       "      <td>42640</td>\n",
       "    </tr>\n",
       "    <tr>\n",
       "      <th>224846</th>\n",
       "      <td>Private, for-profit</td>\n",
       "      <td>42753</td>\n",
       "    </tr>\n",
       "    <tr>\n",
       "      <th>224847</th>\n",
       "      <td>Public</td>\n",
       "      <td>42837</td>\n",
       "    </tr>\n",
       "    <tr>\n",
       "      <th>224848</th>\n",
       "      <td>Private, nonprofit</td>\n",
       "      <td>42840</td>\n",
       "    </tr>\n",
       "  </tbody>\n",
       "</table>\n",
       "<p>6338 rows × 2 columns</p>\n",
       "</div>"
      ],
      "text/plain": [
       "                    CONTROL  OPEID6\n",
       "0                    Public    1002\n",
       "61                   Public    1052\n",
       "220      Private, nonprofit   25034\n",
       "246                  Public    1055\n",
       "358                  Public    1005\n",
       "...                     ...     ...\n",
       "224843  Private, for-profit   42624\n",
       "224844  Private, for-profit   42640\n",
       "224846  Private, for-profit   42753\n",
       "224847               Public   42837\n",
       "224848   Private, nonprofit   42840\n",
       "\n",
       "[6338 rows x 2 columns]"
      ]
     },
     "execution_count": 32,
     "metadata": {},
     "output_type": "execute_result"
    }
   ],
   "source": [
    "uid_ctrl = fieldOfStudy_df[['CONTROL','OPEID6']].drop_duplicates()\n",
    "uid_ctrl"
   ]
  },
  {
   "cell_type": "code",
   "execution_count": 33,
   "id": "09390a62",
   "metadata": {},
   "outputs": [
    {
     "data": {
      "text/html": [
       "<div>\n",
       "<style scoped>\n",
       "    .dataframe tbody tr th:only-of-type {\n",
       "        vertical-align: middle;\n",
       "    }\n",
       "\n",
       "    .dataframe tbody tr th {\n",
       "        vertical-align: top;\n",
       "    }\n",
       "\n",
       "    .dataframe thead th {\n",
       "        text-align: right;\n",
       "    }\n",
       "</style>\n",
       "<table border=\"1\" class=\"dataframe\">\n",
       "  <thead>\n",
       "    <tr style=\"text-align: right;\">\n",
       "      <th></th>\n",
       "      <th>MD_EARN_WNE_P10</th>\n",
       "      <th>OPEID6</th>\n",
       "    </tr>\n",
       "  </thead>\n",
       "  <tbody>\n",
       "    <tr>\n",
       "      <th>0</th>\n",
       "      <td>36339.0</td>\n",
       "      <td>1002</td>\n",
       "    </tr>\n",
       "    <tr>\n",
       "      <th>1</th>\n",
       "      <td>46990.0</td>\n",
       "      <td>1052</td>\n",
       "    </tr>\n",
       "    <tr>\n",
       "      <th>2</th>\n",
       "      <td>37895.0</td>\n",
       "      <td>25034</td>\n",
       "    </tr>\n",
       "    <tr>\n",
       "      <th>3</th>\n",
       "      <td>54361.0</td>\n",
       "      <td>1055</td>\n",
       "    </tr>\n",
       "    <tr>\n",
       "      <th>4</th>\n",
       "      <td>32084.0</td>\n",
       "      <td>1005</td>\n",
       "    </tr>\n",
       "    <tr>\n",
       "      <th>...</th>\n",
       "      <td>...</td>\n",
       "      <td>...</td>\n",
       "    </tr>\n",
       "    <tr>\n",
       "      <th>6657</th>\n",
       "      <td>NaN</td>\n",
       "      <td>3329</td>\n",
       "    </tr>\n",
       "    <tr>\n",
       "      <th>6658</th>\n",
       "      <td>NaN</td>\n",
       "      <td>3329</td>\n",
       "    </tr>\n",
       "    <tr>\n",
       "      <th>6659</th>\n",
       "      <td>NaN</td>\n",
       "      <td>3329</td>\n",
       "    </tr>\n",
       "    <tr>\n",
       "      <th>6660</th>\n",
       "      <td>NaN</td>\n",
       "      <td>3329</td>\n",
       "    </tr>\n",
       "    <tr>\n",
       "      <th>6661</th>\n",
       "      <td>NaN</td>\n",
       "      <td>3329</td>\n",
       "    </tr>\n",
       "  </tbody>\n",
       "</table>\n",
       "<p>6662 rows × 2 columns</p>\n",
       "</div>"
      ],
      "text/plain": [
       "      MD_EARN_WNE_P10  OPEID6\n",
       "0             36339.0    1002\n",
       "1             46990.0    1052\n",
       "2             37895.0   25034\n",
       "3             54361.0    1055\n",
       "4             32084.0    1005\n",
       "...               ...     ...\n",
       "6657              NaN    3329\n",
       "6658              NaN    3329\n",
       "6659              NaN    3329\n",
       "6660              NaN    3329\n",
       "6661              NaN    3329\n",
       "\n",
       "[6662 rows x 2 columns]"
      ]
     },
     "execution_count": 33,
     "metadata": {},
     "output_type": "execute_result"
    }
   ],
   "source": [
    "income_10yrs = inst_df[['MD_EARN_WNE_P10','OPEID6']]\n",
    "income_10yrs"
   ]
  },
  {
   "cell_type": "code",
   "execution_count": 34,
   "id": "ab12072a",
   "metadata": {},
   "outputs": [
    {
     "data": {
      "text/plain": [
       "CONTROL\n",
       "Private, for-profit    30474.754943\n",
       "Public                 40310.620762\n",
       "Private, nonprofit     48530.408744\n",
       "Name: MD_EARN_WNE_P10, dtype: float64"
      ]
     },
     "execution_count": 34,
     "metadata": {},
     "output_type": "execute_result"
    }
   ],
   "source": [
    "income_10yrs.merge(uid_ctrl).groupby('CONTROL')['MD_EARN_WNE_P10'].mean().sort_values()"
   ]
  },
  {
   "cell_type": "markdown",
   "id": "a8046f47",
   "metadata": {},
   "source": [
    "## 14E.  Do people who graduate from “Ivy Plus” schools (the Ivy League as well as MIT, Stanford, and the University of Chicago) earn more than the average private-school university graduate? If so, how much more?"
   ]
  },
  {
   "cell_type": "code",
   "execution_count": 35,
   "id": "fbc3513e",
   "metadata": {},
   "outputs": [],
   "source": [
    "ivy_plus_schools = [\n",
    "    \"Harvard University\", \"Yale University\", \"Princeton University\",\n",
    "    \"Columbia University\", \"Cornell University\", \"Brown University\",\n",
    "    \"Dartmouth College\", \"University of Pennsylvania\",\n",
    "    \"Massachusetts Institute of Technology\", \"Stanford University\",\n",
    "    \"University of Chicago\"\n",
    "]"
   ]
  },
  {
   "cell_type": "code",
   "execution_count": 36,
   "id": "91be3f48",
   "metadata": {},
   "outputs": [
    {
     "data": {
      "text/plain": [
       "np.float64(92000.4)"
      ]
     },
     "execution_count": 36,
     "metadata": {},
     "output_type": "execute_result"
    }
   ],
   "source": [
    "x = inst_df['MD_EARN_WNE_P10'][inst_df['INSTNM'].isin(ivy_plus_schools)].mean()\n",
    "x"
   ]
  },
  {
   "cell_type": "code",
   "execution_count": 37,
   "id": "d55df6a9",
   "metadata": {},
   "outputs": [
    {
     "data": {
      "text/plain": [
       "np.float64(39297.47537387836)"
      ]
     },
     "execution_count": 37,
     "metadata": {},
     "output_type": "execute_result"
    }
   ],
   "source": [
    "y = inst_df['MD_EARN_WNE_P10'][~inst_df['INSTNM'].isin(ivy_plus_schools)].mean()\n",
    "y"
   ]
  },
  {
   "cell_type": "code",
   "execution_count": 38,
   "id": "8495cf71",
   "metadata": {},
   "outputs": [
    {
     "data": {
      "text/plain": [
       "np.float64(52702.92462612163)"
      ]
     },
     "execution_count": 38,
     "metadata": {},
     "output_type": "execute_result"
    }
   ],
   "source": [
    "x-y"
   ]
  },
  {
   "cell_type": "markdown",
   "id": "cd064263",
   "metadata": {},
   "source": [
    "## 14F. Do people studying at universities in particular states earn, on average, more after 10 years?"
   ]
  },
  {
   "cell_type": "code",
   "execution_count": 39,
   "id": "18393538",
   "metadata": {},
   "outputs": [
    {
     "data": {
      "text/plain": [
       "STABBR\n",
       "MA    53234.396226\n",
       "RI    50432.789474\n",
       "DC    49081.470588\n",
       "CT    48662.017857\n",
       "VT    48383.857143\n",
       "NY    47584.653199\n",
       "NH    46540.791667\n",
       "WA    44594.678161\n",
       "PA    44265.733083\n",
       "MN    43821.510204\n",
       "Name: MD_EARN_WNE_P10, dtype: float64"
      ]
     },
     "execution_count": 39,
     "metadata": {},
     "output_type": "execute_result"
    }
   ],
   "source": [
    "inst_df[['CITY','STABBR']] = inst_df[['CITY','STABBR']].astype('object')\n",
    "inst_df[['STABBR','MD_EARN_WNE_P10']].groupby('STABBR', observed=True)['MD_EARN_WNE_P10'].mean().sort_values(ascending=False).head(10)"
   ]
  },
  {
   "cell_type": "markdown",
   "id": "39bef252",
   "metadata": {},
   "source": [
    "## 15. Create a bar plot for the average amount earned, per state, sorted by ascending pay."
   ]
  },
  {
   "cell_type": "code",
   "execution_count": 40,
   "id": "9f1dad72",
   "metadata": {},
   "outputs": [
    {
     "data": {
      "text/plain": [
       "<Axes: xlabel='STABBR'>"
      ]
     },
     "execution_count": 40,
     "metadata": {},
     "output_type": "execute_result"
    },
    {
     "data": {
      "image/png": "[encoded data removed]",
      "text/plain": [
       "<Figure size 1500x1000 with 1 Axes>"
      ]
     },
     "metadata": {},
     "output_type": "display_data"
    }
   ],
   "source": [
    "inst_df[['STABBR','MD_EARN_WNE_P10']].groupby('STABBR', observed=True)['MD_EARN_WNE_P10'].mean().sort_values(ascending=True).plot.bar(figsize = (15,10))"
   ]
  },
  {
   "cell_type": "markdown",
   "id": "c710b6ba",
   "metadata": {},
   "source": [
    "## 10. Create a boxplot for the earnings by state."
   ]
  },
  {
   "cell_type": "code",
   "execution_count": 41,
   "id": "91298bd0",
   "metadata": {},
   "outputs": [
    {
     "data": {
      "text/plain": [
       "<Axes: >"
      ]
     },
     "execution_count": 41,
     "metadata": {},
     "output_type": "execute_result"
    },
    {
     "data": {
      "image/png": "[encoded data removed]",
      "text/plain": [
       "<Figure size 640x480 with 1 Axes>"
      ]
     },
     "metadata": {},
     "output_type": "display_data"
    }
   ],
   "source": [
    "k = inst_df[['STABBR','MD_EARN_WNE_P10']].groupby('STABBR' ,observed=True).mean()\n",
    "sns.boxplot(data= k)"
   ]
  }
 ],
 "metadata": {
  "kernelspec": {
   "display_name": "Python 3",
   "language": "python",
   "name": "python3"
  },
  "language_info": {
   "codemirror_mode": {
    "name": "ipython",
    "version": 3
   },
   "file_extension": ".py",
   "mimetype": "text/x-python",
   "name": "python",
   "nbconvert_exporter": "python",
   "pygments_lexer": "ipython3",
   "version": "3.13.5"
  }
 },
 "nbformat": 4,
 "nbformat_minor": 5
}
