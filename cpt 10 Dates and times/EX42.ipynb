{
 "cells": [
  {
   "cell_type": "markdown",
   "id": "da3eb696",
   "metadata": {},
   "source": [
    "##  Best tippers"
   ]
  },
  {
   "cell_type": "code",
   "execution_count": 61,
   "id": "77c85d95",
   "metadata": {},
   "outputs": [],
   "source": [
    "import pandas as pd\n",
    "import numpy as np"
   ]
  },
  {
   "cell_type": "code",
   "execution_count": 62,
   "id": "cd645272",
   "metadata": {},
   "outputs": [],
   "source": [
    "cols = ['tpep_pickup_datetime','passenger_count','trip_distance',\n",
    "'fare_amount','extra','mta_tax', 'tip_amount','tolls_amount',\n",
    "'improvement_surcharge','total_amount','congestion_surcharge']\n",
    "\n",
    "dates = ['tpep_pickup_datetime']\n",
    "\n",
    "df1 = pd.read_csv('../data/nyc_taxi_2019-01.csv',\n",
    "                  usecols= cols,\n",
    "                  parse_dates= dates)\n",
    "\n",
    "df2 = pd.read_csv('../data/nyc_taxi_2019-07.csv',\n",
    "                  usecols= cols,\n",
    "                  parse_dates= dates,\n",
    "                  )\n",
    "\n",
    "df = pd.concat([df1,df2])\n",
    "\n",
    "# droping those 2 dataframe cause I need more ram. \n",
    "df1 = df1.drop(columns=cols)\n",
    "df2 = df2.drop(columns=cols)\n"
   ]
  },
  {
   "cell_type": "code",
   "execution_count": 63,
   "id": "f77aedf7",
   "metadata": {},
   "outputs": [
    {
     "name": "stdout",
     "output_type": "stream",
     "text": [
      "<class 'pandas.core.frame.DataFrame'>\n",
      "Index: 13978211 entries, 0 to 6310418\n",
      "Data columns (total 11 columns):\n",
      " #   Column                 Dtype         \n",
      "---  ------                 -----         \n",
      " 0   tpep_pickup_datetime   datetime64[ns]\n",
      " 1   passenger_count        float64       \n",
      " 2   trip_distance          float64       \n",
      " 3   fare_amount            float64       \n",
      " 4   extra                  float64       \n",
      " 5   mta_tax                float64       \n",
      " 6   tip_amount             float64       \n",
      " 7   tolls_amount           float64       \n",
      " 8   improvement_surcharge  float64       \n",
      " 9   total_amount           float64       \n",
      " 10  congestion_surcharge   float64       \n",
      "dtypes: datetime64[ns](1), float64(10)\n",
      "memory usage: 1.2 GB\n"
     ]
    }
   ],
   "source": [
    "df.info()"
   ]
  },
  {
   "cell_type": "code",
   "execution_count": 64,
   "id": "a0052953",
   "metadata": {},
   "outputs": [
    {
     "data": {
      "text/plain": [
       "tpep_pickup_datetime     13978211\n",
       "passenger_count          13944252\n",
       "trip_distance            13978211\n",
       "fare_amount              13978211\n",
       "extra                    13978211\n",
       "mta_tax                  13978211\n",
       "tip_amount               13978211\n",
       "tolls_amount             13978211\n",
       "improvement_surcharge    13978211\n",
       "total_amount             13978211\n",
       "congestion_surcharge      9122233\n",
       "dtype: int64"
      ]
     },
     "execution_count": 64,
     "metadata": {},
     "output_type": "execute_result"
    }
   ],
   "source": [
    "df.count()"
   ]
  },
  {
   "cell_type": "code",
   "execution_count": 65,
   "id": "538e379d",
   "metadata": {},
   "outputs": [
    {
     "data": {
      "text/plain": [
       "tpep_pickup_datetime     2001-02-02 14:55:07\n",
       "passenger_count                          0.0\n",
       "trip_distance                            0.0\n",
       "fare_amount                           -450.0\n",
       "extra                                  -60.0\n",
       "mta_tax                                 -0.5\n",
       "tip_amount                            -221.0\n",
       "tolls_amount                           -70.0\n",
       "improvement_surcharge                   -0.3\n",
       "total_amount                          -450.8\n",
       "congestion_surcharge                    -2.5\n",
       "dtype: object"
      ]
     },
     "execution_count": 65,
     "metadata": {},
     "output_type": "execute_result"
    }
   ],
   "source": [
    "df.min()"
   ]
  },
  {
   "cell_type": "code",
   "execution_count": 66,
   "id": "774a3616",
   "metadata": {},
   "outputs": [
    {
     "data": {
      "text/plain": [
       "tpep_pickup_datetime     2088-01-24 00:25:39\n",
       "passenger_count                          9.0\n",
       "trip_distance                          831.8\n",
       "fare_amount                        623259.86\n",
       "extra                                 535.38\n",
       "mta_tax                                 60.8\n",
       "tip_amount                            787.25\n",
       "tolls_amount                          3288.0\n",
       "improvement_surcharge                    0.6\n",
       "total_amount                       623261.66\n",
       "congestion_surcharge                    2.75\n",
       "dtype: object"
      ]
     },
     "execution_count": 66,
     "metadata": {},
     "output_type": "execute_result"
    }
   ],
   "source": [
    "df.max()"
   ]
  },
  {
   "cell_type": "code",
   "execution_count": 67,
   "id": "7db1ee7a",
   "metadata": {},
   "outputs": [],
   "source": [
    "df = df.dropna(subset= 'passenger_count')"
   ]
  },
  {
   "cell_type": "code",
   "execution_count": 68,
   "id": "e020fefb",
   "metadata": {},
   "outputs": [
    {
     "name": "stdout",
     "output_type": "stream",
     "text": [
      "<class 'pandas.core.frame.DataFrame'>\n",
      "Index: 13944252 entries, 0 to 6276459\n",
      "Data columns (total 11 columns):\n",
      " #   Column                 Dtype         \n",
      "---  ------                 -----         \n",
      " 0   tpep_pickup_datetime   datetime64[ns]\n",
      " 1   passenger_count        int8          \n",
      " 2   trip_distance          float16       \n",
      " 3   fare_amount            float32       \n",
      " 4   extra                  float16       \n",
      " 5   mta_tax                float16       \n",
      " 6   tip_amount             float16       \n",
      " 7   tolls_amount           float32       \n",
      " 8   improvement_surcharge  float16       \n",
      " 9   total_amount           float16       \n",
      " 10  congestion_surcharge   float16       \n",
      "dtypes: datetime64[ns](1), float16(7), float32(2), int8(1)\n",
      "memory usage: 518.6 MB\n"
     ]
    },
    {
     "name": "stderr",
     "output_type": "stream",
     "text": [
      "/usr/lib/python3.13/site-packages/pandas/core/dtypes/astype.py:133: RuntimeWarning: overflow encountered in cast\n",
      "  return arr.astype(dtype, copy=True)\n"
     ]
    }
   ],
   "source": [
    "colm_32 = ['fare_amount',\n",
    "         'tolls_amount'\n",
    "         ]\n",
    "\n",
    "colm_16 = ['tip_amount',\n",
    "           'congestion_surcharge',\n",
    "           'improvement_surcharge',\n",
    "           'mta_tax',\n",
    "           'extra',\n",
    "           'trip_distance',\n",
    "           'total_amount'\n",
    "]\n",
    "\n",
    "df[colm_32] = df[colm_32].astype(np.float32)\n",
    "df[colm_16] = df[colm_16].astype(np.float16)\n",
    "df['passenger_count'] = df['passenger_count'].astype(np.int8)\n",
    "df.info()"
   ]
  },
  {
   "cell_type": "code",
   "execution_count": 69,
   "id": "ba5cc34b",
   "metadata": {},
   "outputs": [
    {
     "name": "stderr",
     "output_type": "stream",
     "text": [
      "/usr/lib/python3.13/site-packages/pandas/io/formats/format.py:1458: RuntimeWarning: overflow encountered in cast\n",
      "  has_large_values = (abs_vals > 1e6).any()\n"
     ]
    },
    {
     "data": {
      "text/html": [
       "<div>\n",
       "<style scoped>\n",
       "    .dataframe tbody tr th:only-of-type {\n",
       "        vertical-align: middle;\n",
       "    }\n",
       "\n",
       "    .dataframe tbody tr th {\n",
       "        vertical-align: top;\n",
       "    }\n",
       "\n",
       "    .dataframe thead th {\n",
       "        text-align: right;\n",
       "    }\n",
       "</style>\n",
       "<table border=\"1\" class=\"dataframe\">\n",
       "  <thead>\n",
       "    <tr style=\"text-align: right;\">\n",
       "      <th></th>\n",
       "      <th>tpep_pickup_datetime</th>\n",
       "      <th>passenger_count</th>\n",
       "      <th>trip_distance</th>\n",
       "      <th>fare_amount</th>\n",
       "      <th>extra</th>\n",
       "      <th>mta_tax</th>\n",
       "      <th>tip_amount</th>\n",
       "      <th>tolls_amount</th>\n",
       "      <th>improvement_surcharge</th>\n",
       "      <th>total_amount</th>\n",
       "      <th>congestion_surcharge</th>\n",
       "    </tr>\n",
       "  </thead>\n",
       "  <tbody>\n",
       "    <tr>\n",
       "      <th>0</th>\n",
       "      <td>2019-01-01 00:46:40</td>\n",
       "      <td>1</td>\n",
       "      <td>1.500000</td>\n",
       "      <td>7.0</td>\n",
       "      <td>0.5</td>\n",
       "      <td>0.5</td>\n",
       "      <td>1.650391</td>\n",
       "      <td>0.0</td>\n",
       "      <td>0.300049</td>\n",
       "      <td>9.953125</td>\n",
       "      <td>NaN</td>\n",
       "    </tr>\n",
       "    <tr>\n",
       "      <th>1</th>\n",
       "      <td>2019-01-01 00:59:47</td>\n",
       "      <td>1</td>\n",
       "      <td>2.599609</td>\n",
       "      <td>14.0</td>\n",
       "      <td>0.5</td>\n",
       "      <td>0.5</td>\n",
       "      <td>1.000000</td>\n",
       "      <td>0.0</td>\n",
       "      <td>0.300049</td>\n",
       "      <td>16.296875</td>\n",
       "      <td>NaN</td>\n",
       "    </tr>\n",
       "    <tr>\n",
       "      <th>2</th>\n",
       "      <td>2018-12-21 13:48:30</td>\n",
       "      <td>3</td>\n",
       "      <td>0.000000</td>\n",
       "      <td>4.5</td>\n",
       "      <td>0.5</td>\n",
       "      <td>0.5</td>\n",
       "      <td>0.000000</td>\n",
       "      <td>0.0</td>\n",
       "      <td>0.300049</td>\n",
       "      <td>5.800781</td>\n",
       "      <td>NaN</td>\n",
       "    </tr>\n",
       "    <tr>\n",
       "      <th>3</th>\n",
       "      <td>2018-11-28 15:52:25</td>\n",
       "      <td>5</td>\n",
       "      <td>0.000000</td>\n",
       "      <td>3.5</td>\n",
       "      <td>0.5</td>\n",
       "      <td>0.5</td>\n",
       "      <td>0.000000</td>\n",
       "      <td>0.0</td>\n",
       "      <td>0.300049</td>\n",
       "      <td>7.550781</td>\n",
       "      <td>NaN</td>\n",
       "    </tr>\n",
       "    <tr>\n",
       "      <th>4</th>\n",
       "      <td>2018-11-28 15:56:57</td>\n",
       "      <td>5</td>\n",
       "      <td>0.000000</td>\n",
       "      <td>52.0</td>\n",
       "      <td>0.0</td>\n",
       "      <td>0.5</td>\n",
       "      <td>0.000000</td>\n",
       "      <td>0.0</td>\n",
       "      <td>0.300049</td>\n",
       "      <td>55.562500</td>\n",
       "      <td>NaN</td>\n",
       "    </tr>\n",
       "  </tbody>\n",
       "</table>\n",
       "</div>"
      ],
      "text/plain": [
       "  tpep_pickup_datetime  passenger_count  trip_distance  fare_amount  extra  \\\n",
       "0  2019-01-01 00:46:40                1       1.500000          7.0    0.5   \n",
       "1  2019-01-01 00:59:47                1       2.599609         14.0    0.5   \n",
       "2  2018-12-21 13:48:30                3       0.000000          4.5    0.5   \n",
       "3  2018-11-28 15:52:25                5       0.000000          3.5    0.5   \n",
       "4  2018-11-28 15:56:57                5       0.000000         52.0    0.0   \n",
       "\n",
       "   mta_tax  tip_amount  tolls_amount  improvement_surcharge  total_amount  \\\n",
       "0      0.5    1.650391           0.0               0.300049      9.953125   \n",
       "1      0.5    1.000000           0.0               0.300049     16.296875   \n",
       "2      0.5    0.000000           0.0               0.300049      5.800781   \n",
       "3      0.5    0.000000           0.0               0.300049      7.550781   \n",
       "4      0.5    0.000000           0.0               0.300049     55.562500   \n",
       "\n",
       "   congestion_surcharge  \n",
       "0                   NaN  \n",
       "1                   NaN  \n",
       "2                   NaN  \n",
       "3                   NaN  \n",
       "4                   NaN  "
      ]
     },
     "execution_count": 69,
     "metadata": {},
     "output_type": "execute_result"
    }
   ],
   "source": [
    "df.head(5)"
   ]
  },
  {
   "cell_type": "code",
   "execution_count": 70,
   "id": "1614caa3",
   "metadata": {},
   "outputs": [
    {
     "name": "stderr",
     "output_type": "stream",
     "text": [
      "/usr/lib/python3.13/site-packages/pandas/io/formats/format.py:1458: RuntimeWarning: overflow encountered in cast\n",
      "  has_large_values = (abs_vals > 1e6).any()\n"
     ]
    },
    {
     "data": {
      "text/html": [
       "<div>\n",
       "<style scoped>\n",
       "    .dataframe tbody tr th:only-of-type {\n",
       "        vertical-align: middle;\n",
       "    }\n",
       "\n",
       "    .dataframe tbody tr th {\n",
       "        vertical-align: top;\n",
       "    }\n",
       "\n",
       "    .dataframe thead th {\n",
       "        text-align: right;\n",
       "    }\n",
       "</style>\n",
       "<table border=\"1\" class=\"dataframe\">\n",
       "  <thead>\n",
       "    <tr style=\"text-align: right;\">\n",
       "      <th></th>\n",
       "      <th>tpep_pickup_datetime</th>\n",
       "      <th>passenger_count</th>\n",
       "      <th>trip_distance</th>\n",
       "      <th>fare_amount</th>\n",
       "      <th>extra</th>\n",
       "      <th>mta_tax</th>\n",
       "      <th>tip_amount</th>\n",
       "      <th>tolls_amount</th>\n",
       "      <th>improvement_surcharge</th>\n",
       "      <th>total_amount</th>\n",
       "      <th>congestion_surcharge</th>\n",
       "      <th>pre_tip_amount</th>\n",
       "    </tr>\n",
       "  </thead>\n",
       "  <tbody>\n",
       "    <tr>\n",
       "      <th>6276455</th>\n",
       "      <td>2019-07-31 23:37:43</td>\n",
       "      <td>3</td>\n",
       "      <td>3.630859</td>\n",
       "      <td>14.5</td>\n",
       "      <td>0.5</td>\n",
       "      <td>0.5</td>\n",
       "      <td>2.000000</td>\n",
       "      <td>0.0</td>\n",
       "      <td>0.300049</td>\n",
       "      <td>20.296875</td>\n",
       "      <td>2.5</td>\n",
       "      <td>18.300049</td>\n",
       "    </tr>\n",
       "    <tr>\n",
       "      <th>6276456</th>\n",
       "      <td>2019-07-31 23:39:35</td>\n",
       "      <td>1</td>\n",
       "      <td>2.000000</td>\n",
       "      <td>9.0</td>\n",
       "      <td>3.0</td>\n",
       "      <td>0.5</td>\n",
       "      <td>3.199219</td>\n",
       "      <td>0.0</td>\n",
       "      <td>0.300049</td>\n",
       "      <td>16.000000</td>\n",
       "      <td>2.5</td>\n",
       "      <td>15.300049</td>\n",
       "    </tr>\n",
       "    <tr>\n",
       "      <th>6276457</th>\n",
       "      <td>2019-07-31 22:42:58</td>\n",
       "      <td>1</td>\n",
       "      <td>0.000000</td>\n",
       "      <td>0.0</td>\n",
       "      <td>0.0</td>\n",
       "      <td>0.0</td>\n",
       "      <td>0.000000</td>\n",
       "      <td>0.0</td>\n",
       "      <td>0.000000</td>\n",
       "      <td>0.000000</td>\n",
       "      <td>2.5</td>\n",
       "      <td>2.500000</td>\n",
       "    </tr>\n",
       "    <tr>\n",
       "      <th>6276458</th>\n",
       "      <td>2019-07-31 23:23:58</td>\n",
       "      <td>1</td>\n",
       "      <td>0.000000</td>\n",
       "      <td>0.0</td>\n",
       "      <td>0.0</td>\n",
       "      <td>0.0</td>\n",
       "      <td>0.000000</td>\n",
       "      <td>0.0</td>\n",
       "      <td>0.000000</td>\n",
       "      <td>0.000000</td>\n",
       "      <td>0.0</td>\n",
       "      <td>0.000000</td>\n",
       "    </tr>\n",
       "    <tr>\n",
       "      <th>6276459</th>\n",
       "      <td>2019-07-31 23:24:41</td>\n",
       "      <td>1</td>\n",
       "      <td>0.000000</td>\n",
       "      <td>0.0</td>\n",
       "      <td>0.0</td>\n",
       "      <td>0.0</td>\n",
       "      <td>0.000000</td>\n",
       "      <td>0.0</td>\n",
       "      <td>0.000000</td>\n",
       "      <td>0.000000</td>\n",
       "      <td>0.0</td>\n",
       "      <td>0.000000</td>\n",
       "    </tr>\n",
       "  </tbody>\n",
       "</table>\n",
       "</div>"
      ],
      "text/plain": [
       "        tpep_pickup_datetime  passenger_count  trip_distance  fare_amount  \\\n",
       "6276455  2019-07-31 23:37:43                3       3.630859         14.5   \n",
       "6276456  2019-07-31 23:39:35                1       2.000000          9.0   \n",
       "6276457  2019-07-31 22:42:58                1       0.000000          0.0   \n",
       "6276458  2019-07-31 23:23:58                1       0.000000          0.0   \n",
       "6276459  2019-07-31 23:24:41                1       0.000000          0.0   \n",
       "\n",
       "         extra  mta_tax  tip_amount  tolls_amount  improvement_surcharge  \\\n",
       "6276455    0.5      0.5    2.000000           0.0               0.300049   \n",
       "6276456    3.0      0.5    3.199219           0.0               0.300049   \n",
       "6276457    0.0      0.0    0.000000           0.0               0.000000   \n",
       "6276458    0.0      0.0    0.000000           0.0               0.000000   \n",
       "6276459    0.0      0.0    0.000000           0.0               0.000000   \n",
       "\n",
       "         total_amount  congestion_surcharge  pre_tip_amount  \n",
       "6276455     20.296875                   2.5       18.300049  \n",
       "6276456     16.000000                   2.5       15.300049  \n",
       "6276457      0.000000                   2.5        2.500000  \n",
       "6276458      0.000000                   0.0        0.000000  \n",
       "6276459      0.000000                   0.0        0.000000  "
      ]
     },
     "execution_count": 70,
     "metadata": {},
     "output_type": "execute_result"
    }
   ],
   "source": [
    "df['pre_tip_amount'] = (df['fare_amount'] + \n",
    "                        df['extra'] + \n",
    "                        df['mta_tax'] + \n",
    "                        df['tolls_amount'] + \n",
    "                        df['improvement_surcharge'] + \n",
    "                        df['congestion_surcharge'])\n",
    "df.tail()"
   ]
  },
  {
   "cell_type": "code",
   "execution_count": 71,
   "id": "fbb3adec",
   "metadata": {},
   "outputs": [
    {
     "name": "stderr",
     "output_type": "stream",
     "text": [
      "/usr/lib/python3.13/site-packages/pandas/io/formats/format.py:1458: RuntimeWarning: overflow encountered in cast\n",
      "  has_large_values = (abs_vals > 1e6).any()\n"
     ]
    },
    {
     "data": {
      "text/html": [
       "<div>\n",
       "<style scoped>\n",
       "    .dataframe tbody tr th:only-of-type {\n",
       "        vertical-align: middle;\n",
       "    }\n",
       "\n",
       "    .dataframe tbody tr th {\n",
       "        vertical-align: top;\n",
       "    }\n",
       "\n",
       "    .dataframe thead th {\n",
       "        text-align: right;\n",
       "    }\n",
       "</style>\n",
       "<table border=\"1\" class=\"dataframe\">\n",
       "  <thead>\n",
       "    <tr style=\"text-align: right;\">\n",
       "      <th></th>\n",
       "      <th>tpep_pickup_datetime</th>\n",
       "      <th>passenger_count</th>\n",
       "      <th>trip_distance</th>\n",
       "      <th>fare_amount</th>\n",
       "      <th>extra</th>\n",
       "      <th>mta_tax</th>\n",
       "      <th>tip_amount</th>\n",
       "      <th>tolls_amount</th>\n",
       "      <th>improvement_surcharge</th>\n",
       "      <th>total_amount</th>\n",
       "      <th>congestion_surcharge</th>\n",
       "      <th>pre_tip_amount</th>\n",
       "      <th>tip_percentage</th>\n",
       "    </tr>\n",
       "  </thead>\n",
       "  <tbody>\n",
       "    <tr>\n",
       "      <th>6276455</th>\n",
       "      <td>2019-07-31 23:37:43</td>\n",
       "      <td>3</td>\n",
       "      <td>3.630859</td>\n",
       "      <td>14.5</td>\n",
       "      <td>0.5</td>\n",
       "      <td>0.5</td>\n",
       "      <td>2.000000</td>\n",
       "      <td>0.0</td>\n",
       "      <td>0.300049</td>\n",
       "      <td>20.296875</td>\n",
       "      <td>2.5</td>\n",
       "      <td>18.300049</td>\n",
       "      <td>0.109289</td>\n",
       "    </tr>\n",
       "    <tr>\n",
       "      <th>6276456</th>\n",
       "      <td>2019-07-31 23:39:35</td>\n",
       "      <td>1</td>\n",
       "      <td>2.000000</td>\n",
       "      <td>9.0</td>\n",
       "      <td>3.0</td>\n",
       "      <td>0.5</td>\n",
       "      <td>3.199219</td>\n",
       "      <td>0.0</td>\n",
       "      <td>0.300049</td>\n",
       "      <td>16.000000</td>\n",
       "      <td>2.5</td>\n",
       "      <td>15.300049</td>\n",
       "      <td>0.209099</td>\n",
       "    </tr>\n",
       "    <tr>\n",
       "      <th>6276457</th>\n",
       "      <td>2019-07-31 22:42:58</td>\n",
       "      <td>1</td>\n",
       "      <td>0.000000</td>\n",
       "      <td>0.0</td>\n",
       "      <td>0.0</td>\n",
       "      <td>0.0</td>\n",
       "      <td>0.000000</td>\n",
       "      <td>0.0</td>\n",
       "      <td>0.000000</td>\n",
       "      <td>0.000000</td>\n",
       "      <td>2.5</td>\n",
       "      <td>2.500000</td>\n",
       "      <td>0.000000</td>\n",
       "    </tr>\n",
       "    <tr>\n",
       "      <th>6276458</th>\n",
       "      <td>2019-07-31 23:23:58</td>\n",
       "      <td>1</td>\n",
       "      <td>0.000000</td>\n",
       "      <td>0.0</td>\n",
       "      <td>0.0</td>\n",
       "      <td>0.0</td>\n",
       "      <td>0.000000</td>\n",
       "      <td>0.0</td>\n",
       "      <td>0.000000</td>\n",
       "      <td>0.000000</td>\n",
       "      <td>0.0</td>\n",
       "      <td>0.000000</td>\n",
       "      <td>NaN</td>\n",
       "    </tr>\n",
       "    <tr>\n",
       "      <th>6276459</th>\n",
       "      <td>2019-07-31 23:24:41</td>\n",
       "      <td>1</td>\n",
       "      <td>0.000000</td>\n",
       "      <td>0.0</td>\n",
       "      <td>0.0</td>\n",
       "      <td>0.0</td>\n",
       "      <td>0.000000</td>\n",
       "      <td>0.0</td>\n",
       "      <td>0.000000</td>\n",
       "      <td>0.000000</td>\n",
       "      <td>0.0</td>\n",
       "      <td>0.000000</td>\n",
       "      <td>NaN</td>\n",
       "    </tr>\n",
       "  </tbody>\n",
       "</table>\n",
       "</div>"
      ],
      "text/plain": [
       "        tpep_pickup_datetime  passenger_count  trip_distance  fare_amount  \\\n",
       "6276455  2019-07-31 23:37:43                3       3.630859         14.5   \n",
       "6276456  2019-07-31 23:39:35                1       2.000000          9.0   \n",
       "6276457  2019-07-31 22:42:58                1       0.000000          0.0   \n",
       "6276458  2019-07-31 23:23:58                1       0.000000          0.0   \n",
       "6276459  2019-07-31 23:24:41                1       0.000000          0.0   \n",
       "\n",
       "         extra  mta_tax  tip_amount  tolls_amount  improvement_surcharge  \\\n",
       "6276455    0.5      0.5    2.000000           0.0               0.300049   \n",
       "6276456    3.0      0.5    3.199219           0.0               0.300049   \n",
       "6276457    0.0      0.0    0.000000           0.0               0.000000   \n",
       "6276458    0.0      0.0    0.000000           0.0               0.000000   \n",
       "6276459    0.0      0.0    0.000000           0.0               0.000000   \n",
       "\n",
       "         total_amount  congestion_surcharge  pre_tip_amount  tip_percentage  \n",
       "6276455     20.296875                   2.5       18.300049        0.109289  \n",
       "6276456     16.000000                   2.5       15.300049        0.209099  \n",
       "6276457      0.000000                   2.5        2.500000        0.000000  \n",
       "6276458      0.000000                   0.0        0.000000             NaN  \n",
       "6276459      0.000000                   0.0        0.000000             NaN  "
      ]
     },
     "execution_count": 71,
     "metadata": {},
     "output_type": "execute_result"
    }
   ],
   "source": [
    "df['tip_percentage'] = df['tip_amount'] / df['pre_tip_amount']\n",
    "df.tail()"
   ]
  },
  {
   "cell_type": "code",
   "execution_count": 72,
   "id": "b78aa52f",
   "metadata": {},
   "outputs": [
    {
     "data": {
      "text/plain": [
       "np.float32(12.774378)"
      ]
     },
     "execution_count": 72,
     "metadata": {},
     "output_type": "execute_result"
    }
   ],
   "source": [
    "df['tip_percentage'].mean() * 100"
   ]
  },
  {
   "cell_type": "code",
   "execution_count": 73,
   "id": "36a93c70",
   "metadata": {},
   "outputs": [
    {
     "data": {
      "text/plain": [
       "tip_percentage\n",
       "False    13939483\n",
       "True         4769\n",
       "Name: count, dtype: int64"
      ]
     },
     "execution_count": 73,
     "metadata": {},
     "output_type": "execute_result"
    }
   ],
   "source": [
    "(df['tip_percentage'] > 1).value_counts()"
   ]
  },
  {
   "cell_type": "code",
   "execution_count": 74,
   "id": "2da48fe1",
   "metadata": {},
   "outputs": [
    {
     "data": {
      "text/plain": [
       "tip_percentage\n",
       "False    79.379934\n",
       "True     20.620066\n",
       "Name: proportion, dtype: float64"
      ]
     },
     "execution_count": 74,
     "metadata": {},
     "output_type": "execute_result"
    }
   ],
   "source": [
    "(df['tip_percentage'] == 0).value_counts(normalize=True) * 100"
   ]
  },
  {
   "cell_type": "code",
   "execution_count": 75,
   "id": "26cb13d9",
   "metadata": {},
   "outputs": [
    {
     "data": {
      "text/plain": [
       "tpep_pickup_datetime\n",
       "0    12.655478\n",
       "1    13.067251\n",
       "2    13.121271\n",
       "3    13.297364\n",
       "4    12.468040\n",
       "5    12.013351\n",
       "6    12.239432\n",
       "Name: tip_percentage, dtype: float32"
      ]
     },
     "execution_count": 75,
     "metadata": {},
     "output_type": "execute_result"
    }
   ],
   "source": [
    "df.groupby(df['tpep_pickup_datetime'].dt.day_of_week)['tip_percentage'].mean()*100"
   ]
  },
  {
   "cell_type": "code",
   "execution_count": 76,
   "id": "ba906ea7",
   "metadata": {},
   "outputs": [
    {
     "data": {
      "text/plain": [
       "tpep_pickup_datetime\n",
       "22    13.745442\n",
       "20    13.606463\n",
       "21    13.562467\n",
       "8     13.503714\n",
       "23    13.239336\n",
       "19    13.220580\n",
       "9     13.094264\n",
       "7     13.076327\n",
       "18    13.060859\n",
       "0     13.053675\n",
       "1     12.774512\n",
       "17    12.623226\n",
       "2     12.550220\n",
       "10    12.417994\n",
       "11    12.285864\n",
       "16    12.228410\n",
       "13    12.218137\n",
       "12    12.193041\n",
       "15    12.086469\n",
       "14    12.085627\n",
       "6     11.966271\n",
       "3     11.846139\n",
       "5     11.065868\n",
       "4     11.031837\n",
       "Name: tip_percentage, dtype: float32"
      ]
     },
     "execution_count": 76,
     "metadata": {},
     "output_type": "execute_result"
    }
   ],
   "source": [
    "df.groupby(df['tpep_pickup_datetime'].dt.hour)['tip_percentage'].mean().sort_values(ascending=False) * 100"
   ]
  },
  {
   "cell_type": "code",
   "execution_count": 77,
   "id": "6ab275ad",
   "metadata": {},
   "outputs": [
    {
     "data": {
      "text/plain": [
       "tpep_pickup_datetime\n",
       "8     16.225334\n",
       "1     14.006763\n",
       "9     13.923433\n",
       "11    13.040105\n",
       "2     12.663550\n",
       "7     12.222281\n",
       "6     10.685122\n",
       "10    10.000401\n",
       "12     2.842782\n",
       "3           NaN\n",
       "4           NaN\n",
       "5           NaN\n",
       "Name: tip_percentage, dtype: float32"
      ]
     },
     "execution_count": 77,
     "metadata": {},
     "output_type": "execute_result"
    }
   ],
   "source": [
    "df.groupby(df['tpep_pickup_datetime'].dt.month)['tip_percentage'].mean().sort_values(ascending=False) * 100"
   ]
  },
  {
   "cell_type": "code",
   "execution_count": 78,
   "id": "dba4597c",
   "metadata": {},
   "outputs": [
    {
     "name": "stderr",
     "output_type": "stream",
     "text": [
      "/usr/lib/python3.13/site-packages/pandas/io/formats/format.py:1458: RuntimeWarning: overflow encountered in cast\n",
      "  has_large_values = (abs_vals > 1e6).any()\n"
     ]
    },
    {
     "data": {
      "text/html": [
       "<div>\n",
       "<style scoped>\n",
       "    .dataframe tbody tr th:only-of-type {\n",
       "        vertical-align: middle;\n",
       "    }\n",
       "\n",
       "    .dataframe tbody tr th {\n",
       "        vertical-align: top;\n",
       "    }\n",
       "\n",
       "    .dataframe thead th {\n",
       "        text-align: right;\n",
       "    }\n",
       "</style>\n",
       "<table border=\"1\" class=\"dataframe\">\n",
       "  <thead>\n",
       "    <tr style=\"text-align: right;\">\n",
       "      <th></th>\n",
       "      <th>passenger_count</th>\n",
       "      <th>trip_distance</th>\n",
       "      <th>fare_amount</th>\n",
       "      <th>extra</th>\n",
       "      <th>mta_tax</th>\n",
       "      <th>tip_amount</th>\n",
       "      <th>tolls_amount</th>\n",
       "      <th>improvement_surcharge</th>\n",
       "      <th>total_amount</th>\n",
       "      <th>congestion_surcharge</th>\n",
       "      <th>pre_tip_amount</th>\n",
       "      <th>tip_percentage</th>\n",
       "    </tr>\n",
       "    <tr>\n",
       "      <th>tpep_pickup_datetime</th>\n",
       "      <th></th>\n",
       "      <th></th>\n",
       "      <th></th>\n",
       "      <th></th>\n",
       "      <th></th>\n",
       "      <th></th>\n",
       "      <th></th>\n",
       "      <th></th>\n",
       "      <th></th>\n",
       "      <th></th>\n",
       "      <th></th>\n",
       "      <th></th>\n",
       "    </tr>\n",
       "  </thead>\n",
       "  <tbody>\n",
       "    <tr>\n",
       "      <th>2019-01-01 00:46:40</th>\n",
       "      <td>1</td>\n",
       "      <td>1.500000</td>\n",
       "      <td>7.0</td>\n",
       "      <td>0.5</td>\n",
       "      <td>0.5</td>\n",
       "      <td>1.650391</td>\n",
       "      <td>0.0</td>\n",
       "      <td>0.300049</td>\n",
       "      <td>9.953125</td>\n",
       "      <td>NaN</td>\n",
       "      <td>NaN</td>\n",
       "      <td>NaN</td>\n",
       "    </tr>\n",
       "    <tr>\n",
       "      <th>2019-01-01 00:59:47</th>\n",
       "      <td>1</td>\n",
       "      <td>2.599609</td>\n",
       "      <td>14.0</td>\n",
       "      <td>0.5</td>\n",
       "      <td>0.5</td>\n",
       "      <td>1.000000</td>\n",
       "      <td>0.0</td>\n",
       "      <td>0.300049</td>\n",
       "      <td>16.296875</td>\n",
       "      <td>NaN</td>\n",
       "      <td>NaN</td>\n",
       "      <td>NaN</td>\n",
       "    </tr>\n",
       "    <tr>\n",
       "      <th>2018-12-21 13:48:30</th>\n",
       "      <td>3</td>\n",
       "      <td>0.000000</td>\n",
       "      <td>4.5</td>\n",
       "      <td>0.5</td>\n",
       "      <td>0.5</td>\n",
       "      <td>0.000000</td>\n",
       "      <td>0.0</td>\n",
       "      <td>0.300049</td>\n",
       "      <td>5.800781</td>\n",
       "      <td>NaN</td>\n",
       "      <td>NaN</td>\n",
       "      <td>NaN</td>\n",
       "    </tr>\n",
       "    <tr>\n",
       "      <th>2018-11-28 15:52:25</th>\n",
       "      <td>5</td>\n",
       "      <td>0.000000</td>\n",
       "      <td>3.5</td>\n",
       "      <td>0.5</td>\n",
       "      <td>0.5</td>\n",
       "      <td>0.000000</td>\n",
       "      <td>0.0</td>\n",
       "      <td>0.300049</td>\n",
       "      <td>7.550781</td>\n",
       "      <td>NaN</td>\n",
       "      <td>NaN</td>\n",
       "      <td>NaN</td>\n",
       "    </tr>\n",
       "    <tr>\n",
       "      <th>2018-11-28 15:56:57</th>\n",
       "      <td>5</td>\n",
       "      <td>0.000000</td>\n",
       "      <td>52.0</td>\n",
       "      <td>0.0</td>\n",
       "      <td>0.5</td>\n",
       "      <td>0.000000</td>\n",
       "      <td>0.0</td>\n",
       "      <td>0.300049</td>\n",
       "      <td>55.562500</td>\n",
       "      <td>NaN</td>\n",
       "      <td>NaN</td>\n",
       "      <td>NaN</td>\n",
       "    </tr>\n",
       "  </tbody>\n",
       "</table>\n",
       "</div>"
      ],
      "text/plain": [
       "                      passenger_count  trip_distance  fare_amount  extra  \\\n",
       "tpep_pickup_datetime                                                       \n",
       "2019-01-01 00:46:40                 1       1.500000          7.0    0.5   \n",
       "2019-01-01 00:59:47                 1       2.599609         14.0    0.5   \n",
       "2018-12-21 13:48:30                 3       0.000000          4.5    0.5   \n",
       "2018-11-28 15:52:25                 5       0.000000          3.5    0.5   \n",
       "2018-11-28 15:56:57                 5       0.000000         52.0    0.0   \n",
       "\n",
       "                      mta_tax  tip_amount  tolls_amount  \\\n",
       "tpep_pickup_datetime                                      \n",
       "2019-01-01 00:46:40       0.5    1.650391           0.0   \n",
       "2019-01-01 00:59:47       0.5    1.000000           0.0   \n",
       "2018-12-21 13:48:30       0.5    0.000000           0.0   \n",
       "2018-11-28 15:52:25       0.5    0.000000           0.0   \n",
       "2018-11-28 15:56:57       0.5    0.000000           0.0   \n",
       "\n",
       "                      improvement_surcharge  total_amount  \\\n",
       "tpep_pickup_datetime                                        \n",
       "2019-01-01 00:46:40                0.300049      9.953125   \n",
       "2019-01-01 00:59:47                0.300049     16.296875   \n",
       "2018-12-21 13:48:30                0.300049      5.800781   \n",
       "2018-11-28 15:52:25                0.300049      7.550781   \n",
       "2018-11-28 15:56:57                0.300049     55.562500   \n",
       "\n",
       "                      congestion_surcharge  pre_tip_amount  tip_percentage  \n",
       "tpep_pickup_datetime                                                        \n",
       "2019-01-01 00:46:40                    NaN             NaN             NaN  \n",
       "2019-01-01 00:59:47                    NaN             NaN             NaN  \n",
       "2018-12-21 13:48:30                    NaN             NaN             NaN  \n",
       "2018-11-28 15:52:25                    NaN             NaN             NaN  \n",
       "2018-11-28 15:56:57                    NaN             NaN             NaN  "
      ]
     },
     "execution_count": 78,
     "metadata": {},
     "output_type": "execute_result"
    }
   ],
   "source": [
    "df = df.set_index('tpep_pickup_datetime')\n",
    "df.head()"
   ]
  },
  {
   "cell_type": "code",
   "execution_count": 79,
   "id": "1b731444",
   "metadata": {},
   "outputs": [
    {
     "data": {
      "text/plain": [
       "tpep_pickup_datetime\n",
       "2019-08-20    0.241867\n",
       "2019-01-03    0.200772\n",
       "2019-08-10    0.200045\n",
       "2019-09-22    0.200038\n",
       "2019-09-24    0.200035\n",
       "2010-08-08    0.200035\n",
       "2019-09-25    0.200030\n",
       "2019-11-27    0.200006\n",
       "2019-12-18    0.199978\n",
       "2019-08-15    0.199963\n",
       "Name: tip_percentage, dtype: float32"
      ]
     },
     "execution_count": 79,
     "metadata": {},
     "output_type": "execute_result"
    }
   ],
   "source": [
    "df.resample('1D')['tip_percentage'].mean().sort_values(ascending=False).head(10)"
   ]
  },
  {
   "cell_type": "code",
   "execution_count": 81,
   "id": "c1fb0791",
   "metadata": {},
   "outputs": [],
   "source": [
    "# df = pd.concat([df['2019-01-01':'2019-01-31'],df['2019-07-01':'2019-07-31']])\n",
    "\n",
    "# df.resample('1D')['tip_percentage'].mean().sort_values(ascending=False).head(10)"
   ]
  },
  {
   "cell_type": "code",
   "execution_count": 83,
   "id": "050b4ccf",
   "metadata": {},
   "outputs": [
    {
     "data": {
      "text/plain": [
       "tpep_pickup_datetime\n",
       "2002-02-28    0.000000\n",
       "2008-12-31    0.017706\n",
       "2009-01-31    0.032433\n",
       "2010-08-31    0.200035\n",
       "2019-01-31    0.140069\n",
       "2019-02-28    0.144726\n",
       "2019-06-30    0.106851\n",
       "2019-07-31    0.122223\n",
       "2019-08-31    0.161232\n",
       "2019-09-30    0.139234\n",
       "2019-10-31    0.100004\n",
       "2019-11-30    0.130401\n",
       "2019-12-31    0.199978\n",
       "2020-01-31    0.175200\n",
       "Name: tip_percentage, dtype: float32"
      ]
     },
     "execution_count": 83,
     "metadata": {},
     "output_type": "execute_result"
    }
   ],
   "source": [
    "df.resample('1ME')['tip_percentage'].mean().dropna()"
   ]
  },
  {
   "cell_type": "code",
   "execution_count": 86,
   "id": "5fe5f2eb",
   "metadata": {},
   "outputs": [
    {
     "data": {
      "text/plain": [
       "np.float32(0.1868738)"
      ]
     },
     "execution_count": 86,
     "metadata": {},
     "output_type": "execute_result"
    }
   ],
   "source": [
    "df.loc[df['tip_amount'] >0, 'tip_percentage'].mean()"
   ]
  }
 ],
 "metadata": {
  "kernelspec": {
   "display_name": "Python 3",
   "language": "python",
   "name": "python3"
  },
  "language_info": {
   "codemirror_mode": {
    "name": "ipython",
    "version": 3
   },
   "file_extension": ".py",
   "mimetype": "text/x-python",
   "name": "python",
   "nbconvert_exporter": "python",
   "pygments_lexer": "ipython3",
   "version": "3.13.5"
  }
 },
 "nbformat": 4,
 "nbformat_minor": 5
}
