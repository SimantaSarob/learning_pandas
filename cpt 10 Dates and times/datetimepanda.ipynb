{
 "cells": [
  {
   "cell_type": "code",
   "execution_count": 1,
   "id": "034d6211",
   "metadata": {},
   "outputs": [],
   "source": [
    "import pandas as pd\n",
    "import numpy as np"
   ]
  },
  {
   "cell_type": "code",
   "execution_count": 4,
   "id": "2b7e297d",
   "metadata": {},
   "outputs": [
    {
     "data": {
      "text/plain": [
       "0   1970-07-14\n",
       "1   1972-03-01\n",
       "2   2000-12-16\n",
       "3   2002-12-17\n",
       "4   2005-10-31\n",
       "dtype: datetime64[ns]"
      ]
     },
     "execution_count": 4,
     "metadata": {},
     "output_type": "execute_result"
    }
   ],
   "source": [
    "s = pd.Series(['1970-07-14', '1972-03-01', '2000-12-16', '2002-12-17', '2005-10-31'])\n",
    "pd.to_datetime(s)"
   ]
  },
  {
   "cell_type": "code",
   "execution_count": 8,
   "id": "a426b2fc",
   "metadata": {},
   "outputs": [
    {
     "data": {
      "text/plain": [
       "0   1970-07-14\n",
       "1   1972-03-01\n",
       "2   2000-12-16\n",
       "3   2002-12-17\n",
       "4   2005-10-31\n",
       "dtype: datetime64[ns]"
      ]
     },
     "execution_count": 8,
     "metadata": {},
     "output_type": "execute_result"
    }
   ],
   "source": [
    "s = pd.Series(['1970-Jul-14', '1972-Mar-01', '2000-Dec-16', '2002-Dec-17', '2005-Oct-31'])\n",
    "pd.to_datetime(s)\n"
   ]
  },
  {
   "cell_type": "code",
   "execution_count": 9,
   "id": "bc228ebb",
   "metadata": {},
   "outputs": [
    {
     "data": {
      "text/plain": [
       "0   1970-07-14\n",
       "1   1972-03-01\n",
       "2   2000-12-16\n",
       "3   2002-12-17\n",
       "4   2005-10-31\n",
       "dtype: datetime64[ns]"
      ]
     },
     "execution_count": 9,
     "metadata": {},
     "output_type": "execute_result"
    }
   ],
   "source": [
    "s = pd.Series(['14-Jul-1970', '01-Mar-1972', '16-Dec-2000', '17-Dec-2002', '31-Oct-2005'])\n",
    "\n",
    "pd.to_datetime(s)"
   ]
  },
  {
   "cell_type": "code",
   "execution_count": 10,
   "id": "9d94c217",
   "metadata": {},
   "outputs": [
    {
     "data": {
      "text/plain": [
       "0   1972-01-03\n",
       "1   1995-05-12\n",
       "dtype: datetime64[ns]"
      ]
     },
     "execution_count": 10,
     "metadata": {},
     "output_type": "execute_result"
    }
   ],
   "source": [
    "s = pd.Series(['01/03/1972', '05/12/1995'])\n",
    "pd.to_datetime(s)"
   ]
  },
  {
   "cell_type": "code",
   "execution_count": 11,
   "id": "a0612b34",
   "metadata": {},
   "outputs": [
    {
     "data": {
      "text/plain": [
       "0   1972-01-03\n",
       "1   1995-05-12\n",
       "dtype: datetime64[ns]"
      ]
     },
     "execution_count": 11,
     "metadata": {},
     "output_type": "execute_result"
    }
   ],
   "source": [
    "s = pd.Series(['01/03/1972', '05/12/1995'])\n",
    "pd.to_datetime(s, dayfirst=False)"
   ]
  },
  {
   "cell_type": "code",
   "execution_count": 26,
   "id": "50af7ac9",
   "metadata": {},
   "outputs": [
    {
     "data": {
      "text/plain": [
       "0   1970-07-14 08:00:00\n",
       "1   1972-03-01 22:00:00\n",
       "2   2000-12-16 12:15:28\n",
       "3   2002-12-17 18:17:00\n",
       "4   2005-10-31 23:51:00\n",
       "dtype: datetime64[ns]"
      ]
     },
     "execution_count": 26,
     "metadata": {},
     "output_type": "execute_result"
    }
   ],
   "source": [
    "s = pd.Series(['1970-07-14 8:00', '1972-03-01 10:00 pm', '2000-12-16 12:15:28', '2002-12-17 18:17', '2005-10-31 23:51'])\n",
    "pd.to_datetime(s,format='mixed')\n"
   ]
  },
  {
   "cell_type": "code",
   "execution_count": 18,
   "id": "b349af6c",
   "metadata": {},
   "outputs": [
    {
     "data": {
      "text/plain": [
       "0   1970-07-14\n",
       "1   1971-03-01\n",
       "2   2000-12-16\n",
       "3   2002-12-17\n",
       "4   2005-10-31\n",
       "dtype: datetime64[ns]"
      ]
     },
     "execution_count": 18,
     "metadata": {},
     "output_type": "execute_result"
    }
   ],
   "source": [
    "df = pd.DataFrame([s.split('-')\n",
    "for s in ['14-07-1970', '01-03-1971', '16-12-2000', '17-12-2002', '31-10-2005']],\n",
    "    columns='day month year'.split())\n",
    "\n",
    "pd.to_datetime(df[['year', 'month', 'day']])"
   ]
  },
  {
   "cell_type": "code",
   "execution_count": 24,
   "id": "66475b83",
   "metadata": {},
   "outputs": [
    {
     "data": {
      "text/plain": [
       "0   18614 days 16:00:00\n",
       "1   18018 days 02:00:00\n",
       "2    7501 days 11:44:32\n",
       "3    6770 days 05:43:00\n",
       "4    5721 days 00:09:00\n",
       "dtype: timedelta64[ns]"
      ]
     },
     "execution_count": 24,
     "metadata": {},
     "output_type": "execute_result"
    }
   ],
   "source": [
    "s = pd.Series(['1970-07-14 8:00', \n",
    "            '1972-03-01 10:00 pm', \n",
    "            '2000-12-16 12:15:28', \n",
    "            '2002-12-17 18:17', \n",
    "            '2005-10-31 23:51'])\n",
    "s = pd.to_datetime(s ,format='mixed')\n",
    "pd.to_datetime('2021-July-01') - s"
   ]
  },
  {
   "cell_type": "code",
   "execution_count": 29,
   "id": "9c4b743b",
   "metadata": {},
   "outputs": [
    {
     "data": {
      "text/plain": [
       "Components(days=2, hours=3, minutes=20, seconds=10, milliseconds=0, microseconds=0, nanoseconds=0)"
      ]
     },
     "execution_count": 29,
     "metadata": {},
     "output_type": "execute_result"
    }
   ],
   "source": [
    "pd.to_timedelta('2 days 3:20:10').components"
   ]
  }
 ],
 "metadata": {
  "kernelspec": {
   "display_name": "Python 3",
   "language": "python",
   "name": "python3"
  },
  "language_info": {
   "codemirror_mode": {
    "name": "ipython",
    "version": 3
   },
   "file_extension": ".py",
   "mimetype": "text/x-python",
   "name": "python",
   "nbconvert_exporter": "python",
   "pygments_lexer": "ipython3",
   "version": "3.13.5"
  }
 },
 "nbformat": 4,
 "nbformat_minor": 5
}
