{
 "cells": [
  {
   "cell_type": "markdown",
   "id": "75d1c98d",
   "metadata": {},
   "source": [
    "## Short, medium, and long taxi rides"
   ]
  },
  {
   "cell_type": "code",
   "execution_count": 36,
   "id": "1a8420b7",
   "metadata": {},
   "outputs": [],
   "source": [
    "import pandas as pd\n",
    "import numpy as np"
   ]
  },
  {
   "cell_type": "code",
   "execution_count": 37,
   "id": "2ce5d9a1",
   "metadata": {},
   "outputs": [],
   "source": [
    "df = pd.read_csv('../data/nyc_taxi_2019-07.csv',\n",
    "                 usecols=['tpep_pickup_datetime',\n",
    "                          'tpep_dropoff_datetime',\n",
    "                          'trip_distance',\n",
    "                          'passenger_count',\n",
    "                          'total_amount'],\n",
    "                 parse_dates=['tpep_pickup_datetime',\n",
    "                              'tpep_dropoff_datetime'])\n"
   ]
  },
  {
   "cell_type": "code",
   "execution_count": 38,
   "id": "60321cd7",
   "metadata": {},
   "outputs": [
    {
     "data": {
      "text/html": [
       "<div>\n",
       "<style scoped>\n",
       "    .dataframe tbody tr th:only-of-type {\n",
       "        vertical-align: middle;\n",
       "    }\n",
       "\n",
       "    .dataframe tbody tr th {\n",
       "        vertical-align: top;\n",
       "    }\n",
       "\n",
       "    .dataframe thead th {\n",
       "        text-align: right;\n",
       "    }\n",
       "</style>\n",
       "<table border=\"1\" class=\"dataframe\">\n",
       "  <thead>\n",
       "    <tr style=\"text-align: right;\">\n",
       "      <th></th>\n",
       "      <th>tpep_pickup_datetime</th>\n",
       "      <th>tpep_dropoff_datetime</th>\n",
       "      <th>passenger_count</th>\n",
       "      <th>trip_distance</th>\n",
       "      <th>total_amount</th>\n",
       "    </tr>\n",
       "  </thead>\n",
       "  <tbody>\n",
       "    <tr>\n",
       "      <th>0</th>\n",
       "      <td>2019-07-01 00:51:04</td>\n",
       "      <td>2019-07-01 00:51:33</td>\n",
       "      <td>1.0</td>\n",
       "      <td>0.00</td>\n",
       "      <td>4.94</td>\n",
       "    </tr>\n",
       "    <tr>\n",
       "      <th>1</th>\n",
       "      <td>2019-07-01 00:46:04</td>\n",
       "      <td>2019-07-01 01:05:46</td>\n",
       "      <td>1.0</td>\n",
       "      <td>4.16</td>\n",
       "      <td>20.30</td>\n",
       "    </tr>\n",
       "    <tr>\n",
       "      <th>2</th>\n",
       "      <td>2019-07-01 00:25:09</td>\n",
       "      <td>2019-07-01 01:00:56</td>\n",
       "      <td>1.0</td>\n",
       "      <td>18.80</td>\n",
       "      <td>70.67</td>\n",
       "    </tr>\n",
       "    <tr>\n",
       "      <th>3</th>\n",
       "      <td>2019-07-01 00:33:32</td>\n",
       "      <td>2019-07-01 01:15:27</td>\n",
       "      <td>1.0</td>\n",
       "      <td>18.46</td>\n",
       "      <td>66.36</td>\n",
       "    </tr>\n",
       "    <tr>\n",
       "      <th>4</th>\n",
       "      <td>2019-07-01 00:00:55</td>\n",
       "      <td>2019-07-01 00:13:05</td>\n",
       "      <td>0.0</td>\n",
       "      <td>1.70</td>\n",
       "      <td>15.30</td>\n",
       "    </tr>\n",
       "  </tbody>\n",
       "</table>\n",
       "</div>"
      ],
      "text/plain": [
       "  tpep_pickup_datetime tpep_dropoff_datetime  passenger_count  trip_distance  \\\n",
       "0  2019-07-01 00:51:04   2019-07-01 00:51:33              1.0           0.00   \n",
       "1  2019-07-01 00:46:04   2019-07-01 01:05:46              1.0           4.16   \n",
       "2  2019-07-01 00:25:09   2019-07-01 01:00:56              1.0          18.80   \n",
       "3  2019-07-01 00:33:32   2019-07-01 01:15:27              1.0          18.46   \n",
       "4  2019-07-01 00:00:55   2019-07-01 00:13:05              0.0           1.70   \n",
       "\n",
       "   total_amount  \n",
       "0          4.94  \n",
       "1         20.30  \n",
       "2         70.67  \n",
       "3         66.36  \n",
       "4         15.30  "
      ]
     },
     "execution_count": 38,
     "metadata": {},
     "output_type": "execute_result"
    }
   ],
   "source": [
    "df.head()"
   ]
  },
  {
   "cell_type": "code",
   "execution_count": 39,
   "id": "0bef5961",
   "metadata": {},
   "outputs": [
    {
     "data": {
      "text/plain": [
       "tpep_pickup_datetime     datetime64[ns]\n",
       "tpep_dropoff_datetime    datetime64[ns]\n",
       "passenger_count                 float64\n",
       "trip_distance                   float64\n",
       "total_amount                    float64\n",
       "dtype: object"
      ]
     },
     "execution_count": 39,
     "metadata": {},
     "output_type": "execute_result"
    }
   ],
   "source": [
    "df.dtypes"
   ]
  },
  {
   "cell_type": "code",
   "execution_count": 40,
   "id": "91529f17",
   "metadata": {},
   "outputs": [],
   "source": [
    "df['trip_time'] = (df['tpep_dropoff_datetime'] -df['tpep_pickup_datetime'])"
   ]
  },
  {
   "cell_type": "code",
   "execution_count": 41,
   "id": "f419ecd5",
   "metadata": {},
   "outputs": [
    {
     "data": {
      "text/plain": [
       "np.int64(70212)"
      ]
     },
     "execution_count": 41,
     "metadata": {},
     "output_type": "execute_result"
    }
   ],
   "source": [
    "df.loc[df['trip_time'] < '1 minute','trip_time'].count()"
   ]
  },
  {
   "cell_type": "code",
   "execution_count": 42,
   "id": "5ef88c16",
   "metadata": {},
   "outputs": [
    {
     "data": {
      "text/plain": [
       "np.float64(1.1126361022936828)"
      ]
     },
     "execution_count": 42,
     "metadata": {},
     "output_type": "execute_result"
    }
   ],
   "source": [
    "df.loc[df['trip_time'] < '1 minute', 'trip_time'].count() / df['trip_time'].count() * 100"
   ]
  },
  {
   "cell_type": "code",
   "execution_count": 43,
   "id": "f537cd0e",
   "metadata": {},
   "outputs": [
    {
     "data": {
      "text/plain": [
       "np.float64(30.397584031219733)"
      ]
     },
     "execution_count": 43,
     "metadata": {},
     "output_type": "execute_result"
    }
   ],
   "source": [
    "df.loc[df['trip_time'] < '1 minute','total_amount'].mean()"
   ]
  },
  {
   "cell_type": "code",
   "execution_count": 44,
   "id": "9670cb5c",
   "metadata": {},
   "outputs": [
    {
     "data": {
      "text/plain": [
       "np.int64(16698)"
      ]
     },
     "execution_count": 44,
     "metadata": {},
     "output_type": "execute_result"
    }
   ],
   "source": [
    "df.loc[df['trip_time'] > '10 hours', 'trip_time'].count()"
   ]
  },
  {
   "cell_type": "code",
   "execution_count": 45,
   "id": "079e1655",
   "metadata": {},
   "outputs": [
    {
     "data": {
      "text/plain": [
       "np.float64(0.2646100045020782)"
      ]
     },
     "execution_count": 45,
     "metadata": {},
     "output_type": "execute_result"
    }
   ],
   "source": [
    "df.loc[df['trip_time'] > '10 hours', 'trip_time'].count() / df['trip_time'].count() * 100"
   ]
  },
  {
   "cell_type": "code",
   "execution_count": 46,
   "id": "cabccbd5",
   "metadata": {},
   "outputs": [],
   "source": [
    "df['trip_time_group'] = pd.cut(df['trip_time'],\n",
    "                                bins=[pd.to_timedelta(arg) for arg in ['0 seconds','10 minutes','1 hour','100 hours']],\n",
    "                                labels=['short', 'medium', 'long'])\n"
   ]
  },
  {
   "cell_type": "code",
   "execution_count": 47,
   "id": "723e7e06",
   "metadata": {},
   "outputs": [
    {
     "data": {
      "text/plain": [
       "trip_time_group\n",
       "short     1.552411\n",
       "medium    1.585806\n",
       "long      1.700859\n",
       "Name: passenger_count, dtype: float64"
      ]
     },
     "execution_count": 47,
     "metadata": {},
     "output_type": "execute_result"
    }
   ],
   "source": [
    "df.groupby('trip_time_group', observed=False)['passenger_count'].mean()"
   ]
  },
  {
   "cell_type": "code",
   "execution_count": 48,
   "id": "10d981af",
   "metadata": {},
   "outputs": [
    {
     "data": {
      "text/plain": [
       "387"
      ]
     },
     "execution_count": 48,
     "metadata": {},
     "output_type": "execute_result"
    }
   ],
   "source": [
    "len(df[(df['tpep_pickup_datetime'] < '2019-07-01') | (df['tpep_pickup_datetime'] > '2019-07-31 23:59' )].index)"
   ]
  },
  {
   "cell_type": "code",
   "execution_count": 49,
   "id": "9b4f6cc7",
   "metadata": {},
   "outputs": [
    {
     "data": {
      "text/plain": [
       "passenger_count\n",
       "0.0   0 days 00:14:18.929810752\n",
       "1.0   0 days 00:17:46.148103924\n",
       "2.0   0 days 00:18:34.024342704\n",
       "3.0   0 days 00:19:02.079604271\n",
       "4.0   0 days 00:20:10.057290100\n",
       "5.0   0 days 00:22:29.870464324\n",
       "6.0   0 days 00:20:54.109564300\n",
       "7.0   0 days 00:16:38.206896551\n",
       "8.0      0 days 00:11:00.500000\n",
       "9.0      0 days 00:49:16.125000\n",
       "Name: trip_time, dtype: timedelta64[ns]"
      ]
     },
     "execution_count": 49,
     "metadata": {},
     "output_type": "execute_result"
    }
   ],
   "source": [
    "df['trip_time'] = df['tpep_dropoff_datetime'] - df['tpep_pickup_datetime']\n",
    "df.groupby('passenger_count')['trip_time'].mean()"
   ]
  },
  {
   "cell_type": "code",
   "execution_count": 50,
   "id": "21009684",
   "metadata": {},
   "outputs": [],
   "source": [
    "df2 = pd.read_csv('../data/nyc_taxi_2020-07.csv',\n",
    "                  usecols=['tpep_pickup_datetime',\n",
    "                           'tpep_dropoff_datetime',\n",
    "                           'trip_distance', \n",
    "                           'passenger_count', \n",
    "                           'total_amount'],\n",
    "                    parse_dates=['tpep_pickup_datetime', \n",
    "                                 'tpep_dropoff_datetime'])\n",
    "\n",
    "all_df = pd.concat([df,df2])"
   ]
  },
  {
   "cell_type": "code",
   "execution_count": 51,
   "id": "9275dc02",
   "metadata": {},
   "outputs": [
    {
     "data": {
      "text/plain": [
       "tpep_pickup_datetime  passenger_count\n",
       "2002                  1.0                18.002500\n",
       "                      2.0                18.800000\n",
       "2008                  1.0                18.340000\n",
       "                      2.0                42.860000\n",
       "                      5.0                11.966667\n",
       "2009                  1.0                23.923571\n",
       "                      2.0                45.316000\n",
       "2010                  2.0                18.360000\n",
       "2019                  0.0                18.981793\n",
       "                      1.0                19.284646\n",
       "                      2.0                20.097442\n",
       "                      3.0                20.208111\n",
       "                      4.0                21.063172\n",
       "                      5.0                19.419311\n",
       "                      6.0                19.386516\n",
       "                      7.0                70.080690\n",
       "                      8.0                74.760455\n",
       "                      9.0                93.509375\n",
       "2020                  0.0                16.538912\n",
       "                      1.0                16.856554\n",
       "                      2.0                17.188322\n",
       "                      3.0                17.103106\n",
       "                      4.0                17.964939\n",
       "                      5.0                16.725836\n",
       "                      6.0                16.812911\n",
       "                      7.0                22.456000\n",
       "                      8.0                10.300000\n",
       "                      9.0                11.760000\n",
       "Name: total_amount, dtype: float64"
      ]
     },
     "execution_count": 51,
     "metadata": {},
     "output_type": "execute_result"
    }
   ],
   "source": [
    "all_df.groupby([all_df['tpep_pickup_datetime'].dt.year, 'passenger_count'])['total_amount'].mean()"
   ]
  }
 ],
 "metadata": {
  "kernelspec": {
   "display_name": "Python 3",
   "language": "python",
   "name": "python3"
  },
  "language_info": {
   "codemirror_mode": {
    "name": "ipython",
    "version": 3
   },
   "file_extension": ".py",
   "mimetype": "text/x-python",
   "name": "python",
   "nbconvert_exporter": "python",
   "pygments_lexer": "ipython3",
   "version": "3.13.5"
  }
 },
 "nbformat": 4,
 "nbformat_minor": 5
}
