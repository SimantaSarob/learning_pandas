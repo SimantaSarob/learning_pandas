{
 "cells": [
  {
   "cell_type": "markdown",
   "id": "5a96c8ba",
   "metadata": {},
   "source": [
    "## (CPT 01 EX01) Grade 10 avareage marks in every months.\n",
    "\n",
    "1. What is the student’s average test score for the entire year?\n",
    "2. What is the student’s average test score during the first half of the year (i.e., the first five months)?\n",
    "3. What is the student’s average test score during the second half of the year?\n",
    "4. Did the student improve their performance in the second half? If so, by how much?"
   ]
  },
  {
   "cell_type": "code",
   "execution_count": 18,
   "id": "35fe1a15-150f-4564-aebf-1e149c5ad8f9",
   "metadata": {},
   "outputs": [],
   "source": [
    "import pandas as pd\n",
    "import numpy as np\n",
    "\n",
    "from pandas import Series, DataFrame"
   ]
  },
  {
   "cell_type": "code",
   "execution_count": 28,
   "id": "530c00cd",
   "metadata": {},
   "outputs": [
    {
     "data": {
      "text/plain": [
       "Jan    92\n",
       "Feb    92\n",
       "Mar    94\n",
       "Apr    77\n",
       "May    97\n",
       "Jun    71\n",
       "Jly    95\n",
       "Aug    70\n",
       "Sep    88\n",
       "Oct    71\n",
       "Nov    94\n",
       "Dec    75\n",
       "dtype: int64"
      ]
     },
     "execution_count": 28,
     "metadata": {},
     "output_type": "execute_result"
    }
   ],
   "source": [
    "\n",
    "\n",
    "random_numbers = np.random.default_rng().integers(70,100,12)\n",
    "# s = Series(random_numbers)\n",
    "# s.index = \"Jan Feb Mar Apr May Jun Jly Aug Sep Oct Nov Dec\".split()  # not a good way to do things. \n",
    "months = \"Jan Feb Mar Apr May Jun Jly Aug Sep Oct Nov Dec\".split()\n",
    "\n",
    "s = Series(random_numbers, index= months)\n",
    "s\n"
   ]
  },
  {
   "cell_type": "code",
   "execution_count": 20,
   "id": "96523758",
   "metadata": {},
   "outputs": [
    {
     "data": {
      "text/plain": [
       "'yearly avarage 87.91666666666667'"
      ]
     },
     "execution_count": 20,
     "metadata": {},
     "output_type": "execute_result"
    }
   ],
   "source": [
    "f\"yearly avarage {random_numbers.mean()}\""
   ]
  },
  {
   "cell_type": "code",
   "execution_count": 21,
   "id": "dbe80d39",
   "metadata": {},
   "outputs": [
    {
     "data": {
      "text/plain": [
       "'avarage of the first half 88.83333333333333'"
      ]
     },
     "execution_count": 21,
     "metadata": {},
     "output_type": "execute_result"
    }
   ],
   "source": [
    "first_half = f\"avarage of the first half {random_numbers[:6].mean()}\"\n",
    "first_half"
   ]
  },
  {
   "cell_type": "code",
   "execution_count": 22,
   "id": "d7c17ac3",
   "metadata": {},
   "outputs": [
    {
     "data": {
      "text/plain": [
       "'avarage of the Jan to June 88.83333333333333'"
      ]
     },
     "execution_count": 22,
     "metadata": {},
     "output_type": "execute_result"
    }
   ],
   "source": [
    "f\"avarage of the Jan to June {s.loc['Jan':'Jun'].mean()}\""
   ]
  },
  {
   "cell_type": "code",
   "execution_count": 23,
   "id": "8e844d26",
   "metadata": {},
   "outputs": [
    {
     "data": {
      "text/plain": [
       "'avarage of the second half 87.0'"
      ]
     },
     "execution_count": 23,
     "metadata": {},
     "output_type": "execute_result"
    }
   ],
   "source": [
    "second_half = f\"avarage of the second half {random_numbers[6:].mean()}\"\n",
    "second_half"
   ]
  },
  {
   "cell_type": "code",
   "execution_count": 24,
   "id": "c9783a32",
   "metadata": {},
   "outputs": [
    {
     "data": {
      "text/plain": [
       "'avarage of the July to December 87.0'"
      ]
     },
     "execution_count": 24,
     "metadata": {},
     "output_type": "execute_result"
    }
   ],
   "source": [
    "f\"avarage of the July to December {s.loc['Jly':'Dec'].mean()}\"\n"
   ]
  },
  {
   "cell_type": "code",
   "execution_count": 25,
   "id": "86cb1381",
   "metadata": {},
   "outputs": [
    {
     "data": {
      "text/plain": [
       "'Improvment: 1.8333333333333286'"
      ]
     },
     "execution_count": 25,
     "metadata": {},
     "output_type": "execute_result"
    }
   ],
   "source": [
    "f\"Improvment: {random_numbers[:6].mean() - random_numbers[6:].mean()}\""
   ]
  },
  {
   "cell_type": "code",
   "execution_count": 29,
   "id": "3e85ee57",
   "metadata": {},
   "outputs": [
    {
     "data": {
      "text/plain": [
       "'max number: 97 and Month: May'"
      ]
     },
     "execution_count": 29,
     "metadata": {},
     "output_type": "execute_result"
    }
   ],
   "source": [
    "f'max number: {s.max()} and Month: {s.idxmax()}'"
   ]
  }
 ],
 "metadata": {
  "kernelspec": {
   "display_name": "Python 3",
   "language": "python",
   "name": "python3"
  },
  "language_info": {
   "codemirror_mode": {
    "name": "ipython",
    "version": 3
   },
   "file_extension": ".py",
   "mimetype": "text/x-python",
   "name": "python",
   "nbconvert_exporter": "python",
   "pygments_lexer": "ipython3",
   "version": "3.13.3"
  }
 },
 "nbformat": 4,
 "nbformat_minor": 5
}
