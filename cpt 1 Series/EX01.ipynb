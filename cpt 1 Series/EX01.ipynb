{
 "cells": [
  {
   "cell_type": "markdown",
   "id": "5a96c8ba",
   "metadata": {},
   "source": [
    "## (CPT 01 EX01) Grade 10 avareage marks in every months.\n",
    "\n",
    "1. What is the student’s average test score for the entire year?\n",
    "2. What is the student’s average test score during the first half of the year (i.e., the first five months)?\n",
    "3. What is the student’s average test score during the second half of the year?\n",
    "4. Did the student improve their performance in the second half? If so, by how much?"
   ]
  },
  {
   "cell_type": "code",
   "execution_count": 1,
   "id": "35fe1a15-150f-4564-aebf-1e149c5ad8f9",
   "metadata": {},
   "outputs": [],
   "source": [
    "import pandas as pd\n",
    "import numpy as np\n",
    "\n",
    "from pandas import Series, DataFrame"
   ]
  },
  {
   "cell_type": "code",
   "execution_count": 2,
   "id": "530c00cd",
   "metadata": {},
   "outputs": [
    {
     "data": {
      "application/vnd.microsoft.datawrangler.viewer.v0+json": {
       "columns": [
        {
         "name": "index",
         "rawType": "object",
         "type": "string"
        },
        {
         "name": "0",
         "rawType": "int64",
         "type": "integer"
        }
       ],
       "ref": "6e4170aa-84e3-4a36-99a3-432d8af71e2a",
       "rows": [
        [
         "Jan",
         "93"
        ],
        [
         "Feb",
         "81"
        ],
        [
         "Mar",
         "95"
        ],
        [
         "Apr",
         "94"
        ],
        [
         "May",
         "84"
        ],
        [
         "Jun",
         "89"
        ],
        [
         "Jly",
         "90"
        ],
        [
         "Aug",
         "99"
        ],
        [
         "Sep",
         "93"
        ],
        [
         "Oct",
         "85"
        ],
        [
         "Nov",
         "77"
        ],
        [
         "Dec",
         "80"
        ]
       ],
       "shape": {
        "columns": 1,
        "rows": 12
       }
      },
      "text/plain": [
       "Jan    93\n",
       "Feb    81\n",
       "Mar    95\n",
       "Apr    94\n",
       "May    84\n",
       "Jun    89\n",
       "Jly    90\n",
       "Aug    99\n",
       "Sep    93\n",
       "Oct    85\n",
       "Nov    77\n",
       "Dec    80\n",
       "dtype: int64"
      ]
     },
     "execution_count": 2,
     "metadata": {},
     "output_type": "execute_result"
    }
   ],
   "source": [
    "\n",
    "\n",
    "random_numbers = np.random.default_rng().integers(70,100,12)\n",
    "# s = Series(random_numbers)\n",
    "# s.index = \"Jan Feb Mar Apr May Jun Jly Aug Sep Oct Nov Dec\".split()  # not a good way to do things. \n",
    "months = \"Jan Feb Mar Apr May Jun Jly Aug Sep Oct Nov Dec\".split()\n",
    "\n",
    "s = Series(random_numbers, index= months)\n",
    "s\n"
   ]
  },
  {
   "cell_type": "code",
   "execution_count": 3,
   "id": "96523758",
   "metadata": {},
   "outputs": [
    {
     "data": {
      "text/plain": [
       "'yearly avarage 88.33333333333333'"
      ]
     },
     "execution_count": 3,
     "metadata": {},
     "output_type": "execute_result"
    }
   ],
   "source": [
    "f\"yearly avarage {random_numbers.mean()}\""
   ]
  },
  {
   "cell_type": "code",
   "execution_count": 4,
   "id": "dbe80d39",
   "metadata": {},
   "outputs": [
    {
     "data": {
      "text/plain": [
       "'avarage of the first half 89.33333333333333'"
      ]
     },
     "execution_count": 4,
     "metadata": {},
     "output_type": "execute_result"
    }
   ],
   "source": [
    "first_half = f\"avarage of the first half {random_numbers[:6].mean()}\"\n",
    "first_half"
   ]
  },
  {
   "cell_type": "code",
   "execution_count": 5,
   "id": "d7c17ac3",
   "metadata": {},
   "outputs": [
    {
     "data": {
      "text/plain": [
       "'avarage of the Jan to June 89.33333333333333'"
      ]
     },
     "execution_count": 5,
     "metadata": {},
     "output_type": "execute_result"
    }
   ],
   "source": [
    "f\"avarage of the Jan to June {s.loc['Jan':'Jun'].mean()}\""
   ]
  },
  {
   "cell_type": "code",
   "execution_count": 6,
   "id": "8e844d26",
   "metadata": {},
   "outputs": [
    {
     "data": {
      "text/plain": [
       "'avarage of the second half 87.33333333333333'"
      ]
     },
     "execution_count": 6,
     "metadata": {},
     "output_type": "execute_result"
    }
   ],
   "source": [
    "second_half = f\"avarage of the second half {random_numbers[6:].mean()}\"\n",
    "second_half"
   ]
  },
  {
   "cell_type": "code",
   "execution_count": 7,
   "id": "c9783a32",
   "metadata": {},
   "outputs": [
    {
     "data": {
      "text/plain": [
       "'avarage of the July to December 87.33333333333333'"
      ]
     },
     "execution_count": 7,
     "metadata": {},
     "output_type": "execute_result"
    }
   ],
   "source": [
    "f\"avarage of the July to December {s.loc['Jly':'Dec'].mean()}\"\n"
   ]
  },
  {
   "cell_type": "code",
   "execution_count": 8,
   "id": "86cb1381",
   "metadata": {},
   "outputs": [
    {
     "data": {
      "text/plain": [
       "'Improvment: 2.0'"
      ]
     },
     "execution_count": 8,
     "metadata": {},
     "output_type": "execute_result"
    }
   ],
   "source": [
    "f\"Improvment: {random_numbers[:6].mean() - random_numbers[6:].mean()}\""
   ]
  },
  {
   "cell_type": "code",
   "execution_count": 9,
   "id": "3e85ee57",
   "metadata": {},
   "outputs": [
    {
     "data": {
      "text/plain": [
       "'max number: 99 and Month: Aug'"
      ]
     },
     "execution_count": 9,
     "metadata": {},
     "output_type": "execute_result"
    }
   ],
   "source": [
    "f'max number: {s.max()} and Month: {s.idxmax()}'"
   ]
  },
  {
   "cell_type": "code",
   "execution_count": 10,
   "id": "8247f89b",
   "metadata": {},
   "outputs": [
    {
     "data": {
      "application/vnd.microsoft.datawrangler.viewer.v0+json": {
       "columns": [
        {
         "name": "index",
         "rawType": "object",
         "type": "string"
        },
        {
         "name": "0",
         "rawType": "int64",
         "type": "integer"
        }
       ],
       "ref": "fd3acfbc-20ee-4a2b-b056-531194684c92",
       "rows": [
        [
         "Aug",
         "99"
        ],
        [
         "Mar",
         "95"
        ],
        [
         "Apr",
         "94"
        ],
        [
         "Jan",
         "93"
        ],
        [
         "Sep",
         "93"
        ]
       ],
       "shape": {
        "columns": 1,
        "rows": 5
       }
      },
      "text/plain": [
       "Aug    99\n",
       "Mar    95\n",
       "Apr    94\n",
       "Jan    93\n",
       "Sep    93\n",
       "dtype: int64"
      ]
     },
     "execution_count": 10,
     "metadata": {},
     "output_type": "execute_result"
    }
   ],
   "source": [
    "# top 5 numbers\n",
    "s.sort_values(ascending=False).head(5)"
   ]
  }
 ],
 "metadata": {
  "kernelspec": {
   "display_name": "Python 3",
   "language": "python",
   "name": "python3"
  },
  "language_info": {
   "codemirror_mode": {
    "name": "ipython",
    "version": 3
   },
   "file_extension": ".py",
   "mimetype": "text/x-python",
   "name": "python",
   "nbconvert_exporter": "python",
   "pygments_lexer": "ipython3",
   "version": "3.13.2"
  }
 },
 "nbformat": 4,
 "nbformat_minor": 5
}
