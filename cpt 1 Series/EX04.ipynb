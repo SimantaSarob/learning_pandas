{
 "cells": [
  {
   "cell_type": "markdown",
   "id": "5d9b4519",
   "metadata": {},
   "source": [
    "## Descriptive Statistics\n",
    "\n",
    "1. Generate a series of 100,000 floats in a normal distribution with a mean of 0 and a standard deviation of 100.\n",
    "2. Get the descriptive statistics for this series. How close are the mean and median? (You don’t need to calculate the difference; rather, consider why they aren’t the same.)\n",
    "3. Replace the minimum value with 5 times the maximum value.\n",
    "4. Get the descriptive statistics again. Did the mean, median, and standard deviations change from their previous values? (Again, it’s enough to see the difference without calculating it.) If so, why?\n",
    "\n"
   ]
  },
  {
   "cell_type": "code",
   "execution_count": 22,
   "id": "5387028c",
   "metadata": {},
   "outputs": [],
   "source": [
    "import pandas as pd\n",
    "import numpy as np"
   ]
  },
  {
   "cell_type": "code",
   "execution_count": 23,
   "id": "de5c4ecd",
   "metadata": {},
   "outputs": [
    {
     "data": {
      "text/plain": [
       "count    100000.000000\n",
       "mean         -0.047629\n",
       "std          99.855411\n",
       "min        -452.473045\n",
       "25%         -67.286201\n",
       "50%           0.185037\n",
       "75%          67.492962\n",
       "max         417.421410\n",
       "dtype: float64"
      ]
     },
     "execution_count": 23,
     "metadata": {},
     "output_type": "execute_result"
    }
   ],
   "source": [
    "g = np.random.default_rng()\n",
    "s = pd.Series(g.normal(0,100,100_000))\n",
    "s.describe()"
   ]
  },
  {
   "cell_type": "code",
   "execution_count": 24,
   "id": "a83ef31c",
   "metadata": {},
   "outputs": [
    {
     "data": {
      "text/plain": [
       "np.float64(-452.4730445905808)"
      ]
     },
     "execution_count": 24,
     "metadata": {},
     "output_type": "execute_result"
    }
   ],
   "source": [
    "s.min()\n"
   ]
  },
  {
   "cell_type": "code",
   "execution_count": 25,
   "id": "eeb59e9f",
   "metadata": {},
   "outputs": [
    {
     "data": {
      "text/plain": [
       "4709   -452.473045\n",
       "dtype: float64"
      ]
     },
     "execution_count": 25,
     "metadata": {},
     "output_type": "execute_result"
    }
   ],
   "source": [
    "s.loc[s == s.min()]"
   ]
  },
  {
   "cell_type": "code",
   "execution_count": 26,
   "id": "72655cc5",
   "metadata": {},
   "outputs": [],
   "source": [
    "s.loc[s == s.min()] = 5*s.max()"
   ]
  },
  {
   "cell_type": "code",
   "execution_count": 27,
   "id": "37c1c7da",
   "metadata": {},
   "outputs": [
    {
     "data": {
      "text/plain": [
       "count    100000.000000\n",
       "mean         -0.022233\n",
       "std         100.063070\n",
       "min        -433.959486\n",
       "25%         -67.282802\n",
       "50%           0.186922\n",
       "75%          67.497350\n",
       "max        2087.107050\n",
       "dtype: float64"
      ]
     },
     "execution_count": 27,
     "metadata": {},
     "output_type": "execute_result"
    }
   ],
   "source": [
    "s.describe()"
   ]
  },
  {
   "cell_type": "markdown",
   "id": "c15a1052",
   "metadata": {},
   "source": [
    "* Demonstrate that 68%, 95%, and 99.7% of the values in s are indeed within one, two, and three standard distributions of the mean.\n",
    "* Calculate the mean of numbers greater than s.mean(). Then calculate the mean of numbers less than s.mean(). Is the average of these two numbers the same as s.mean()?\n",
    "* What is the mean of the numbers beyond three standard deviations?"
   ]
  },
  {
   "cell_type": "code",
   "execution_count": 36,
   "id": "edfa75fc",
   "metadata": {},
   "outputs": [
    {
     "data": {
      "text/plain": [
       "np.float64(0.68343)"
      ]
     },
     "execution_count": 36,
     "metadata": {},
     "output_type": "execute_result"
    }
   ],
   "source": [
    "#one standara diviation\n",
    "\n",
    "s[(s > s.mean() - s.std()) & (s < s.mean() + s.std())].count() / s.count()\n",
    "\n",
    "# cheak your note for better understanding \n"
   ]
  }
 ],
 "metadata": {
  "kernelspec": {
   "display_name": "Python 3",
   "language": "python",
   "name": "python3"
  },
  "language_info": {
   "codemirror_mode": {
    "name": "ipython",
    "version": 3
   },
   "file_extension": ".py",
   "mimetype": "text/x-python",
   "name": "python",
   "nbconvert_exporter": "python",
   "pygments_lexer": "ipython3",
   "version": "3.13.3"
  }
 },
 "nbformat": 4,
 "nbformat_minor": 5
}
