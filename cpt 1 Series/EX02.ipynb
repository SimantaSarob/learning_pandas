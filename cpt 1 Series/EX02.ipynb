{
 "cells": [
  {
   "cell_type": "code",
   "execution_count": 1,
   "id": "2567871b",
   "metadata": {},
   "outputs": [],
   "source": [
    "import pandas as pd\n",
    "import numpy as np"
   ]
  },
  {
   "cell_type": "code",
   "execution_count": 2,
   "id": "51e4544a",
   "metadata": {},
   "outputs": [
    {
     "data": {
      "text/plain": [
       "Jan    50\n",
       "Feb    45\n",
       "Mar    53\n",
       "Apr    47\n",
       "May    43\n",
       "Jun    58\n",
       "Jly    59\n",
       "Aug    41\n",
       "Sep    52\n",
       "Oct    40\n",
       "Nov    47\n",
       "Dec    43\n",
       "dtype: int64"
      ]
     },
     "execution_count": 2,
     "metadata": {},
     "output_type": "execute_result"
    }
   ],
   "source": [
    "number = np.random.default_rng().integers(40,60,12)\n",
    "months = \"Jan Feb Mar Apr May Jun Jly Aug Sep Oct Nov Dec\".split()\n",
    "s = pd.Series(number, index= months)\n",
    "s"
   ]
  },
  {
   "cell_type": "code",
   "execution_count": 38,
   "id": "8d868316",
   "metadata": {},
   "outputs": [
    {
     "data": {
      "text/plain": [
       "s    16\n",
       "d    17\n",
       "f    23\n",
       "g    21\n",
       "h    21\n",
       "j    20\n",
       "k    16\n",
       "l    25\n",
       "o    26\n",
       "i    25\n",
       "u    21\n",
       "y    25\n",
       "dtype: int64"
      ]
     },
     "execution_count": 38,
     "metadata": {},
     "output_type": "execute_result"
    }
   ],
   "source": [
    "# testing phase\n",
    "n1 = np.random.default_rng().integers(10,30, 12)\n",
    "s1 = pd.Series(n1, index= list('sdfghjkloiuy'))\n",
    "s1\n"
   ]
  },
  {
   "cell_type": "code",
   "execution_count": 39,
   "id": "923a2867",
   "metadata": {},
   "outputs": [
    {
     "data": {
      "text/plain": [
       "l    10\n",
       "k    29\n",
       "s    10\n",
       "j    29\n",
       "h    29\n",
       "d    25\n",
       "f    11\n",
       "g    24\n",
       "y    11\n",
       "i    17\n",
       "u    11\n",
       "o    18\n",
       "dtype: int64"
      ]
     },
     "execution_count": 39,
     "metadata": {},
     "output_type": "execute_result"
    }
   ],
   "source": [
    "#testing phase\n",
    "\n",
    "n2 = np.random.default_rng().integers(10,30, 12)\n",
    "s2 = pd.Series(n2, index= list('lksjhdfgyiuo'))\n",
    "s2"
   ]
  },
  {
   "cell_type": "code",
   "execution_count": 40,
   "id": "f973bb9b",
   "metadata": {},
   "outputs": [
    {
     "data": {
      "text/plain": [
       "d    42\n",
       "f    34\n",
       "g    45\n",
       "h    50\n",
       "i    42\n",
       "j    49\n",
       "k    45\n",
       "l    35\n",
       "o    44\n",
       "s    26\n",
       "u    32\n",
       "y    36\n",
       "dtype: int64"
      ]
     },
     "execution_count": 40,
     "metadata": {},
     "output_type": "execute_result"
    }
   ],
   "source": [
    "s1 + s2"
   ]
  },
  {
   "cell_type": "code",
   "execution_count": 4,
   "id": "4dfe16e1",
   "metadata": {},
   "outputs": [
    {
     "data": {
      "text/plain": [
       "np.float64(48.166666666666664)"
      ]
     },
     "execution_count": 4,
     "metadata": {},
     "output_type": "execute_result"
    }
   ],
   "source": [
    "s.mean()"
   ]
  },
  {
   "cell_type": "code",
   "execution_count": 3,
   "id": "ea8eb149",
   "metadata": {},
   "outputs": [
    {
     "data": {
      "text/plain": [
       "Jan    81.833333\n",
       "Feb    76.833333\n",
       "Mar    84.833333\n",
       "Apr    78.833333\n",
       "May    74.833333\n",
       "Jun    89.833333\n",
       "Jly    90.833333\n",
       "Aug    72.833333\n",
       "Sep    83.833333\n",
       "Oct    71.833333\n",
       "Nov    78.833333\n",
       "Dec    74.833333\n",
       "dtype: float64"
      ]
     },
     "execution_count": 3,
     "metadata": {},
     "output_type": "execute_result"
    }
   ],
   "source": [
    "s + (80 - s.mean())"
   ]
  },
  {
   "cell_type": "code",
   "execution_count": null,
   "id": "17e2bbfe",
   "metadata": {},
   "outputs": [],
   "source": []
  }
 ],
 "metadata": {
  "kernelspec": {
   "display_name": "Python 3",
   "language": "python",
   "name": "python3"
  },
  "language_info": {
   "codemirror_mode": {
    "name": "ipython",
    "version": 3
   },
   "file_extension": ".py",
   "mimetype": "text/x-python",
   "name": "python",
   "nbconvert_exporter": "python",
   "pygments_lexer": "ipython3",
   "version": "3.13.3"
  }
 },
 "nbformat": 4,
 "nbformat_minor": 5
}
