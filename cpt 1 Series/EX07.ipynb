{
 "cells": [
  {
   "cell_type": "markdown",
   "id": "7188cee6",
   "metadata": {},
   "source": [
    "## Long, medium, short texi ride."
   ]
  },
  {
   "cell_type": "code",
   "execution_count": 29,
   "id": "a83580fe",
   "metadata": {},
   "outputs": [],
   "source": [
    "import pandas as pd\n",
    "import numpy as np"
   ]
  },
  {
   "cell_type": "code",
   "execution_count": 30,
   "id": "3e643e66",
   "metadata": {},
   "outputs": [
    {
     "data": {
      "text/plain": [
       "0       1.63\n",
       "1       0.46\n",
       "2       0.87\n",
       "3       2.13\n",
       "4       1.40\n",
       "        ... \n",
       "9994    2.70\n",
       "9995    4.50\n",
       "9996    5.59\n",
       "9997    1.54\n",
       "9998    5.80\n",
       "Name: 0, Length: 9999, dtype: float64"
      ]
     },
     "execution_count": 30,
     "metadata": {},
     "output_type": "execute_result"
    }
   ],
   "source": [
    "s = pd.read_csv('../data/taxi-distance.csv', header=None).squeeze()\n",
    "s"
   ]
  },
  {
   "cell_type": "code",
   "execution_count": 31,
   "id": "d3190e41",
   "metadata": {},
   "outputs": [
    {
     "data": {
      "text/plain": [
       "0\n",
       "short     5890\n",
       "medium    3402\n",
       "long       707\n",
       "Name: count, dtype: int64"
      ]
     },
     "execution_count": 31,
     "metadata": {},
     "output_type": "execute_result"
    }
   ],
   "source": [
    "cat = s.astype(str)\n",
    "cat.loc[:]='medium'\n",
    "cat.loc[s>10]='long'\n",
    "cat.loc[s<=2] = 'short'\n",
    "cat.value_counts()"
   ]
  },
  {
   "cell_type": "markdown",
   "id": "8062ebf1",
   "metadata": {},
   "source": [
    "pandas gives us a tool for this. "
   ]
  },
  {
   "cell_type": "code",
   "execution_count": 32,
   "id": "db135dbb",
   "metadata": {},
   "outputs": [
    {
     "data": {
      "text/plain": [
       "0       shorts\n",
       "1       shorts\n",
       "2       shorts\n",
       "3       medium\n",
       "4       shorts\n",
       "         ...  \n",
       "9994    medium\n",
       "9995    medium\n",
       "9996    medium\n",
       "9997    shorts\n",
       "9998    medium\n",
       "Name: 0, Length: 9999, dtype: category\n",
       "Categories (3, object): ['shorts' < 'medium' < 'long']"
      ]
     },
     "execution_count": 32,
     "metadata": {},
     "output_type": "execute_result"
    }
   ],
   "source": [
    "pd.cut(\n",
    "    s,\n",
    "    bins=[0,2,10,s.max()],\n",
    "    include_lowest= True,\n",
    "    labels= ['shorts','medium','long']\n",
    ")"
   ]
  },
  {
   "cell_type": "code",
   "execution_count": 33,
   "id": "6ffef8d4",
   "metadata": {},
   "outputs": [
    {
     "data": {
      "text/plain": [
       "0\n",
       "shorts    5890\n",
       "medium    3402\n",
       "long       707\n",
       "Name: count, dtype: int64"
      ]
     },
     "execution_count": 33,
     "metadata": {},
     "output_type": "execute_result"
    }
   ],
   "source": [
    "pd.cut(\n",
    "    s,\n",
    "    bins=[0,2,10,s.max()],\n",
    "    include_lowest= True,\n",
    "    labels= ['shorts','medium','long']).value_counts()"
   ]
  },
  {
   "cell_type": "code",
   "execution_count": 34,
   "id": "9889743a",
   "metadata": {},
   "outputs": [
    {
     "data": {
      "text/plain": [
       "np.float64(1.4585108510851088)"
      ]
     },
     "execution_count": 34,
     "metadata": {},
     "output_type": "execute_result"
    }
   ],
   "source": [
    "s.mean()-s.median()"
   ]
  },
  {
   "cell_type": "code",
   "execution_count": null,
   "id": "25e2ba3d",
   "metadata": {},
   "outputs": [],
   "source": []
  }
 ],
 "metadata": {
  "kernelspec": {
   "display_name": "Python 3",
   "language": "python",
   "name": "python3"
  },
  "language_info": {
   "codemirror_mode": {
    "name": "ipython",
    "version": 3
   },
   "file_extension": ".py",
   "mimetype": "text/x-python",
   "name": "python",
   "nbconvert_exporter": "python",
   "pygments_lexer": "ipython3",
   "version": "3.13.3"
  }
 },
 "nbformat": 4,
 "nbformat_minor": 5
}
