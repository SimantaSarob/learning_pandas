{
 "cells": [
  {
   "cell_type": "markdown",
   "id": "6e796a3d",
   "metadata": {},
   "source": [
    "## Monday Temperatures"
   ]
  },
  {
   "cell_type": "code",
   "execution_count": 47,
   "id": "33adbc0f",
   "metadata": {},
   "outputs": [],
   "source": [
    "import pandas as pd\n",
    "import numpy as np"
   ]
  },
  {
   "cell_type": "code",
   "execution_count": 48,
   "id": "bd5bdb2e",
   "metadata": {},
   "outputs": [
    {
     "data": {
      "text/plain": [
       "Sun    21\n",
       "Mon    23\n",
       "Tue    18\n",
       "Wed    22\n",
       "Thu    30\n",
       "Fri    13\n",
       "Sat    17\n",
       "Sun    20\n",
       "Mon    17\n",
       "Tue    21\n",
       "Wed    14\n",
       "Thu    23\n",
       "Fri    14\n",
       "Sat    17\n",
       "Sun    18\n",
       "Mon    22\n",
       "Tue    16\n",
       "Wed    21\n",
       "Thu    24\n",
       "Fri    25\n",
       "Sat    21\n",
       "Sun    14\n",
       "Mon    21\n",
       "Tue    15\n",
       "Wed     8\n",
       "Thu    12\n",
       "Fri    23\n",
       "Sat    22\n",
       "dtype: Int8"
      ]
     },
     "execution_count": 48,
     "metadata": {},
     "output_type": "execute_result"
    }
   ],
   "source": [
    "degree = np.random.default_rng().normal(20,5,28)\n",
    "days = 'Sun Mon Tue Wed Thu Fri Sat'.split()\n",
    "s = pd.Series(degree, index= days*4).round().astype('Int8') # float to round, and int from float. \n",
    "s"
   ]
  },
  {
   "cell_type": "code",
   "execution_count": 49,
   "id": "1f8e995d",
   "metadata": {},
   "outputs": [
    {
     "data": {
      "text/plain": [
       "np.float64(20.75)"
      ]
     },
     "execution_count": 49,
     "metadata": {},
     "output_type": "execute_result"
    }
   ],
   "source": [
    "s.loc['Mon'].mean()"
   ]
  },
  {
   "cell_type": "code",
   "execution_count": 50,
   "id": "0bf3450b",
   "metadata": {},
   "outputs": [
    {
     "data": {
      "text/plain": [
       "np.float64(18.75)"
      ]
     },
     "execution_count": 50,
     "metadata": {},
     "output_type": "execute_result"
    }
   ],
   "source": [
    "#avarage weekend temp. saturday sunday...\n",
    "\n",
    "s.loc[['Sat', 'Sun']].mean()\n"
   ]
  },
  {
   "cell_type": "code",
   "execution_count": 53,
   "id": "30f96811",
   "metadata": {},
   "outputs": [
    {
     "data": {
      "text/plain": [
       "Wed    22\n",
       "Thu    30\n",
       "Sat    17\n",
       "Sun    20\n",
       "Tue    21\n",
       "Thu    23\n",
       "Sat    17\n",
       "Mon    22\n",
       "Wed    21\n",
       "Thu    24\n",
       "Mon    21\n",
       "Thu    12\n",
       "Fri    23\n",
       "dtype: Int8"
      ]
     },
     "execution_count": 53,
     "metadata": {},
     "output_type": "execute_result"
    }
   ],
   "source": [
    "s[s.diff() > 2]"
   ]
  },
  {
   "cell_type": "code",
   "execution_count": 51,
   "id": "446f0362",
   "metadata": {},
   "outputs": [
    {
     "data": {
      "text/plain": [
       "21    5\n",
       "23    3\n",
       "Name: count, dtype: Int64"
      ]
     },
     "execution_count": 51,
     "metadata": {},
     "output_type": "execute_result"
    }
   ],
   "source": [
    "s.value_counts().head(2)"
   ]
  },
  {
   "cell_type": "code",
   "execution_count": null,
   "id": "d77f4db8",
   "metadata": {},
   "outputs": [],
   "source": []
  }
 ],
 "metadata": {
  "kernelspec": {
   "display_name": "Python 3",
   "language": "python",
   "name": "python3"
  },
  "language_info": {
   "codemirror_mode": {
    "name": "ipython",
    "version": 3
   },
   "file_extension": ".py",
   "mimetype": "text/x-python",
   "name": "python",
   "nbconvert_exporter": "python",
   "pygments_lexer": "ipython3",
   "version": "3.13.3"
  }
 },
 "nbformat": 4,
 "nbformat_minor": 5
}
