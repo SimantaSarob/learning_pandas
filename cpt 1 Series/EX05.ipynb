{
 "cells": [
  {
   "cell_type": "markdown",
   "id": "6e796a3d",
   "metadata": {},
   "source": [
    "## Monday Temperatures\n",
    "\n"
   ]
  }
 ],
 "metadata": {
  "language_info": {
   "name": "python"
  }
 },
 "nbformat": 4,
 "nbformat_minor": 5
}
