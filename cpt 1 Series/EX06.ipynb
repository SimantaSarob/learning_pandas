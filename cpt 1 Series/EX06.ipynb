{
 "cells": [
  {
   "cell_type": "markdown",
   "id": "0e7f8973",
   "metadata": {},
   "source": [
    "## passenger frequency"
   ]
  },
  {
   "cell_type": "code",
   "execution_count": null,
   "id": "7c4dc7b7",
   "metadata": {},
   "outputs": [],
   "source": [
    "import pandas as pd\n",
    "import numpy as np\n"
   ]
  },
  {
   "cell_type": "code",
   "execution_count": null,
   "id": "9938e531",
   "metadata": {},
   "outputs": [],
   "source": []
  }
 ],
 "metadata": {
  "kernelspec": {
   "display_name": "Python 3",
   "language": "python",
   "name": "python3"
  },
  "language_info": {
   "name": "python",
   "version": "3.13.3"
  }
 },
 "nbformat": 4,
 "nbformat_minor": 5
}
