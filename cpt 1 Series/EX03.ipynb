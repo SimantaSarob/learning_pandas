{
 "cells": [
  {
   "cell_type": "markdown",
   "id": "e2c991dc",
   "metadata": {},
   "source": [
    "### find the tens digit from a number of an array\n"
   ]
  },
  {
   "cell_type": "code",
   "execution_count": 112,
   "id": "1d97d43f",
   "metadata": {},
   "outputs": [],
   "source": [
    "import pandas as pd\n",
    "import numpy as np"
   ]
  },
  {
   "cell_type": "code",
   "execution_count": 113,
   "id": "fb0bd0be",
   "metadata": {},
   "outputs": [
    {
     "data": {
      "text/plain": [
       "array([80, 46, 62, 58, 64, 77, 98, 20, 35, 37])"
      ]
     },
     "execution_count": 113,
     "metadata": {},
     "output_type": "execute_result"
    }
   ],
   "source": [
    "numbers = np.random.randint(0,100,10)\n",
    "numbers"
   ]
  },
  {
   "cell_type": "code",
   "execution_count": 114,
   "id": "6786f130",
   "metadata": {},
   "outputs": [
    {
     "data": {
      "text/plain": [
       "array([8. , 4.6, 6.2, 5.8, 6.4, 7.7, 9.8, 2. , 3.5, 3.7])"
      ]
     },
     "execution_count": 114,
     "metadata": {},
     "output_type": "execute_result"
    }
   ],
   "source": [
    "tens_float = numbers/10\n",
    "tens_float"
   ]
  },
  {
   "cell_type": "code",
   "execution_count": 115,
   "id": "a1c8e997",
   "metadata": {},
   "outputs": [
    {
     "data": {
      "text/plain": [
       "array([8, 4, 6, 5, 6, 7, 9, 2, 3, 3], dtype=int8)"
      ]
     },
     "execution_count": 115,
     "metadata": {},
     "output_type": "execute_result"
    }
   ],
   "source": [
    "tens_int = tens_float.astype(np.int8)\n",
    "tens_int"
   ]
  },
  {
   "cell_type": "markdown",
   "id": "e99a9e6f",
   "metadata": {},
   "source": [
    "Another way of doing this, is first make thoes numbers into string, and then do some string stuff, get the number and pass through int process. in this process, we might find a value NaN, so we need to pass another parameter if the value is NaN it should put zero there. "
   ]
  },
  {
   "cell_type": "code",
   "execution_count": 116,
   "id": "8a756ac0",
   "metadata": {},
   "outputs": [
    {
     "data": {
      "text/plain": [
       "array(['80', '46', '62', '58', '64', '77', '98', '20', '35', '37'],\n",
       "      dtype='<U21')"
      ]
     },
     "execution_count": 116,
     "metadata": {},
     "output_type": "execute_result"
    }
   ],
   "source": [
    "num_str = numbers.astype(str)\n",
    "num_str"
   ]
  },
  {
   "cell_type": "code",
   "execution_count": 117,
   "id": "1f8af2b5",
   "metadata": {},
   "outputs": [
    {
     "data": {
      "text/plain": [
       "[8, 4, 6, 5, 6, 7, 9, 2, 3, 3]"
      ]
     },
     "execution_count": 117,
     "metadata": {},
     "output_type": "execute_result"
    }
   ],
   "source": [
    "tens_digits = [int(s[-2]) if len(s) >= 2 else 0 for s in num_str]\n",
    "tens_digits"
   ]
  },
  {
   "cell_type": "markdown",
   "id": "c969a892",
   "metadata": {},
   "source": [
    "NOTE: always use second methods. "
   ]
  }
 ],
 "metadata": {
  "kernelspec": {
   "display_name": "Python 3",
   "language": "python",
   "name": "python3"
  },
  "language_info": {
   "codemirror_mode": {
    "name": "ipython",
    "version": 3
   },
   "file_extension": ".py",
   "mimetype": "text/x-python",
   "name": "python",
   "nbconvert_exporter": "python",
   "pygments_lexer": "ipython3",
   "version": "3.13.2"
  }
 },
 "nbformat": 4,
 "nbformat_minor": 5
}
