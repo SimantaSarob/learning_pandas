{
 "cells": [
  {
   "cell_type": "markdown",
   "id": "e2c991dc",
   "metadata": {},
   "source": [
    "### find the tens digit from a number of an array\n"
   ]
  },
  {
   "cell_type": "code",
   "execution_count": 49,
   "id": "1d97d43f",
   "metadata": {},
   "outputs": [],
   "source": [
    "import pandas as pd\n",
    "import numpy as np"
   ]
  },
  {
   "cell_type": "code",
   "execution_count": 50,
   "id": "fb0bd0be",
   "metadata": {},
   "outputs": [
    {
     "data": {
      "text/plain": [
       "array([99,  4, 39, 98, 87, 26, 76, 23, 60, 90])"
      ]
     },
     "execution_count": 50,
     "metadata": {},
     "output_type": "execute_result"
    }
   ],
   "source": [
    "numbers = np.random.randint(0,100,10)\n",
    "numbers"
   ]
  },
  {
   "cell_type": "code",
   "execution_count": 51,
   "id": "6786f130",
   "metadata": {},
   "outputs": [
    {
     "data": {
      "text/plain": [
       "array([9.9, 0.4, 3.9, 9.8, 8.7, 2.6, 7.6, 2.3, 6. , 9. ])"
      ]
     },
     "execution_count": 51,
     "metadata": {},
     "output_type": "execute_result"
    }
   ],
   "source": [
    "tens_float = numbers/10\n",
    "tens_float"
   ]
  },
  {
   "cell_type": "code",
   "execution_count": 52,
   "id": "a1c8e997",
   "metadata": {},
   "outputs": [
    {
     "data": {
      "text/plain": [
       "array([9, 0, 3, 9, 8, 2, 7, 2, 6, 9], dtype=int8)"
      ]
     },
     "execution_count": 52,
     "metadata": {},
     "output_type": "execute_result"
    }
   ],
   "source": [
    "tens_int = tens_float.astype(np.int8)\n",
    "tens_int"
   ]
  }
 ],
 "metadata": {
  "kernelspec": {
   "display_name": "Python 3",
   "language": "python",
   "name": "python3"
  },
  "language_info": {
   "codemirror_mode": {
    "name": "ipython",
    "version": 3
   },
   "file_extension": ".py",
   "mimetype": "text/x-python",
   "name": "python",
   "nbconvert_exporter": "python",
   "pygments_lexer": "ipython3",
   "version": "3.13.3"
  }
 },
 "nbformat": 4,
 "nbformat_minor": 5
}
