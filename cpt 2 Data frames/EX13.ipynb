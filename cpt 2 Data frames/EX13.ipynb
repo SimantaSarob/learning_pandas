{
 "cells": [
  {
   "cell_type": "markdown",
   "id": "6dc8ff31",
   "metadata": {},
   "source": [
    "## Interpolation \n",
    "about cleaning data sets. "
   ]
  },
  {
   "cell_type": "code",
   "execution_count": 1,
   "id": "8ae8e1cc",
   "metadata": {},
   "outputs": [],
   "source": [
    "import pandas as pd\n",
    "import numpy as np"
   ]
  },
  {
   "cell_type": "code",
   "execution_count": 2,
   "id": "e5a85ec2",
   "metadata": {},
   "outputs": [
    {
     "data": {
      "text/plain": [
       "0     -1\n",
       "1     -1\n",
       "2     -1\n",
       "3     -1\n",
       "4     -1\n",
       "      ..\n",
       "723    2\n",
       "724    2\n",
       "725    2\n",
       "726    2\n",
       "727    2\n",
       "Name: -1, Length: 728, dtype: int64"
      ]
     },
     "execution_count": 2,
     "metadata": {},
     "output_type": "execute_result"
    }
   ],
   "source": [
    "s = pd.read_csv('../data/nyc-temps.txt').squeeze()\n",
    "s"
   ]
  },
  {
   "cell_type": "code",
   "execution_count": 3,
   "id": "9894cf2f",
   "metadata": {},
   "outputs": [],
   "source": [
    "df = pd.DataFrame({'temp': s, 'hour': [0,3,6,9,12,15,18,21] * 91})\n",
    "\n"
   ]
  },
  {
   "cell_type": "code",
   "execution_count": 4,
   "id": "89cacc4d",
   "metadata": {},
   "outputs": [],
   "source": [
    "# df.describe()"
   ]
  },
  {
   "cell_type": "code",
   "execution_count": 5,
   "id": "7e55c566",
   "metadata": {},
   "outputs": [],
   "source": [
    "# df.loc[df['hour'].isin([3,6]), 'temp'] = pd.NA\n",
    "# df.head(20)"
   ]
  },
  {
   "cell_type": "code",
   "execution_count": 6,
   "id": "4bee1dc4",
   "metadata": {},
   "outputs": [],
   "source": [
    "# df = df.interpolate()\n",
    "# df.head(20)"
   ]
  },
  {
   "cell_type": "code",
   "execution_count": 7,
   "id": "37193c80",
   "metadata": {},
   "outputs": [],
   "source": [
    "# df.describe()"
   ]
  },
  {
   "cell_type": "code",
   "execution_count": 8,
   "id": "9f9796a4",
   "metadata": {},
   "outputs": [],
   "source": [
    "# df = df.interpolate(method='nearest')\n",
    "# df.head(20)"
   ]
  },
  {
   "cell_type": "code",
   "execution_count": 9,
   "id": "2d2ac0f6",
   "metadata": {},
   "outputs": [
    {
     "data": {
      "text/html": [
       "<div>\n",
       "<style scoped>\n",
       "    .dataframe tbody tr th:only-of-type {\n",
       "        vertical-align: middle;\n",
       "    }\n",
       "\n",
       "    .dataframe tbody tr th {\n",
       "        vertical-align: top;\n",
       "    }\n",
       "\n",
       "    .dataframe thead th {\n",
       "        text-align: right;\n",
       "    }\n",
       "</style>\n",
       "<table border=\"1\" class=\"dataframe\">\n",
       "  <thead>\n",
       "    <tr style=\"text-align: right;\">\n",
       "      <th></th>\n",
       "      <th>temp</th>\n",
       "      <th>hour</th>\n",
       "    </tr>\n",
       "  </thead>\n",
       "  <tbody>\n",
       "    <tr>\n",
       "      <th>count</th>\n",
       "      <td>728.000000</td>\n",
       "      <td>728.000000</td>\n",
       "    </tr>\n",
       "    <tr>\n",
       "      <th>mean</th>\n",
       "      <td>-1.050824</td>\n",
       "      <td>10.500000</td>\n",
       "    </tr>\n",
       "    <tr>\n",
       "      <th>std</th>\n",
       "      <td>5.026357</td>\n",
       "      <td>6.878589</td>\n",
       "    </tr>\n",
       "    <tr>\n",
       "      <th>min</th>\n",
       "      <td>-14.000000</td>\n",
       "      <td>0.000000</td>\n",
       "    </tr>\n",
       "    <tr>\n",
       "      <th>25%</th>\n",
       "      <td>-4.000000</td>\n",
       "      <td>5.250000</td>\n",
       "    </tr>\n",
       "    <tr>\n",
       "      <th>50%</th>\n",
       "      <td>0.000000</td>\n",
       "      <td>10.500000</td>\n",
       "    </tr>\n",
       "    <tr>\n",
       "      <th>75%</th>\n",
       "      <td>2.000000</td>\n",
       "      <td>15.750000</td>\n",
       "    </tr>\n",
       "    <tr>\n",
       "      <th>max</th>\n",
       "      <td>12.000000</td>\n",
       "      <td>21.000000</td>\n",
       "    </tr>\n",
       "  </tbody>\n",
       "</table>\n",
       "</div>"
      ],
      "text/plain": [
       "             temp        hour\n",
       "count  728.000000  728.000000\n",
       "mean    -1.050824   10.500000\n",
       "std      5.026357    6.878589\n",
       "min    -14.000000    0.000000\n",
       "25%     -4.000000    5.250000\n",
       "50%      0.000000   10.500000\n",
       "75%      2.000000   15.750000\n",
       "max     12.000000   21.000000"
      ]
     },
     "execution_count": 9,
     "metadata": {},
     "output_type": "execute_result"
    }
   ],
   "source": [
    "df.describe()"
   ]
  },
  {
   "cell_type": "markdown",
   "id": "6253ebe6",
   "metadata": {},
   "source": [
    "1. Let’s assume the equipment works fine around the clock but fails to record\n",
    "readings at –1 degrees and below. Are the interpolated values similar to the real\n",
    "(missing) values they replace? Why or why not?"
   ]
  },
  {
   "cell_type": "code",
   "execution_count": 10,
   "id": "8e778d37",
   "metadata": {},
   "outputs": [],
   "source": [
    "# df.loc[df['temp'] <= -1, 'temp'] = pd.NA\n",
    "# df = df.interpolate()\n",
    "# df['temp'].describe()\n"
   ]
  },
  {
   "cell_type": "markdown",
   "id": "537dcf33",
   "metadata": {},
   "source": [
    "2. A cheap solution to interpolation is to replace NaN values with the column’s\n",
    "mean. Do this (with the missing values from –1 and below), and compare the\n",
    "new mean and median. Again, why are (or aren’t) these values similar to the\n",
    "original ones?"
   ]
  },
  {
   "cell_type": "code",
   "execution_count": 11,
   "id": "cf97eeed",
   "metadata": {},
   "outputs": [
    {
     "name": "stderr",
     "output_type": "stream",
     "text": [
      "/tmp/ipykernel_24453/868334497.py:2: FutureWarning: Setting an item of incompatible dtype is deprecated and will raise an error in a future version of pandas. Value '-1.0508241758241759' has dtype incompatible with int64, please explicitly cast to a compatible dtype first.\n",
      "  df.loc[df['temp'] <= -1, 'temp'] = mean\n"
     ]
    },
    {
     "data": {
      "text/plain": [
       "count    728.000000\n",
       "mean       0.924671\n",
       "std        2.717596\n",
       "min       -1.050824\n",
       "25%       -1.050824\n",
       "50%        0.000000\n",
       "75%        2.000000\n",
       "max       12.000000\n",
       "Name: temp, dtype: float64"
      ]
     },
     "execution_count": 11,
     "metadata": {},
     "output_type": "execute_result"
    }
   ],
   "source": [
    "mean = df['temp'].mean()\n",
    "df.loc[df['temp'] <= -1, 'temp'] = mean\n",
    "df['temp'].describe()\n"
   ]
  }
 ],
 "metadata": {
  "kernelspec": {
   "display_name": "Python 3",
   "language": "python",
   "name": "python3"
  },
  "language_info": {
   "codemirror_mode": {
    "name": "ipython",
    "version": 3
   },
   "file_extension": ".py",
   "mimetype": "text/x-python",
   "name": "python",
   "nbconvert_exporter": "python",
   "pygments_lexer": "ipython3",
   "version": "3.13.5"
  }
 },
 "nbformat": 4,
 "nbformat_minor": 5
}
