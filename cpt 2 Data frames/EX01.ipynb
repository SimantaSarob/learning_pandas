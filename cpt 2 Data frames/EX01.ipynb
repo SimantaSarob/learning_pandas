{
 "cells": [
  {
   "cell_type": "code",
   "execution_count": null,
   "id": "df6e7dc5",
   "metadata": {},
   "outputs": [],
   "source": []
  }
 ],
 "metadata": {
  "language_info": {
   "name": "python"
  }
 },
 "nbformat": 4,
 "nbformat_minor": 5
}
