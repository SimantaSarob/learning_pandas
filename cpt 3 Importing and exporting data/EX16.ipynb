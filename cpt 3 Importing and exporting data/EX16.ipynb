{
 "cells": [
  {
   "cell_type": "markdown",
   "id": "f7f25dba",
   "metadata": {},
   "source": [
    "## Pandemic Taxis"
   ]
  },
  {
   "cell_type": "markdown",
   "id": "1ba6d3ff",
   "metadata": {},
   "source": [
    "## "
   ]
  },
  {
   "cell_type": "code",
   "execution_count": 1,
   "id": "1c8c30b9",
   "metadata": {},
   "outputs": [],
   "source": [
    "import pandas as pd"
   ]
  },
  {
   "cell_type": "code",
   "execution_count": 2,
   "id": "22b45201",
   "metadata": {},
   "outputs": [
    {
     "data": {
      "text/html": [
       "<div>\n",
       "<style scoped>\n",
       "    .dataframe tbody tr th:only-of-type {\n",
       "        vertical-align: middle;\n",
       "    }\n",
       "\n",
       "    .dataframe tbody tr th {\n",
       "        vertical-align: top;\n",
       "    }\n",
       "\n",
       "    .dataframe thead th {\n",
       "        text-align: right;\n",
       "    }\n",
       "</style>\n",
       "<table border=\"1\" class=\"dataframe\">\n",
       "  <thead>\n",
       "    <tr style=\"text-align: right;\">\n",
       "      <th></th>\n",
       "      <th>passenger_count</th>\n",
       "      <th>payment_type</th>\n",
       "      <th>total_amount</th>\n",
       "      <th>year</th>\n",
       "    </tr>\n",
       "  </thead>\n",
       "  <tbody>\n",
       "    <tr>\n",
       "      <th>0</th>\n",
       "      <td>1.0</td>\n",
       "      <td>1.0</td>\n",
       "      <td>4.94</td>\n",
       "      <td>2019</td>\n",
       "    </tr>\n",
       "    <tr>\n",
       "      <th>1</th>\n",
       "      <td>1.0</td>\n",
       "      <td>2.0</td>\n",
       "      <td>20.30</td>\n",
       "      <td>2019</td>\n",
       "    </tr>\n",
       "    <tr>\n",
       "      <th>2</th>\n",
       "      <td>1.0</td>\n",
       "      <td>1.0</td>\n",
       "      <td>70.67</td>\n",
       "      <td>2019</td>\n",
       "    </tr>\n",
       "    <tr>\n",
       "      <th>3</th>\n",
       "      <td>1.0</td>\n",
       "      <td>1.0</td>\n",
       "      <td>66.36</td>\n",
       "      <td>2019</td>\n",
       "    </tr>\n",
       "    <tr>\n",
       "      <th>4</th>\n",
       "      <td>0.0</td>\n",
       "      <td>1.0</td>\n",
       "      <td>15.30</td>\n",
       "      <td>2019</td>\n",
       "    </tr>\n",
       "  </tbody>\n",
       "</table>\n",
       "</div>"
      ],
      "text/plain": [
       "   passenger_count  payment_type  total_amount  year\n",
       "0              1.0           1.0          4.94  2019\n",
       "1              1.0           2.0         20.30  2019\n",
       "2              1.0           1.0         70.67  2019\n",
       "3              1.0           1.0         66.36  2019\n",
       "4              0.0           1.0         15.30  2019"
      ]
     },
     "execution_count": 2,
     "metadata": {},
     "output_type": "execute_result"
    }
   ],
   "source": [
    "df_2019_jul = pd.read_csv('../data/nyc_taxi_2019-07.csv', usecols=['passenger_count', 'total_amount', 'payment_type'])\n",
    "df_2019_jul['year'] = 2019\n",
    "df_2019_jul.head()"
   ]
  },
  {
   "cell_type": "code",
   "execution_count": 3,
   "id": "c8b0432d",
   "metadata": {},
   "outputs": [
    {
     "data": {
      "text/html": [
       "<div>\n",
       "<style scoped>\n",
       "    .dataframe tbody tr th:only-of-type {\n",
       "        vertical-align: middle;\n",
       "    }\n",
       "\n",
       "    .dataframe tbody tr th {\n",
       "        vertical-align: top;\n",
       "    }\n",
       "\n",
       "    .dataframe thead th {\n",
       "        text-align: right;\n",
       "    }\n",
       "</style>\n",
       "<table border=\"1\" class=\"dataframe\">\n",
       "  <thead>\n",
       "    <tr style=\"text-align: right;\">\n",
       "      <th></th>\n",
       "      <th>passenger_count</th>\n",
       "      <th>payment_type</th>\n",
       "      <th>total_amount</th>\n",
       "      <th>year</th>\n",
       "    </tr>\n",
       "  </thead>\n",
       "  <tbody>\n",
       "    <tr>\n",
       "      <th>0</th>\n",
       "      <td>1.0</td>\n",
       "      <td>2.0</td>\n",
       "      <td>9.30</td>\n",
       "      <td>2020</td>\n",
       "    </tr>\n",
       "    <tr>\n",
       "      <th>1</th>\n",
       "      <td>1.0</td>\n",
       "      <td>1.0</td>\n",
       "      <td>27.80</td>\n",
       "      <td>2020</td>\n",
       "    </tr>\n",
       "    <tr>\n",
       "      <th>2</th>\n",
       "      <td>1.0</td>\n",
       "      <td>2.0</td>\n",
       "      <td>22.30</td>\n",
       "      <td>2020</td>\n",
       "    </tr>\n",
       "    <tr>\n",
       "      <th>3</th>\n",
       "      <td>1.0</td>\n",
       "      <td>1.0</td>\n",
       "      <td>14.16</td>\n",
       "      <td>2020</td>\n",
       "    </tr>\n",
       "    <tr>\n",
       "      <th>4</th>\n",
       "      <td>1.0</td>\n",
       "      <td>2.0</td>\n",
       "      <td>7.80</td>\n",
       "      <td>2020</td>\n",
       "    </tr>\n",
       "  </tbody>\n",
       "</table>\n",
       "</div>"
      ],
      "text/plain": [
       "   passenger_count  payment_type  total_amount  year\n",
       "0              1.0           2.0          9.30  2020\n",
       "1              1.0           1.0         27.80  2020\n",
       "2              1.0           2.0         22.30  2020\n",
       "3              1.0           1.0         14.16  2020\n",
       "4              1.0           2.0          7.80  2020"
      ]
     },
     "execution_count": 3,
     "metadata": {},
     "output_type": "execute_result"
    }
   ],
   "source": [
    "df_2020_jul = pd.read_csv('../data/nyc_taxi_2020-07.csv', usecols=['passenger_count', 'total_amount', 'payment_type'])\n",
    "df_2020_jul['year'] = 2020\n",
    "df_2020_jul.head()"
   ]
  },
  {
   "cell_type": "code",
   "execution_count": 4,
   "metadata": {},
   "outputs": [
    {
     "data": {
      "text/html": [
       "<div>\n",
       "<style scoped>\n",
       "    .dataframe tbody tr th:only-of-type {\n",
       "        vertical-align: middle;\n",
       "    }\n",
       "\n",
       "    .dataframe tbody tr th {\n",
       "        vertical-align: top;\n",
       "    }\n",
       "\n",
       "    .dataframe thead th {\n",
       "        text-align: right;\n",
       "    }\n",
       "</style>\n",
       "<table border=\"1\" class=\"dataframe\">\n",
       "  <thead>\n",
       "    <tr style=\"text-align: right;\">\n",
       "      <th></th>\n",
       "      <th>passenger_count</th>\n",
       "      <th>payment_type</th>\n",
       "      <th>total_amount</th>\n",
       "      <th>year</th>\n",
       "    </tr>\n",
       "  </thead>\n",
       "  <tbody>\n",
       "    <tr>\n",
       "      <th>0</th>\n",
       "      <td>1.0</td>\n",
       "      <td>1.0</td>\n",
       "      <td>4.94</td>\n",
       "      <td>2019</td>\n",
       "    </tr>\n",
       "    <tr>\n",
       "      <th>1</th>\n",
       "      <td>1.0</td>\n",
       "      <td>2.0</td>\n",
       "      <td>20.30</td>\n",
       "      <td>2019</td>\n",
       "    </tr>\n",
       "    <tr>\n",
       "      <th>2</th>\n",
       "      <td>1.0</td>\n",
       "      <td>1.0</td>\n",
       "      <td>70.67</td>\n",
       "      <td>2019</td>\n",
       "    </tr>\n",
       "    <tr>\n",
       "      <th>3</th>\n",
       "      <td>1.0</td>\n",
       "      <td>1.0</td>\n",
       "      <td>66.36</td>\n",
       "      <td>2019</td>\n",
       "    </tr>\n",
       "    <tr>\n",
       "      <th>4</th>\n",
       "      <td>0.0</td>\n",
       "      <td>1.0</td>\n",
       "      <td>15.30</td>\n",
       "      <td>2019</td>\n",
       "    </tr>\n",
       "  </tbody>\n",
       "</table>\n",
       "</div>"
      ],
      "text/plain": [
       "   passenger_count  payment_type  total_amount  year\n",
       "0              1.0           1.0          4.94  2019\n",
       "1              1.0           2.0         20.30  2019\n",
       "2              1.0           1.0         70.67  2019\n",
       "3              1.0           1.0         66.36  2019\n",
       "4              0.0           1.0         15.30  2019"
      ]
     },
     "execution_count": 4,
     "metadata": {},
     "output_type": "execute_result"
    }
   ],
   "source": [
    "df = pd.concat([df_2019_jul, df_2020_jul])\n",
    "df.head()"
   ]
  },
  {
   "cell_type": "code",
   "execution_count": 5,
   "id": "887f24c6",
   "metadata": {},
   "outputs": [
    {
     "data": {
      "text/plain": [
       "Index              56886648\n",
       "passenger_count    56886648\n",
       "payment_type       56886648\n",
       "total_amount       56886648\n",
       "year               56886648\n",
       "dtype: int64"
      ]
     },
     "execution_count": 5,
     "metadata": {},
     "output_type": "execute_result"
    }
   ],
   "source": [
    "df.memory_usage(deep=True)"
   ]
  },
  {
   "cell_type": "markdown",
   "id": "98e5df51",
   "metadata": {},
   "source": [
    "How many rides were taken in 2019 and 2020, and what is the difference between these two figures?"
   ]
  },
  {
   "cell_type": "code",
   "execution_count": 6,
   "id": "3f78bbba",
   "metadata": {},
   "outputs": [
    {
     "data": {
      "text/plain": [
       "np.int64(5510007)"
      ]
     },
     "execution_count": 6,
     "metadata": {},
     "output_type": "execute_result"
    }
   ],
   "source": [
    "\n",
    "df.loc[df['year'] == 2019, 'total_amount'].count() - df.loc[df['year'] == 2020, 'total_amount'].count()"
   ]
  },
  {
   "cell_type": "markdown",
   "id": "3a3096ce",
   "metadata": {},
   "source": [
    "How much money (in total) was collected in 2019 and 2020, and what was thedifference between these two figures?"
   ]
  },
  {
   "cell_type": "code",
   "execution_count": 7,
   "id": "06f2a64c",
   "metadata": {},
   "outputs": [
    {
     "data": {
      "text/plain": [
       "np.float64(108848979.24000001)"
      ]
     },
     "execution_count": 7,
     "metadata": {},
     "output_type": "execute_result"
    }
   ],
   "source": [
    "df.loc[df['year'] == 2019, 'total_amount'].sum() - df.loc[df['year'] == 2020, 'total_amount'].sum()"
   ]
  },
  {
   "cell_type": "code",
   "execution_count": 8,
   "id": "075ee43a",
   "metadata": {},
   "outputs": [
    {
     "data": {
      "text/plain": [
       "np.float64(108848979.24)"
      ]
     },
     "execution_count": 8,
     "metadata": {},
     "output_type": "execute_result"
    }
   ],
   "source": [
    "df.loc[df['year'] == 2019, 'total_amount'].sum().round(2) - df.loc[df['year'] == 2020, 'total_amount'].sum().round(2)"
   ]
  },
  {
   "cell_type": "markdown",
   "id": "b9fc92e7",
   "metadata": {},
   "source": [
    "Did the proportion of trips with more than one passenger change dramatically?"
   ]
  },
  {
   "cell_type": "code",
   "execution_count": 9,
   "id": "f4e214f6",
   "metadata": {},
   "outputs": [
    {
     "data": {
      "text/plain": [
       "np.float64(28.339000009559527)"
      ]
     },
     "execution_count": 9,
     "metadata": {},
     "output_type": "execute_result"
    }
   ],
   "source": [
    "df.loc[(df['year'] == 2019) & (df['passenger_count'] > 1), 'passenger_count'].count() / df.loc[df['year'] == 2019, 'payment_type'].count() * 100"
   ]
  },
  {
   "cell_type": "code",
   "execution_count": 10,
   "id": "be18f52d",
   "metadata": {},
   "outputs": [
    {
     "data": {
      "text/plain": [
       "np.float64(20.61513222563435)"
      ]
     },
     "execution_count": 10,
     "metadata": {},
     "output_type": "execute_result"
    }
   ],
   "source": [
    "df.loc[(df['year'] == 2020) & (df['passenger_count'] > 1), 'passenger_count'].count() / df.loc[df['year'] == 2020, 'payment_type'].count() * 100"
   ]
  },
  {
   "cell_type": "markdown",
   "id": "d8952448",
   "metadata": {},
   "source": [
    "Did people use cash (i.e., payment_type of 2) less in 2020 than in 2019?"
   ]
  },
  {
   "cell_type": "code",
   "execution_count": 11,
   "id": "435b4926",
   "metadata": {},
   "outputs": [
    {
     "data": {
      "text/plain": [
       "np.float64(28.705958454287927)"
      ]
     },
     "execution_count": 11,
     "metadata": {},
     "output_type": "execute_result"
    }
   ],
   "source": [
    "df.loc[(df['year'] == 2019) & (df['payment_type'] == 2), 'payment_type'].count() / df.loc[df['year'] == 2019, 'payment_type'].count() * 100"
   ]
  },
  {
   "cell_type": "code",
   "execution_count": 12,
   "id": "6603b6c7",
   "metadata": {},
   "outputs": [
    {
     "data": {
      "text/plain": [
       "np.float64(32.0558865998251)"
      ]
     },
     "execution_count": 12,
     "metadata": {},
     "output_type": "execute_result"
    }
   ],
   "source": [
    "df.loc[(df['year'] == 2020) & (df['payment_type'] == 2), 'payment_type'].count() / df.loc[df['year'] == 2020, 'payment_type'].count() * 100"
   ]
  },
  {
   "cell_type": "markdown",
   "id": "b9ebfd84",
   "metadata": {},
   "source": [
    "Show, with a single command, the difference in descriptive statistics for total_amount between 2019 and 2020. Round values to use no more than two digits after the decimal point."
   ]
  },
  {
   "cell_type": "code",
   "execution_count": 13,
   "id": "a7fdc951",
   "metadata": {},
   "outputs": [
    {
     "data": {
      "text/plain": [
       "count   -5510007.00\n",
       "mean          -0.98\n",
       "std           -0.75\n",
       "min           53.20\n",
       "25%           -0.50\n",
       "50%           -0.60\n",
       "75%           -0.75\n",
       "max        -4672.45\n",
       "Name: total_amount, dtype: float64"
      ]
     },
     "execution_count": 13,
     "metadata": {},
     "output_type": "execute_result"
    }
   ],
   "source": [
    "df.loc[df['year'] == 2020, 'total_amount'].describe().round(2) - df.loc[df['year'] == 2019, 'total_amount'].describe().round(2)"
   ]
  },
  {
   "cell_type": "markdown",
   "id": "1fb1103a",
   "metadata": {},
   "source": [
    "If we assume that zero-passenger trips are for delivering packages, how were those affected during the pandemic? Show the proportion of such trips in 2019 vs. 2020."
   ]
  },
  {
   "cell_type": "code",
   "execution_count": 14,
   "id": "fd103a0e",
   "metadata": {},
   "outputs": [
    {
     "data": {
      "text/plain": [
       "np.float64(1.666432611802781)"
      ]
     },
     "execution_count": 14,
     "metadata": {},
     "output_type": "execute_result"
    }
   ],
   "source": [
    "df.loc[(df['year'] == 2019) & (df['passenger_count'] == 0), 'passenger_count'].count() / df['passenger_count'].count() * 100"
   ]
  },
  {
   "cell_type": "code",
   "execution_count": 15,
   "id": "7dda1215",
   "metadata": {},
   "outputs": [
    {
     "data": {
      "text/plain": [
       "np.float64(0.2780999497435495)"
      ]
     },
     "execution_count": 15,
     "metadata": {},
     "output_type": "execute_result"
    }
   ],
   "source": [
    "df.loc[(df['year'] == 2020) & (df['passenger_count'] == 0), 'passenger_count'].count() / df['passenger_count'].count() * 100"
   ]
  }
 ],
 "metadata": {
  "kernelspec": {
   "display_name": "Python 3",
   "language": "python",
   "name": "python3"
  },
  "language_info": {
   "codemirror_mode": {
    "name": "ipython",
    "version": 3
   },
   "file_extension": ".py",
   "mimetype": "text/x-python",
   "name": "python",
   "nbconvert_exporter": "python",
   "pygments_lexer": "ipython3",
   "version": "3.13.5"
  }
 },
 "nbformat": 4,
 "nbformat_minor": 5
}
