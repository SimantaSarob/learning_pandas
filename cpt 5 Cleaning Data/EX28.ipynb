{
 "cells": [
  {
   "cell_type": "code",
   "execution_count": 1,
   "id": "82d1d21d",
   "metadata": {},
   "outputs": [],
   "source": [
    "import pandas as pd\n",
    "import numpy as np"
   ]
  },
  {
   "cell_type": "code",
   "execution_count": 2,
   "id": "7cb35eec",
   "metadata": {},
   "outputs": [],
   "source": [
    "df = pd.read_csv('../data/nyc-parking-violations-2020.csv',\n",
    "                 usecols=['Plate ID',\n",
    "                          'Registration State', \n",
    "                          'Vehicle Make', \n",
    "                          'Vehicle Color', \n",
    "                          'Street Name'],\n",
    "                 )"
   ]
  },
  {
   "cell_type": "code",
   "execution_count": 3,
   "id": "15a2bc46",
   "metadata": {},
   "outputs": [
    {
     "data": {
      "text/plain": [
       "np.int64(1896)"
      ]
     },
     "execution_count": 3,
     "metadata": {},
     "output_type": "execute_result"
    }
   ],
   "source": [
    "df['Vehicle Color'].value_counts().count()"
   ]
  },
  {
   "cell_type": "code",
   "execution_count": 4,
   "id": "0c4e6454",
   "metadata": {},
   "outputs": [
    {
     "data": {
      "text/plain": [
       "1896"
      ]
     },
     "execution_count": 4,
     "metadata": {},
     "output_type": "execute_result"
    }
   ],
   "source": [
    "len(df['Vehicle Color'].value_counts().index)"
   ]
  },
  {
   "cell_type": "code",
   "execution_count": 5,
   "id": "43dd5663",
   "metadata": {},
   "outputs": [
    {
     "data": {
      "text/plain": [
       "Vehicle Color\n",
       "WH       2344858\n",
       "GY       2307704\n",
       "BK       2066374\n",
       "WHITE    1061234\n",
       "BL        775124\n",
       "Name: count, dtype: int64"
      ]
     },
     "execution_count": 5,
     "metadata": {},
     "output_type": "execute_result"
    }
   ],
   "source": [
    "df['Vehicle Color'].value_counts().head()"
   ]
  },
  {
   "cell_type": "code",
   "execution_count": 6,
   "id": "5af3ccd9",
   "metadata": {},
   "outputs": [
    {
     "data": {
      "text/plain": [
       "1880"
      ]
     },
     "execution_count": 6,
     "metadata": {},
     "output_type": "execute_result"
    }
   ],
   "source": [
    "colormap = {'WH': 'WHITE', 'GY':'GRAY', 'BK':'BLACK',\n",
    "            'BL':'BLUE', 'RD':'RED',\n",
    "            'GR':'GRAY', 'TN':'TAN', 'BR':'BROWN',\n",
    "            'YW':'YELLO', 'BLK':'BLACK', 'GRY':'GRAY',\n",
    "            'WHT':'WHITE', 'WHI':'WHITE', 'OR':'ORANGE',\n",
    "            'BK.':'BLACK', 'WT':'WHITE', 'WT.':'WHITE'}\n",
    "\n",
    "df['Vehicle Color'] = df['Vehicle Color'].replace(colormap)\n",
    "len(df['Vehicle Color'].value_counts().index)"
   ]
  },
  {
   "cell_type": "code",
   "execution_count": 7,
   "id": "903dd999",
   "metadata": {},
   "outputs": [
    {
     "data": {
      "text/plain": [
       "Vehicle Color\n",
       "WHITE    3521461\n",
       "BLACK    2650853\n",
       "GRAY     2578014\n",
       "BLUE      953422\n",
       "RED       644991\n",
       "Name: count, dtype: int64"
      ]
     },
     "execution_count": 7,
     "metadata": {},
     "output_type": "execute_result"
    }
   ],
   "source": [
    "df['Vehicle Color'].value_counts().head()"
   ]
  },
  {
   "cell_type": "code",
   "execution_count": 8,
   "id": "10b95b66",
   "metadata": {},
   "outputs": [
    {
     "data": {
      "text/plain": [
       "1880"
      ]
     },
     "execution_count": 8,
     "metadata": {},
     "output_type": "execute_result"
    }
   ],
   "source": [
    "colormap = {'WH': 'WHITE', 'GY':'GRAY',\n",
    "            'BK':'BLACK', 'BL':'BLUE',\n",
    "            'RD':'RED', 'GR':'GRAY',\n",
    "            'TN':'TAN', 'BR':'BROWN',\n",
    "            'YW':'YELLO', 'BLK':'BLACK',\n",
    "            'GRY':'GRAY', 'WHT':'WHITE',\n",
    "            'WHI':'WHITE', 'OR':'ORANG',\n",
    "            'BK.':'BLACK', 'WT':'WHITE',\n",
    "            'WT.':'WHITE'}\n",
    "\n",
    "df['Vehicle Color'] = df['Vehicle Color'].replace(colormap)\n",
    "len(df['Vehicle Color'].value_counts().index)"
   ]
  },
  {
   "cell_type": "code",
   "execution_count": 9,
   "id": "a99a8126",
   "metadata": {},
   "outputs": [
    {
     "data": {
      "text/plain": [
       "Vehicle Color\n",
       "WHITE    3521461\n",
       "BLACK    2650853\n",
       "GRAY     2578014\n",
       "BLUE      953422\n",
       "RED       644991\n",
       "Name: count, dtype: int64"
      ]
     },
     "execution_count": 9,
     "metadata": {},
     "output_type": "execute_result"
    }
   ],
   "source": [
    "df['Vehicle Color'].value_counts().head()"
   ]
  },
  {
   "cell_type": "code",
   "execution_count": 10,
   "id": "37138c10",
   "metadata": {},
   "outputs": [
    {
     "data": {
      "text/plain": [
       "Vehicle Make\n",
       "TOYOT    1395273\n",
       "HONDA    1343265\n",
       "FORD     1328063\n",
       "NISSA    1119587\n",
       "CHEVR     711464\n",
       "          ...   \n",
       "AUS            1\n",
       "HHSU           1\n",
       "CARBY          1\n",
       "KEW W          1\n",
       "VWJ            1\n",
       "Name: count, Length: 5210, dtype: int64"
      ]
     },
     "execution_count": 10,
     "metadata": {},
     "output_type": "execute_result"
    }
   ],
   "source": [
    "df['Vehicle Make'].value_counts()"
   ]
  },
  {
   "cell_type": "code",
   "execution_count": 11,
   "id": "7a63d4fe",
   "metadata": {},
   "outputs": [
    {
     "name": "stdout",
     "output_type": "stream",
     "text": [
      "5210\n",
      "4915\n"
     ]
    }
   ],
   "source": [
    "import string\n",
    "\n",
    "def clean_name(one_string):\n",
    "\n",
    "    if not isinstance(one_string, str):\n",
    "        return one_string\n",
    "\n",
    "    output = ''\n",
    "    \n",
    "    for one_character in one_string.strip().upper():\n",
    "        if one_character in string.ascii_uppercase:\n",
    "            output += one_character\n",
    "\n",
    "    return output\n",
    "\n",
    "print(len(df['Vehicle Make'].value_counts()))\n",
    "df['Vehicle Make'] = df['Vehicle Make'].apply(clean_name)\n",
    "print(len(df['Vehicle Make'].value_counts()))"
   ]
  },
  {
   "cell_type": "code",
   "execution_count": 12,
   "id": "c4f54447",
   "metadata": {},
   "outputs": [
    {
     "data": {
      "text/plain": [
       "Vehicle Make\n",
       "TOYOT    1396714\n",
       "HONDA    1344479\n",
       "FORD     1329493\n",
       "NISSA    1121782\n",
       "CHEVR     712494\n",
       "          ...   \n",
       "REFEL          1\n",
       "TOMO           1\n",
       "HADA           1\n",
       "KAWG           1\n",
       "ACYRA          1\n",
       "Name: count, Length: 4915, dtype: int64"
      ]
     },
     "execution_count": 12,
     "metadata": {},
     "output_type": "execute_result"
    }
   ],
   "source": [
    "df['Vehicle Make'].value_counts()"
   ]
  }
 ],
 "metadata": {
  "kernelspec": {
   "display_name": "Python 3",
   "language": "python",
   "name": "python3"
  },
  "language_info": {
   "codemirror_mode": {
    "name": "ipython",
    "version": 3
   },
   "file_extension": ".py",
   "mimetype": "text/x-python",
   "name": "python",
   "nbconvert_exporter": "python",
   "pygments_lexer": "ipython3",
   "version": "3.13.5"
  }
 },
 "nbformat": 4,
 "nbformat_minor": 5
}
