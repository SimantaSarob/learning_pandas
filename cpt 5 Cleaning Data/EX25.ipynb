{
 "cells": [
  {
   "cell_type": "code",
   "execution_count": 1,
   "id": "6226a8ca",
   "metadata": {},
   "outputs": [],
   "source": [
    "import pandas as pd\n",
    "\n",
    "import numpy as np"
   ]
  },
  {
   "cell_type": "code",
   "execution_count": 2,
   "id": "a6d0723e",
   "metadata": {},
   "outputs": [],
   "source": [
    "df = pd.read_csv('../data/nyc-parking-violations-2020.csv',\n",
    "                usecols=['Plate ID',\n",
    "                    'Registration State',\n",
    "                    'Vehicle Make',\n",
    "                    'Vehicle Color',\n",
    "                    'Violation Time',\n",
    "                    'Street Name'])"
   ]
  },
  {
   "cell_type": "code",
   "execution_count": 3,
   "id": "f1cd694e",
   "metadata": {},
   "outputs": [
    {
     "data": {
      "text/plain": [
       "Plate ID                 202\n",
       "Registration State         0\n",
       "Vehicle Make           62420\n",
       "Violation Time           278\n",
       "Street Name             1417\n",
       "Vehicle Color         391982\n",
       "dtype: int64"
      ]
     },
     "execution_count": 3,
     "metadata": {},
     "output_type": "execute_result"
    }
   ],
   "source": [
    "df.isnull().sum()"
   ]
  },
  {
   "cell_type": "code",
   "execution_count": 4,
   "id": "c929ab1c",
   "metadata": {},
   "outputs": [
    {
     "data": {
      "text/plain": [
       "944"
      ]
     },
     "execution_count": 4,
     "metadata": {},
     "output_type": "execute_result"
    }
   ],
   "source": [
    "no_blankplate_df = df.replace({'Plate ID':'BLANKPLATE'}, pd.NA).dropna(subset=['Plate ID', 'Registration State', 'Vehicle Make', 'Street Name'], thresh=3)\n",
    "df.shape[0] - no_blankplate_df.shape[0]"
   ]
  },
  {
   "cell_type": "code",
   "execution_count": 5,
   "id": "bcb2f6b0",
   "metadata": {},
   "outputs": [
    {
     "name": "stdout",
     "output_type": "stream",
     "text": [
      "<class 'pandas.core.frame.DataFrame'>\n",
      "RangeIndex: 12495734 entries, 0 to 12495733\n",
      "Data columns (total 6 columns):\n",
      " #   Column              Non-Null Count     Dtype \n",
      "---  ------              --------------     ----- \n",
      " 0   Plate ID            12495532 non-null  object\n",
      " 1   Registration State  12495734 non-null  object\n",
      " 2   Vehicle Make        12433314 non-null  object\n",
      " 3   Violation Time      12495456 non-null  object\n",
      " 4   Street Name         12494317 non-null  object\n",
      " 5   Vehicle Color       12103752 non-null  object\n",
      "dtypes: object(6)\n",
      "memory usage: 572.0+ MB\n"
     ]
    }
   ],
   "source": [
    "df.info(show_counts=True)"
   ]
  },
  {
   "cell_type": "code",
   "execution_count": 6,
   "id": "a9718ff3",
   "metadata": {},
   "outputs": [
    {
     "data": {
      "text/plain": [
       "'\\ndf.shape[0]\\nlen(df)\\nlen(df.index)\\n'"
      ]
     },
     "execution_count": 6,
     "metadata": {},
     "output_type": "execute_result"
    }
   ],
   "source": [
    "'''\n",
    "df.shape[0]\n",
    "len(df)\n",
    "len(df.index)\n",
    "'''\n"
   ]
  },
  {
   "cell_type": "code",
   "execution_count": 7,
   "id": "acf94beb",
   "metadata": {},
   "outputs": [
    {
     "name": "stdout",
     "output_type": "stream",
     "text": [
      "<class 'pandas.core.frame.DataFrame'>\n",
      "Index: 12048375 entries, 0 to 12495733\n",
      "Data columns (total 6 columns):\n",
      " #   Column              Non-Null Count     Dtype \n",
      "---  ------              --------------     ----- \n",
      " 0   Plate ID            12048375 non-null  object\n",
      " 1   Registration State  12048375 non-null  object\n",
      " 2   Vehicle Make        12048375 non-null  object\n",
      " 3   Violation Time      12048375 non-null  object\n",
      " 4   Street Name         12048375 non-null  object\n",
      " 5   Vehicle Color       12048375 non-null  object\n",
      "dtypes: object(6)\n",
      "memory usage: 643.5+ MB\n"
     ]
    }
   ],
   "source": [
    "df = df.dropna()\n",
    "df.info(show_counts= True)"
   ]
  },
  {
   "cell_type": "code",
   "execution_count": 8,
   "id": "01d8a574",
   "metadata": {},
   "outputs": [
    {
     "data": {
      "text/html": [
       "<div>\n",
       "<style scoped>\n",
       "    .dataframe tbody tr th:only-of-type {\n",
       "        vertical-align: middle;\n",
       "    }\n",
       "\n",
       "    .dataframe tbody tr th {\n",
       "        vertical-align: top;\n",
       "    }\n",
       "\n",
       "    .dataframe thead th {\n",
       "        text-align: right;\n",
       "    }\n",
       "</style>\n",
       "<table border=\"1\" class=\"dataframe\">\n",
       "  <thead>\n",
       "    <tr style=\"text-align: right;\">\n",
       "      <th></th>\n",
       "      <th>Plate ID</th>\n",
       "      <th>Registration State</th>\n",
       "      <th>Vehicle Make</th>\n",
       "      <th>Violation Time</th>\n",
       "      <th>Street Name</th>\n",
       "      <th>Vehicle Color</th>\n",
       "    </tr>\n",
       "  </thead>\n",
       "  <tbody>\n",
       "    <tr>\n",
       "      <th>0</th>\n",
       "      <td>J58JKX</td>\n",
       "      <td>NJ</td>\n",
       "      <td>HONDA</td>\n",
       "      <td>0523P</td>\n",
       "      <td>43 ST</td>\n",
       "      <td>BK</td>\n",
       "    </tr>\n",
       "    <tr>\n",
       "      <th>1</th>\n",
       "      <td>KRE6058</td>\n",
       "      <td>PA</td>\n",
       "      <td>ME/BE</td>\n",
       "      <td>0428P</td>\n",
       "      <td>UNION ST</td>\n",
       "      <td>BLK</td>\n",
       "    </tr>\n",
       "    <tr>\n",
       "      <th>2</th>\n",
       "      <td>444326R</td>\n",
       "      <td>NJ</td>\n",
       "      <td>LEXUS</td>\n",
       "      <td>0625A</td>\n",
       "      <td>CLERMONT AVENUE</td>\n",
       "      <td>BLACK</td>\n",
       "    </tr>\n",
       "    <tr>\n",
       "      <th>4</th>\n",
       "      <td>FMY9090</td>\n",
       "      <td>NY</td>\n",
       "      <td>JEEP</td>\n",
       "      <td>1253A</td>\n",
       "      <td>GRAND ST</td>\n",
       "      <td>GREY</td>\n",
       "    </tr>\n",
       "    <tr>\n",
       "      <th>5</th>\n",
       "      <td>KDG0693</td>\n",
       "      <td>PA</td>\n",
       "      <td>HYUN</td>\n",
       "      <td>0525P</td>\n",
       "      <td>B 99 ST</td>\n",
       "      <td>GY</td>\n",
       "    </tr>\n",
       "  </tbody>\n",
       "</table>\n",
       "</div>"
      ],
      "text/plain": [
       "  Plate ID Registration State Vehicle Make Violation Time      Street Name  \\\n",
       "0   J58JKX                 NJ        HONDA          0523P            43 ST   \n",
       "1  KRE6058                 PA        ME/BE          0428P         UNION ST   \n",
       "2  444326R                 NJ        LEXUS          0625A  CLERMONT AVENUE   \n",
       "4  FMY9090                 NY         JEEP          1253A         GRAND ST   \n",
       "5  KDG0693                 PA         HYUN          0525P          B 99 ST   \n",
       "\n",
       "  Vehicle Color  \n",
       "0            BK  \n",
       "1           BLK  \n",
       "2         BLACK  \n",
       "4          GREY  \n",
       "5            GY  "
      ]
     },
     "execution_count": 8,
     "metadata": {},
     "output_type": "execute_result"
    }
   ],
   "source": [
    "semi_good_df = df.dropna(subset=['Plate ID',\n",
    "                                'Registration State',\n",
    "                                'Vehicle Make',\n",
    "                                'Street Name'])\n",
    "semi_good_df.head()"
   ]
  },
  {
   "cell_type": "code",
   "execution_count": null,
   "id": "2f4d9fae",
   "metadata": {},
   "outputs": [
    {
     "data": {
      "text/html": [
       "<div>\n",
       "<style scoped>\n",
       "    .dataframe tbody tr th:only-of-type {\n",
       "        vertical-align: middle;\n",
       "    }\n",
       "\n",
       "    .dataframe tbody tr th {\n",
       "        vertical-align: top;\n",
       "    }\n",
       "\n",
       "    .dataframe thead th {\n",
       "        text-align: right;\n",
       "    }\n",
       "</style>\n",
       "<table border=\"1\" class=\"dataframe\">\n",
       "  <thead>\n",
       "    <tr style=\"text-align: right;\">\n",
       "      <th></th>\n",
       "      <th>Plate ID</th>\n",
       "      <th>Registration State</th>\n",
       "      <th>Vehicle Make</th>\n",
       "      <th>Violation Time</th>\n",
       "      <th>Street Name</th>\n",
       "      <th>Vehicle Color</th>\n",
       "    </tr>\n",
       "  </thead>\n",
       "  <tbody>\n",
       "    <tr>\n",
       "      <th>5</th>\n",
       "      <td>KDG0693</td>\n",
       "      <td>PA</td>\n",
       "      <td>HYUN</td>\n",
       "      <td>0525P</td>\n",
       "      <td>B 99 ST</td>\n",
       "      <td>GY</td>\n",
       "    </tr>\n",
       "    <tr>\n",
       "      <th>2757</th>\n",
       "      <td>CWHF86</td>\n",
       "      <td>FL</td>\n",
       "      <td>HYUN</td>\n",
       "      <td>0755P</td>\n",
       "      <td>AVENUE U</td>\n",
       "      <td>BLK</td>\n",
       "    </tr>\n",
       "    <tr>\n",
       "      <th>3249</th>\n",
       "      <td>HHJ8869</td>\n",
       "      <td>NY</td>\n",
       "      <td>HYUN</td>\n",
       "      <td>1018P</td>\n",
       "      <td>AUDUBON AVE</td>\n",
       "      <td>RED</td>\n",
       "    </tr>\n",
       "    <tr>\n",
       "      <th>3338</th>\n",
       "      <td>HWU2970</td>\n",
       "      <td>NY</td>\n",
       "      <td>HYUN</td>\n",
       "      <td>0159A</td>\n",
       "      <td>153 ST</td>\n",
       "      <td>BLK</td>\n",
       "    </tr>\n",
       "    <tr>\n",
       "      <th>3548</th>\n",
       "      <td>HAM2192</td>\n",
       "      <td>99</td>\n",
       "      <td>HYUN</td>\n",
       "      <td>1111A</td>\n",
       "      <td>FLATLANDS AVE</td>\n",
       "      <td>GREY</td>\n",
       "    </tr>\n",
       "    <tr>\n",
       "      <th>...</th>\n",
       "      <td>...</td>\n",
       "      <td>...</td>\n",
       "      <td>...</td>\n",
       "      <td>...</td>\n",
       "      <td>...</td>\n",
       "      <td>...</td>\n",
       "    </tr>\n",
       "    <tr>\n",
       "      <th>12478389</th>\n",
       "      <td>HLR9954</td>\n",
       "      <td>OH</td>\n",
       "      <td>HYUN</td>\n",
       "      <td>0555P</td>\n",
       "      <td>EB ATLANTIC AVE @ 13</td>\n",
       "      <td>SILVE</td>\n",
       "    </tr>\n",
       "    <tr>\n",
       "      <th>12480570</th>\n",
       "      <td>GKPN93</td>\n",
       "      <td>FL</td>\n",
       "      <td>HYUN</td>\n",
       "      <td>1029A</td>\n",
       "      <td>EB LINDEN BLVD @ ROC</td>\n",
       "      <td>BLU</td>\n",
       "    </tr>\n",
       "    <tr>\n",
       "      <th>12482622</th>\n",
       "      <td>JBJE99</td>\n",
       "      <td>FL</td>\n",
       "      <td>HYUN</td>\n",
       "      <td>1125A</td>\n",
       "      <td>NB WEST ST @ CARLISL</td>\n",
       "      <td>WHI</td>\n",
       "    </tr>\n",
       "    <tr>\n",
       "      <th>12494985</th>\n",
       "      <td>HTC5573</td>\n",
       "      <td>NY</td>\n",
       "      <td>HYUN</td>\n",
       "      <td>0540P</td>\n",
       "      <td>FT TILDEN</td>\n",
       "      <td>BLU</td>\n",
       "    </tr>\n",
       "    <tr>\n",
       "      <th>12495143</th>\n",
       "      <td>LIDY76</td>\n",
       "      <td>NJ</td>\n",
       "      <td>HYUN</td>\n",
       "      <td>0102P</td>\n",
       "      <td>EDGEWATER RD</td>\n",
       "      <td>GR</td>\n",
       "    </tr>\n",
       "  </tbody>\n",
       "</table>\n",
       "<p>7532 rows × 6 columns</p>\n",
       "</div>"
      ],
      "text/plain": [
       "         Plate ID Registration State Vehicle Make Violation Time  \\\n",
       "5         KDG0693                 PA         HYUN          0525P   \n",
       "2757       CWHF86                 FL         HYUN          0755P   \n",
       "3249      HHJ8869                 NY         HYUN          1018P   \n",
       "3338      HWU2970                 NY         HYUN          0159A   \n",
       "3548      HAM2192                 99         HYUN          1111A   \n",
       "...           ...                ...          ...            ...   \n",
       "12478389  HLR9954                 OH         HYUN          0555P   \n",
       "12480570   GKPN93                 FL         HYUN          1029A   \n",
       "12482622   JBJE99                 FL         HYUN          1125A   \n",
       "12494985  HTC5573                 NY         HYUN          0540P   \n",
       "12495143   LIDY76                 NJ         HYUN          0102P   \n",
       "\n",
       "                   Street Name Vehicle Color  \n",
       "5                      B 99 ST            GY  \n",
       "2757                  AVENUE U           BLK  \n",
       "3249               AUDUBON AVE           RED  \n",
       "3338                    153 ST           BLK  \n",
       "3548             FLATLANDS AVE          GREY  \n",
       "...                        ...           ...  \n",
       "12478389  EB ATLANTIC AVE @ 13         SILVE  \n",
       "12480570  EB LINDEN BLVD @ ROC           BLU  \n",
       "12482622  NB WEST ST @ CARLISL           WHI  \n",
       "12494985             FT TILDEN           BLU  \n",
       "12495143          EDGEWATER RD            GR  \n",
       "\n",
       "[7532 rows x 6 columns]"
      ]
     },
     "execution_count": 9,
     "metadata": {},
     "output_type": "execute_result"
    }
   ],
   "source": [
    "semi_good_df[semi_good_df['Vehicle Make'] == 'HYUN']"
   ]
  },
  {
   "cell_type": "code",
   "execution_count": null,
   "id": "f5989a89",
   "metadata": {},
   "outputs": [],
   "source": []
  }
 ],
 "metadata": {
  "kernelspec": {
   "display_name": "Python 3",
   "language": "python",
   "name": "python3"
  },
  "language_info": {
   "codemirror_mode": {
    "name": "ipython",
    "version": 3
   },
   "file_extension": ".py",
   "mimetype": "text/x-python",
   "name": "python",
   "nbconvert_exporter": "python",
   "pygments_lexer": "ipython3",
   "version": "3.13.5"
  }
 },
 "nbformat": 4,
 "nbformat_minor": 5
}
